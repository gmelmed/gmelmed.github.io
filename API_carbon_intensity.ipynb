{
  "nbformat": 4,
  "nbformat_minor": 0,
  "metadata": {
    "colab": {
      "provenance": [],
      "collapsed_sections": []
    },
    "kernelspec": {
      "name": "python3",
      "display_name": "Python 3"
    },
    "language_info": {
      "name": "python"
    }
  },
  "cells": [
    {
      "cell_type": "code",
      "metadata": {
        "id": "XOiCWTturVek"
      },
      "source": [
        "import pandas as pd\n",
        "import requests"
      ],
      "execution_count": null,
      "outputs": []
    },
    {
      "cell_type": "code",
      "metadata": {
        "id": "q5gPPr26rWdc"
      },
      "source": [
        "now=pd.to_datetime('now')"
      ],
      "execution_count": null,
      "outputs": []
    },
    {
      "cell_type": "code",
      "metadata": {
        "colab": {
          "base_uri": "https://localhost:8080/",
          "height": 35
        },
        "id": "aqaCcwknrXry",
        "outputId": "95516cc5-ee55-4fdf-d47d-a9ea24b34e19"
      },
      "source": [
        "javascript_date_string=str(now.date())+'T'+str(now.time())+'Z'\n",
        "javascript_date_string"
      ],
      "execution_count": null,
      "outputs": [
        {
          "output_type": "execute_result",
          "data": {
            "application/vnd.google.colaboratory.intrinsic+json": {
              "type": "string"
            },
            "text/plain": [
              "'2021-12-04T18:21:16.568929Z'"
            ]
          },
          "metadata": {},
          "execution_count": 11
        }
      ]
    },
    {
      "cell_type": "code",
      "metadata": {
        "colab": {
          "base_uri": "https://localhost:8080/",
          "height": 423
        },
        "id": "93AJ37hzrxpT",
        "outputId": "58257ed5-6691-4af6-f719-5671056fda31"
      },
      "source": [
        "url='https://api.carbonintensity.org.uk/intensity/'+javascript_date_string+'/fw48h'\n",
        "pd.json_normalize(requests.get(url).json()['data'])"
      ],
      "execution_count": null,
      "outputs": [
        {
          "output_type": "execute_result",
          "data": {
            "text/html": [
              "<div>\n",
              "<style scoped>\n",
              "    .dataframe tbody tr th:only-of-type {\n",
              "        vertical-align: middle;\n",
              "    }\n",
              "\n",
              "    .dataframe tbody tr th {\n",
              "        vertical-align: top;\n",
              "    }\n",
              "\n",
              "    .dataframe thead th {\n",
              "        text-align: right;\n",
              "    }\n",
              "</style>\n",
              "<table border=\"1\" class=\"dataframe\">\n",
              "  <thead>\n",
              "    <tr style=\"text-align: right;\">\n",
              "      <th></th>\n",
              "      <th>from</th>\n",
              "      <th>to</th>\n",
              "      <th>intensity.forecast</th>\n",
              "      <th>intensity.actual</th>\n",
              "      <th>intensity.index</th>\n",
              "    </tr>\n",
              "  </thead>\n",
              "  <tbody>\n",
              "    <tr>\n",
              "      <th>0</th>\n",
              "      <td>2021-12-04T18:00Z</td>\n",
              "      <td>2021-12-04T18:30Z</td>\n",
              "      <td>156</td>\n",
              "      <td>None</td>\n",
              "      <td>moderate</td>\n",
              "    </tr>\n",
              "    <tr>\n",
              "      <th>1</th>\n",
              "      <td>2021-12-04T18:30Z</td>\n",
              "      <td>2021-12-04T19:00Z</td>\n",
              "      <td>156</td>\n",
              "      <td>None</td>\n",
              "      <td>moderate</td>\n",
              "    </tr>\n",
              "    <tr>\n",
              "      <th>2</th>\n",
              "      <td>2021-12-04T19:00Z</td>\n",
              "      <td>2021-12-04T19:30Z</td>\n",
              "      <td>154</td>\n",
              "      <td>None</td>\n",
              "      <td>moderate</td>\n",
              "    </tr>\n",
              "    <tr>\n",
              "      <th>3</th>\n",
              "      <td>2021-12-04T19:30Z</td>\n",
              "      <td>2021-12-04T20:00Z</td>\n",
              "      <td>141</td>\n",
              "      <td>None</td>\n",
              "      <td>moderate</td>\n",
              "    </tr>\n",
              "    <tr>\n",
              "      <th>4</th>\n",
              "      <td>2021-12-04T20:00Z</td>\n",
              "      <td>2021-12-04T20:30Z</td>\n",
              "      <td>127</td>\n",
              "      <td>None</td>\n",
              "      <td>low</td>\n",
              "    </tr>\n",
              "    <tr>\n",
              "      <th>...</th>\n",
              "      <td>...</td>\n",
              "      <td>...</td>\n",
              "      <td>...</td>\n",
              "      <td>...</td>\n",
              "      <td>...</td>\n",
              "    </tr>\n",
              "    <tr>\n",
              "      <th>91</th>\n",
              "      <td>2021-12-06T15:30Z</td>\n",
              "      <td>2021-12-06T16:00Z</td>\n",
              "      <td>169</td>\n",
              "      <td>None</td>\n",
              "      <td>moderate</td>\n",
              "    </tr>\n",
              "    <tr>\n",
              "      <th>92</th>\n",
              "      <td>2021-12-06T16:00Z</td>\n",
              "      <td>2021-12-06T16:30Z</td>\n",
              "      <td>174</td>\n",
              "      <td>None</td>\n",
              "      <td>moderate</td>\n",
              "    </tr>\n",
              "    <tr>\n",
              "      <th>93</th>\n",
              "      <td>2021-12-06T16:30Z</td>\n",
              "      <td>2021-12-06T17:00Z</td>\n",
              "      <td>176</td>\n",
              "      <td>None</td>\n",
              "      <td>moderate</td>\n",
              "    </tr>\n",
              "    <tr>\n",
              "      <th>94</th>\n",
              "      <td>2021-12-06T17:00Z</td>\n",
              "      <td>2021-12-06T17:30Z</td>\n",
              "      <td>177</td>\n",
              "      <td>None</td>\n",
              "      <td>moderate</td>\n",
              "    </tr>\n",
              "    <tr>\n",
              "      <th>95</th>\n",
              "      <td>2021-12-06T17:30Z</td>\n",
              "      <td>2021-12-06T18:00Z</td>\n",
              "      <td>175</td>\n",
              "      <td>None</td>\n",
              "      <td>moderate</td>\n",
              "    </tr>\n",
              "  </tbody>\n",
              "</table>\n",
              "<p>96 rows × 5 columns</p>\n",
              "</div>"
            ],
            "text/plain": [
              "                 from                 to  ...  intensity.actual intensity.index\n",
              "0   2021-12-04T18:00Z  2021-12-04T18:30Z  ...              None        moderate\n",
              "1   2021-12-04T18:30Z  2021-12-04T19:00Z  ...              None        moderate\n",
              "2   2021-12-04T19:00Z  2021-12-04T19:30Z  ...              None        moderate\n",
              "3   2021-12-04T19:30Z  2021-12-04T20:00Z  ...              None        moderate\n",
              "4   2021-12-04T20:00Z  2021-12-04T20:30Z  ...              None             low\n",
              "..                ...                ...  ...               ...             ...\n",
              "91  2021-12-06T15:30Z  2021-12-06T16:00Z  ...              None        moderate\n",
              "92  2021-12-06T16:00Z  2021-12-06T16:30Z  ...              None        moderate\n",
              "93  2021-12-06T16:30Z  2021-12-06T17:00Z  ...              None        moderate\n",
              "94  2021-12-06T17:00Z  2021-12-06T17:30Z  ...              None        moderate\n",
              "95  2021-12-06T17:30Z  2021-12-06T18:00Z  ...              None        moderate\n",
              "\n",
              "[96 rows x 5 columns]"
            ]
          },
          "metadata": {},
          "execution_count": 14
        }
      ]
    },
    {
      "cell_type": "code",
      "metadata": {
        "colab": {
          "base_uri": "https://localhost:8080/",
          "height": 423
        },
        "id": "WHa-KmLUr8Za",
        "outputId": "dac58429-a14f-4067-a0ab-b269c5fa3a2a"
      },
      "source": [
        "# however, your api also works wiht just the date (without the hours) - as this is also a valid JavaScript Date string\n",
        "javascript_date_string=str(now.date())\n",
        "url='https://api.carbonintensity.org.uk/intensity/'+javascript_date_string+'/fw48h'\n",
        "pd.json_normalize(requests.get(url).json()['data'])"
      ],
      "execution_count": null,
      "outputs": [
        {
          "output_type": "execute_result",
          "data": {
            "text/html": [
              "<div>\n",
              "<style scoped>\n",
              "    .dataframe tbody tr th:only-of-type {\n",
              "        vertical-align: middle;\n",
              "    }\n",
              "\n",
              "    .dataframe tbody tr th {\n",
              "        vertical-align: top;\n",
              "    }\n",
              "\n",
              "    .dataframe thead th {\n",
              "        text-align: right;\n",
              "    }\n",
              "</style>\n",
              "<table border=\"1\" class=\"dataframe\">\n",
              "  <thead>\n",
              "    <tr style=\"text-align: right;\">\n",
              "      <th></th>\n",
              "      <th>from</th>\n",
              "      <th>to</th>\n",
              "      <th>intensity.forecast</th>\n",
              "      <th>intensity.actual</th>\n",
              "      <th>intensity.index</th>\n",
              "    </tr>\n",
              "  </thead>\n",
              "  <tbody>\n",
              "    <tr>\n",
              "      <th>0</th>\n",
              "      <td>2021-12-03T23:30Z</td>\n",
              "      <td>2021-12-04T00:00Z</td>\n",
              "      <td>219</td>\n",
              "      <td>179.0</td>\n",
              "      <td>moderate</td>\n",
              "    </tr>\n",
              "    <tr>\n",
              "      <th>1</th>\n",
              "      <td>2021-12-04T00:00Z</td>\n",
              "      <td>2021-12-04T00:30Z</td>\n",
              "      <td>222</td>\n",
              "      <td>174.0</td>\n",
              "      <td>moderate</td>\n",
              "    </tr>\n",
              "    <tr>\n",
              "      <th>2</th>\n",
              "      <td>2021-12-04T00:30Z</td>\n",
              "      <td>2021-12-04T01:00Z</td>\n",
              "      <td>199</td>\n",
              "      <td>176.0</td>\n",
              "      <td>moderate</td>\n",
              "    </tr>\n",
              "    <tr>\n",
              "      <th>3</th>\n",
              "      <td>2021-12-04T01:00Z</td>\n",
              "      <td>2021-12-04T01:30Z</td>\n",
              "      <td>215</td>\n",
              "      <td>167.0</td>\n",
              "      <td>moderate</td>\n",
              "    </tr>\n",
              "    <tr>\n",
              "      <th>4</th>\n",
              "      <td>2021-12-04T01:30Z</td>\n",
              "      <td>2021-12-04T02:00Z</td>\n",
              "      <td>180</td>\n",
              "      <td>159.0</td>\n",
              "      <td>moderate</td>\n",
              "    </tr>\n",
              "    <tr>\n",
              "      <th>...</th>\n",
              "      <td>...</td>\n",
              "      <td>...</td>\n",
              "      <td>...</td>\n",
              "      <td>...</td>\n",
              "      <td>...</td>\n",
              "    </tr>\n",
              "    <tr>\n",
              "      <th>92</th>\n",
              "      <td>2021-12-05T21:30Z</td>\n",
              "      <td>2021-12-05T22:00Z</td>\n",
              "      <td>233</td>\n",
              "      <td>NaN</td>\n",
              "      <td>high</td>\n",
              "    </tr>\n",
              "    <tr>\n",
              "      <th>93</th>\n",
              "      <td>2021-12-05T22:00Z</td>\n",
              "      <td>2021-12-05T22:30Z</td>\n",
              "      <td>226</td>\n",
              "      <td>NaN</td>\n",
              "      <td>high</td>\n",
              "    </tr>\n",
              "    <tr>\n",
              "      <th>94</th>\n",
              "      <td>2021-12-05T22:30Z</td>\n",
              "      <td>2021-12-05T23:00Z</td>\n",
              "      <td>219</td>\n",
              "      <td>NaN</td>\n",
              "      <td>moderate</td>\n",
              "    </tr>\n",
              "    <tr>\n",
              "      <th>95</th>\n",
              "      <td>2021-12-05T23:00Z</td>\n",
              "      <td>2021-12-05T23:30Z</td>\n",
              "      <td>210</td>\n",
              "      <td>NaN</td>\n",
              "      <td>moderate</td>\n",
              "    </tr>\n",
              "    <tr>\n",
              "      <th>96</th>\n",
              "      <td>2021-12-05T23:30Z</td>\n",
              "      <td>2021-12-06T00:00Z</td>\n",
              "      <td>203</td>\n",
              "      <td>NaN</td>\n",
              "      <td>moderate</td>\n",
              "    </tr>\n",
              "  </tbody>\n",
              "</table>\n",
              "<p>97 rows × 5 columns</p>\n",
              "</div>"
            ],
            "text/plain": [
              "                 from                 to  ...  intensity.actual  intensity.index\n",
              "0   2021-12-03T23:30Z  2021-12-04T00:00Z  ...             179.0         moderate\n",
              "1   2021-12-04T00:00Z  2021-12-04T00:30Z  ...             174.0         moderate\n",
              "2   2021-12-04T00:30Z  2021-12-04T01:00Z  ...             176.0         moderate\n",
              "3   2021-12-04T01:00Z  2021-12-04T01:30Z  ...             167.0         moderate\n",
              "4   2021-12-04T01:30Z  2021-12-04T02:00Z  ...             159.0         moderate\n",
              "..                ...                ...  ...               ...              ...\n",
              "92  2021-12-05T21:30Z  2021-12-05T22:00Z  ...               NaN             high\n",
              "93  2021-12-05T22:00Z  2021-12-05T22:30Z  ...               NaN             high\n",
              "94  2021-12-05T22:30Z  2021-12-05T23:00Z  ...               NaN         moderate\n",
              "95  2021-12-05T23:00Z  2021-12-05T23:30Z  ...               NaN         moderate\n",
              "96  2021-12-05T23:30Z  2021-12-06T00:00Z  ...               NaN         moderate\n",
              "\n",
              "[97 rows x 5 columns]"
            ]
          },
          "metadata": {},
          "execution_count": 15
        }
      ]
    },
    {
      "cell_type": "code",
      "metadata": {
        "id": "M3YPotWfsWR8"
      },
      "source": [],
      "execution_count": null,
      "outputs": []
    }
  ]
}