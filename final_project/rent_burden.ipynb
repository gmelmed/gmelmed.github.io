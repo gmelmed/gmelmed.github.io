{
 "cells": [
  {
   "cell_type": "code",
   "execution_count": 7,
   "metadata": {},
   "outputs": [
    {
     "name": "stdout",
     "output_type": "stream",
     "text": [
      "Requirement already satisfied: us in /Users/gabrielmelmed/.local/pipx/venvs/jupyterlab/lib/python3.13/site-packages (3.2.0)\n",
      "Requirement already satisfied: easymoney in /Users/gabrielmelmed/.local/pipx/venvs/jupyterlab/lib/python3.13/site-packages (1.5.0)\n",
      "Collecting census\n",
      "  Downloading census-0.8.23-py3-none-any.whl.metadata (8.1 kB)\n",
      "Requirement already satisfied: jellyfish in /Users/gabrielmelmed/.local/pipx/venvs/jupyterlab/lib/python3.13/site-packages (from us) (1.1.3)\n",
      "Requirement already satisfied: numpy in /Users/gabrielmelmed/.local/pipx/venvs/jupyterlab/lib/python3.13/site-packages (from easymoney) (2.2.3)\n",
      "Requirement already satisfied: pandas in /Users/gabrielmelmed/.local/pipx/venvs/jupyterlab/lib/python3.13/site-packages (from easymoney) (2.2.3)\n",
      "Requirement already satisfied: pycountry in /Users/gabrielmelmed/.local/pipx/venvs/jupyterlab/lib/python3.13/site-packages (from easymoney) (24.6.1)\n",
      "Requirement already satisfied: requests in /Users/gabrielmelmed/.local/pipx/venvs/jupyterlab/lib/python3.13/site-packages (from easymoney) (2.32.3)\n",
      "Requirement already satisfied: wbdata in /Users/gabrielmelmed/.local/pipx/venvs/jupyterlab/lib/python3.13/site-packages (from easymoney) (1.0.0)\n",
      "Requirement already satisfied: charset-normalizer<4,>=2 in /Users/gabrielmelmed/.local/pipx/venvs/jupyterlab/lib/python3.13/site-packages (from requests->easymoney) (3.4.1)\n",
      "Requirement already satisfied: idna<4,>=2.5 in /Users/gabrielmelmed/.local/pipx/venvs/jupyterlab/lib/python3.13/site-packages (from requests->easymoney) (3.10)\n",
      "Requirement already satisfied: urllib3<3,>=1.21.1 in /Users/gabrielmelmed/.local/pipx/venvs/jupyterlab/lib/python3.13/site-packages (from requests->easymoney) (2.3.0)\n",
      "Requirement already satisfied: certifi>=2017.4.17 in /Users/gabrielmelmed/.local/pipx/venvs/jupyterlab/lib/python3.13/site-packages (from requests->easymoney) (2025.1.31)\n",
      "Requirement already satisfied: python-dateutil>=2.8.2 in /Users/gabrielmelmed/.local/pipx/venvs/jupyterlab/lib/python3.13/site-packages (from pandas->easymoney) (2.9.0.post0)\n",
      "Requirement already satisfied: pytz>=2020.1 in /Users/gabrielmelmed/.local/pipx/venvs/jupyterlab/lib/python3.13/site-packages (from pandas->easymoney) (2025.1)\n",
      "Requirement already satisfied: tzdata>=2022.7 in /Users/gabrielmelmed/.local/pipx/venvs/jupyterlab/lib/python3.13/site-packages (from pandas->easymoney) (2025.1)\n",
      "Requirement already satisfied: appdirs<2.0,>=1.4 in /Users/gabrielmelmed/.local/pipx/venvs/jupyterlab/lib/python3.13/site-packages (from wbdata->easymoney) (1.4.4)\n",
      "Requirement already satisfied: backoff<3.0.0,>=2.2.1 in /Users/gabrielmelmed/.local/pipx/venvs/jupyterlab/lib/python3.13/site-packages (from wbdata->easymoney) (2.2.1)\n",
      "Requirement already satisfied: cachetools<6.0.0,>=5.3.2 in /Users/gabrielmelmed/.local/pipx/venvs/jupyterlab/lib/python3.13/site-packages (from wbdata->easymoney) (5.5.2)\n",
      "Requirement already satisfied: dateparser<2.0.0,>=1.2.0 in /Users/gabrielmelmed/.local/pipx/venvs/jupyterlab/lib/python3.13/site-packages (from wbdata->easymoney) (1.2.1)\n",
      "Requirement already satisfied: decorator<6.0.0,>=5.1.1 in /Users/gabrielmelmed/.local/pipx/venvs/jupyterlab/lib/python3.13/site-packages (from wbdata->easymoney) (5.2.1)\n",
      "Requirement already satisfied: shelved-cache<0.4.0,>=0.3.1 in /Users/gabrielmelmed/.local/pipx/venvs/jupyterlab/lib/python3.13/site-packages (from wbdata->easymoney) (0.3.1)\n",
      "Requirement already satisfied: tabulate<0.9.0,>=0.8.5 in /Users/gabrielmelmed/.local/pipx/venvs/jupyterlab/lib/python3.13/site-packages (from wbdata->easymoney) (0.8.10)\n",
      "Requirement already satisfied: regex!=2019.02.19,!=2021.8.27,>=2015.06.24 in /Users/gabrielmelmed/.local/pipx/venvs/jupyterlab/lib/python3.13/site-packages (from dateparser<2.0.0,>=1.2.0->wbdata->easymoney) (2024.11.6)\n",
      "Requirement already satisfied: tzlocal>=0.2 in /Users/gabrielmelmed/.local/pipx/venvs/jupyterlab/lib/python3.13/site-packages (from dateparser<2.0.0,>=1.2.0->wbdata->easymoney) (5.3.1)\n",
      "Requirement already satisfied: six>=1.5 in /Users/gabrielmelmed/.local/pipx/venvs/jupyterlab/lib/python3.13/site-packages (from python-dateutil>=2.8.2->pandas->easymoney) (1.17.0)\n",
      "Downloading census-0.8.23-py3-none-any.whl (11 kB)\n",
      "Installing collected packages: census\n",
      "Successfully installed census-0.8.23\n",
      "Note: you may need to restart the kernel to use updated packages.\n"
     ]
    }
   ],
   "source": [
    "%pip install us easymoney census"
   ]
  },
  {
   "cell_type": "code",
   "execution_count": 5,
   "metadata": {},
   "outputs": [],
   "source": [
    "import requests, csv \n",
    "import us\n",
    "import pandas as pd\n",
    "import time\n",
    "from easymoney.money import EasyPeasy\n",
    "import json"
   ]
  },
  {
   "cell_type": "code",
   "execution_count": 8,
   "metadata": {},
   "outputs": [],
   "source": [
    "# import necessary libraries\n",
    "import census\n",
    "import us\n",
    "from typing import Dict, List\n",
    "import pandas as pd\n",
    "from requests.exceptions import ConnectionError, Timeout"
   ]
  },
  {
   "cell_type": "code",
   "execution_count": 9,
   "metadata": {},
   "outputs": [],
   "source": [
    "# user input for api key\n",
    "api_key = input(\"Enter your API key: \")"
   ]
  },
  {
   "cell_type": "code",
   "execution_count": 10,
   "metadata": {},
   "outputs": [],
   "source": [
    "c = census.Census(api_key)"
   ]
  },
  {
   "cell_type": "code",
   "execution_count": 11,
   "metadata": {},
   "outputs": [],
   "source": [
    "def get_census_data(c, series_code: str, dataset: str = 'acs1', geo_level: str = 'state') -> pd.DataFrame:\n",
    "    \"\"\"\n",
    "    Gets census data for all available years between 2010-2024.\n",
    "    \n",
    "    Parameters:\n",
    "    -----------\n",
    "    c : Census client object\n",
    "    series_code : str\n",
    "        The census series code to fetch\n",
    "    dataset : str\n",
    "        Census dataset to query (e.g., 'acs1', 'acs5', 'sf1', etc.)\n",
    "    geo_level : str\n",
    "        Geographic level for data ('state' or 'county')\n",
    "        \n",
    "    Returns:\n",
    "    --------\n",
    "    pd.DataFrame with columns:\n",
    "        - id: numeric state FIPS or combined state+county FIPS\n",
    "        - value: the requested census value\n",
    "        - year: year of observation\n",
    "    \"\"\"\n",
    "    data_rows = []\n",
    "    \n",
    "    for year in range(2010, 2024):\n",
    "        try:\n",
    "            census_dataset = getattr(c, dataset)\n",
    "            \n",
    "            if geo_level == 'state':\n",
    "                data = census_dataset.get(series_code, {'for': 'state:*'}, year=year)\n",
    "                for row in data:\n",
    "                    data_rows.append({\n",
    "                        'id': int(row['state']),\n",
    "                        'value': row[series_code],\n",
    "                        'year': year\n",
    "                    })\n",
    "            else:  # county level\n",
    "                data = census_dataset.get(\n",
    "                    series_code,\n",
    "                    {'for': 'county:*', 'in': 'state:*'},\n",
    "                    year=year\n",
    "                )\n",
    "                for row in data:\n",
    "                    # Create combined FIPS code: state (2 digits) + county (3 digits)\n",
    "                    fips = int(str(row['state']).zfill(2) + str(row['county']).zfill(3))\n",
    "                    data_rows.append({\n",
    "                        'id': fips,\n",
    "                        'value': row[series_code],\n",
    "                        'year': year\n",
    "                    })\n",
    "                \n",
    "        except Exception as e:\n",
    "            print(f\"Failed to fetch {year} data from {dataset}: {str(e)}\")\n",
    "            \n",
    "    df = pd.DataFrame(data_rows)\n",
    "    df['value'] = pd.to_numeric(df['value'])\n",
    "    return df"
   ]
  },
  {
   "cell_type": "code",
   "execution_count": 12,
   "metadata": {},
   "outputs": [
    {
     "name": "stdout",
     "output_type": "stream",
     "text": [
      "Failed to fetch 2020 data from acs1: <!doctype html><html lang=\"en\"><head><title>HTTP Status 404 ? Not Found</title><style type=\"text/css\">body {font-family:Tahoma,Arial,sans-serif;} h1, h2, h3, b {color:white;background-color:#525D76;} h1 {font-size:22px;} h2 {font-size:16px;} h3 {font-size:14px;} p {font-size:12px;} a {color:black;} .line {height:1px;background-color:#525D76;border:none;}</style></head><body><h1>HTTP Status 404 ? Not Found</h1></body></html>\n"
     ]
    }
   ],
   "source": [
    "# get population data for all counties\n",
    "population = get_census_data(c, 'B01003_001E', geo_level='county')\n"
   ]
  },
  {
   "cell_type": "code",
   "execution_count": 13,
   "metadata": {},
   "outputs": [
    {
     "data": {
      "application/vnd.microsoft.datawrangler.viewer.v0+json": {
       "columns": [
        {
         "name": "index",
         "rawType": "int64",
         "type": "integer"
        },
        {
         "name": "fips",
         "rawType": "int64",
         "type": "integer"
        },
        {
         "name": "name",
         "rawType": "object",
         "type": "string"
        }
       ],
       "conversionMethod": "pd.DataFrame",
       "ref": "53bf7281-2ae1-49f4-9097-ecc6dc026a8b",
       "rows": [
        [
         "0",
         "1001",
         "Autauga County, Alabama"
        ],
        [
         "1",
         "1007",
         "Bibb County, Alabama"
        ],
        [
         "2",
         "1017",
         "Chambers County, Alabama"
        ],
        [
         "3",
         "1019",
         "Cherokee County, Alabama"
        ],
        [
         "4",
         "1025",
         "Clarke County, Alabama"
        ],
        [
         "5",
         "1013",
         "Butler County, Alabama"
        ],
        [
         "6",
         "1009",
         "Blount County, Alabama"
        ],
        [
         "7",
         "1011",
         "Bullock County, Alabama"
        ],
        [
         "8",
         "1021",
         "Chilton County, Alabama"
        ],
        [
         "9",
         "1023",
         "Choctaw County, Alabama"
        ],
        [
         "10",
         "1037",
         "Coosa County, Alabama"
        ],
        [
         "11",
         "1027",
         "Clay County, Alabama"
        ],
        [
         "12",
         "1029",
         "Cleburne County, Alabama"
        ],
        [
         "13",
         "1031",
         "Coffee County, Alabama"
        ],
        [
         "14",
         "1035",
         "Conecuh County, Alabama"
        ],
        [
         "15",
         "1033",
         "Colbert County, Alabama"
        ],
        [
         "16",
         "1053",
         "Escambia County, Alabama"
        ],
        [
         "17",
         "1039",
         "Covington County, Alabama"
        ],
        [
         "18",
         "1041",
         "Crenshaw County, Alabama"
        ],
        [
         "19",
         "1043",
         "Cullman County, Alabama"
        ],
        [
         "20",
         "1045",
         "Dale County, Alabama"
        ],
        [
         "21",
         "1047",
         "Dallas County, Alabama"
        ],
        [
         "22",
         "1049",
         "DeKalb County, Alabama"
        ],
        [
         "23",
         "1051",
         "Elmore County, Alabama"
        ],
        [
         "24",
         "1065",
         "Hale County, Alabama"
        ],
        [
         "25",
         "1055",
         "Etowah County, Alabama"
        ],
        [
         "26",
         "1057",
         "Fayette County, Alabama"
        ],
        [
         "27",
         "1059",
         "Franklin County, Alabama"
        ],
        [
         "28",
         "1061",
         "Geneva County, Alabama"
        ],
        [
         "29",
         "1063",
         "Greene County, Alabama"
        ],
        [
         "30",
         "1081",
         "Lee County, Alabama"
        ],
        [
         "31",
         "1067",
         "Henry County, Alabama"
        ],
        [
         "32",
         "1069",
         "Houston County, Alabama"
        ],
        [
         "33",
         "1071",
         "Jackson County, Alabama"
        ],
        [
         "34",
         "1073",
         "Jefferson County, Alabama"
        ],
        [
         "35",
         "1075",
         "Lamar County, Alabama"
        ],
        [
         "36",
         "1077",
         "Lauderdale County, Alabama"
        ],
        [
         "37",
         "1079",
         "Lawrence County, Alabama"
        ],
        [
         "38",
         "1099",
         "Monroe County, Alabama"
        ],
        [
         "39",
         "1083",
         "Limestone County, Alabama"
        ],
        [
         "40",
         "1085",
         "Lowndes County, Alabama"
        ],
        [
         "41",
         "1087",
         "Macon County, Alabama"
        ],
        [
         "42",
         "1089",
         "Madison County, Alabama"
        ],
        [
         "43",
         "1091",
         "Marengo County, Alabama"
        ],
        [
         "44",
         "1093",
         "Marion County, Alabama"
        ],
        [
         "45",
         "1097",
         "Mobile County, Alabama"
        ],
        [
         "46",
         "1095",
         "Marshall County, Alabama"
        ],
        [
         "47",
         "1115",
         "St. Clair County, Alabama"
        ],
        [
         "48",
         "1101",
         "Montgomery County, Alabama"
        ],
        [
         "49",
         "1103",
         "Morgan County, Alabama"
        ]
       ],
       "shape": {
        "columns": 2,
        "rows": 3142
       }
      },
      "text/html": [
       "<div>\n",
       "<style scoped>\n",
       "    .dataframe tbody tr th:only-of-type {\n",
       "        vertical-align: middle;\n",
       "    }\n",
       "\n",
       "    .dataframe tbody tr th {\n",
       "        vertical-align: top;\n",
       "    }\n",
       "\n",
       "    .dataframe thead th {\n",
       "        text-align: right;\n",
       "    }\n",
       "</style>\n",
       "<table border=\"1\" class=\"dataframe\">\n",
       "  <thead>\n",
       "    <tr style=\"text-align: right;\">\n",
       "      <th></th>\n",
       "      <th>fips</th>\n",
       "      <th>name</th>\n",
       "    </tr>\n",
       "  </thead>\n",
       "  <tbody>\n",
       "    <tr>\n",
       "      <th>0</th>\n",
       "      <td>1001</td>\n",
       "      <td>Autauga County, Alabama</td>\n",
       "    </tr>\n",
       "    <tr>\n",
       "      <th>1</th>\n",
       "      <td>1007</td>\n",
       "      <td>Bibb County, Alabama</td>\n",
       "    </tr>\n",
       "    <tr>\n",
       "      <th>2</th>\n",
       "      <td>1017</td>\n",
       "      <td>Chambers County, Alabama</td>\n",
       "    </tr>\n",
       "    <tr>\n",
       "      <th>3</th>\n",
       "      <td>1019</td>\n",
       "      <td>Cherokee County, Alabama</td>\n",
       "    </tr>\n",
       "    <tr>\n",
       "      <th>4</th>\n",
       "      <td>1025</td>\n",
       "      <td>Clarke County, Alabama</td>\n",
       "    </tr>\n",
       "    <tr>\n",
       "      <th>...</th>\n",
       "      <td>...</td>\n",
       "      <td>...</td>\n",
       "    </tr>\n",
       "    <tr>\n",
       "      <th>3137</th>\n",
       "      <td>56037</td>\n",
       "      <td>Sweetwater County, Wyoming</td>\n",
       "    </tr>\n",
       "    <tr>\n",
       "      <th>3138</th>\n",
       "      <td>56039</td>\n",
       "      <td>Teton County, Wyoming</td>\n",
       "    </tr>\n",
       "    <tr>\n",
       "      <th>3139</th>\n",
       "      <td>56041</td>\n",
       "      <td>Uinta County, Wyoming</td>\n",
       "    </tr>\n",
       "    <tr>\n",
       "      <th>3140</th>\n",
       "      <td>56045</td>\n",
       "      <td>Weston County, Wyoming</td>\n",
       "    </tr>\n",
       "    <tr>\n",
       "      <th>3141</th>\n",
       "      <td>56043</td>\n",
       "      <td>Washakie County, Wyoming</td>\n",
       "    </tr>\n",
       "  </tbody>\n",
       "</table>\n",
       "<p>3142 rows × 2 columns</p>\n",
       "</div>"
      ],
      "text/plain": [
       "       fips                        name\n",
       "0      1001     Autauga County, Alabama\n",
       "1      1007        Bibb County, Alabama\n",
       "2      1017    Chambers County, Alabama\n",
       "3      1019    Cherokee County, Alabama\n",
       "4      1025      Clarke County, Alabama\n",
       "...     ...                         ...\n",
       "3137  56037  Sweetwater County, Wyoming\n",
       "3138  56039       Teton County, Wyoming\n",
       "3139  56041       Uinta County, Wyoming\n",
       "3140  56045      Weston County, Wyoming\n",
       "3141  56043    Washakie County, Wyoming\n",
       "\n",
       "[3142 rows x 2 columns]"
      ]
     },
     "execution_count": 13,
     "metadata": {},
     "output_type": "execute_result"
    }
   ],
   "source": [
    "# get name of every county in the US and match to fips using us library\n",
    "county_names = []\n",
    "for state in us.states.STATES:\n",
    "    counties = c.sf1.get('NAME', geo={'for': 'county:*', 'in': f'state:{state.fips}'})\n",
    "    for county in counties:\n",
    "        county_names.append({'fips': int(county['state'] + county['county']), 'name': county['NAME']})\n",
    "\n",
    "county_names = pd.DataFrame(county_names)\n",
    "\n",
    "county_names "
   ]
  },
  {
   "cell_type": "code",
   "execution_count": 14,
   "metadata": {},
   "outputs": [
    {
     "name": "stdout",
     "output_type": "stream",
     "text": [
      "Failed to fetch 2010 data from acs1: error: unknown variable 'B25140_010E'\n",
      "Failed to fetch 2011 data from acs1: error: unknown variable 'B25140_010E'\n",
      "Failed to fetch 2012 data from acs1: error: unknown variable 'B25140_010E'\n",
      "Failed to fetch 2013 data from acs1: error: unknown variable 'B25140_010E'\n",
      "Failed to fetch 2014 data from acs1: error: unknown variable 'B25140_010E'\n",
      "Failed to fetch 2015 data from acs1: error: unknown variable 'B25140_010E'\n",
      "Failed to fetch 2016 data from acs1: error: unknown variable 'B25140_010E'\n",
      "Failed to fetch 2017 data from acs1: error: unknown variable 'B25140_010E'\n",
      "Failed to fetch 2018 data from acs1: error: unknown variable 'B25140_010E'\n",
      "Failed to fetch 2019 data from acs1: error: unknown variable 'B25140_010E'\n",
      "Failed to fetch 2020 data from acs1: <!doctype html><html lang=\"en\"><head><title>HTTP Status 404 ? Not Found</title><style type=\"text/css\">body {font-family:Tahoma,Arial,sans-serif;} h1, h2, h3, b {color:white;background-color:#525D76;} h1 {font-size:22px;} h2 {font-size:16px;} h3 {font-size:14px;} p {font-size:12px;} a {color:black;} .line {height:1px;background-color:#525D76;border:none;}</style></head><body><h1>HTTP Status 404 ? Not Found</h1></body></html>\n",
      "Failed to fetch 2021 data from acs1: error: unknown variable 'B25140_010E'\n",
      "Failed to fetch 2010 data from acs1: error: unknown variable 'B25140_011E'\n",
      "Failed to fetch 2011 data from acs1: error: unknown variable 'B25140_011E'\n",
      "Failed to fetch 2012 data from acs1: error: unknown variable 'B25140_011E'\n",
      "Failed to fetch 2013 data from acs1: error: unknown variable 'B25140_011E'\n",
      "Failed to fetch 2014 data from acs1: error: unknown variable 'B25140_011E'\n",
      "Failed to fetch 2015 data from acs1: error: unknown variable 'B25140_011E'\n",
      "Failed to fetch 2016 data from acs1: error: unknown variable 'B25140_011E'\n",
      "Failed to fetch 2017 data from acs1: error: unknown variable 'B25140_011E'\n",
      "Failed to fetch 2018 data from acs1: error: unknown variable 'B25140_011E'\n",
      "Failed to fetch 2019 data from acs1: error: unknown variable 'B25140_011E'\n",
      "Failed to fetch 2020 data from acs1: <!doctype html><html lang=\"en\"><head><title>HTTP Status 404 ? Not Found</title><style type=\"text/css\">body {font-family:Tahoma,Arial,sans-serif;} h1, h2, h3, b {color:white;background-color:#525D76;} h1 {font-size:22px;} h2 {font-size:16px;} h3 {font-size:14px;} p {font-size:12px;} a {color:black;} .line {height:1px;background-color:#525D76;border:none;}</style></head><body><h1>HTTP Status 404 ? Not Found</h1></body></html>\n",
      "Failed to fetch 2021 data from acs1: error: unknown variable 'B25140_011E'\n",
      "Failed to fetch 2010 data from acs1: error: unknown variable 'B25140_012E'\n",
      "Failed to fetch 2011 data from acs1: error: unknown variable 'B25140_012E'\n",
      "Failed to fetch 2012 data from acs1: error: unknown variable 'B25140_012E'\n",
      "Failed to fetch 2013 data from acs1: error: unknown variable 'B25140_012E'\n",
      "Failed to fetch 2014 data from acs1: error: unknown variable 'B25140_012E'\n",
      "Failed to fetch 2015 data from acs1: error: unknown variable 'B25140_012E'\n",
      "Failed to fetch 2016 data from acs1: error: unknown variable 'B25140_012E'\n",
      "Failed to fetch 2017 data from acs1: error: unknown variable 'B25140_012E'\n",
      "Failed to fetch 2018 data from acs1: error: unknown variable 'B25140_012E'\n",
      "Failed to fetch 2019 data from acs1: error: unknown variable 'B25140_012E'\n",
      "Failed to fetch 2020 data from acs1: <!doctype html><html lang=\"en\"><head><title>HTTP Status 404 ? Not Found</title><style type=\"text/css\">body {font-family:Tahoma,Arial,sans-serif;} h1, h2, h3, b {color:white;background-color:#525D76;} h1 {font-size:22px;} h2 {font-size:16px;} h3 {font-size:14px;} p {font-size:12px;} a {color:black;} .line {height:1px;background-color:#525D76;border:none;}</style></head><body><h1>HTTP Status 404 ? Not Found</h1></body></html>\n",
      "Failed to fetch 2021 data from acs1: error: unknown variable 'B25140_012E'\n"
     ]
    }
   ],
   "source": [
    "# number of renting HHs\n",
    "renters = get_census_data(c, 'B25140_010E', geo_level='county')\n",
    "\n",
    "# burdened renting HHs\n",
    "burdened_renters = get_census_data(c, 'B25140_011E', geo_level='county')\n",
    "\n",
    "# extreme burdened renting HHs\n",
    "extreme_burdened_renters = get_census_data(c, 'B25140_012E', geo_level='county')"
   ]
  },
  {
   "cell_type": "code",
   "execution_count": 15,
   "metadata": {},
   "outputs": [
    {
     "data": {
      "application/vnd.microsoft.datawrangler.viewer.v0+json": {
       "columns": [
        {
         "name": "index",
         "rawType": "int64",
         "type": "integer"
        },
        {
         "name": "id",
         "rawType": "int64",
         "type": "integer"
        },
        {
         "name": "renters",
         "rawType": "float64",
         "type": "float"
        },
        {
         "name": "year",
         "rawType": "int64",
         "type": "integer"
        },
        {
         "name": "burdened_renters",
         "rawType": "float64",
         "type": "float"
        },
        {
         "name": "extreme_burdened_renters",
         "rawType": "float64",
         "type": "float"
        }
       ],
       "conversionMethod": "pd.DataFrame",
       "ref": "6ef2b224-4c6c-4e7e-b84e-ff0c890406eb",
       "rows": [
        [
         "0",
         "1003",
         "22641.0",
         "2022",
         "9925.0",
         "6832.0"
        ],
        [
         "1",
         "1015",
         "12835.0",
         "2022",
         "4729.0",
         "2299.0"
        ],
        [
         "2",
         "1043",
         "7752.0",
         "2022",
         "2747.0",
         "1565.0"
        ],
        [
         "3",
         "1049",
         "7215.0",
         "2022",
         "1705.0",
         "1175.0"
        ],
        [
         "4",
         "1051",
         "7934.0",
         "2022",
         "2031.0",
         "882.0"
        ],
        [
         "5",
         "1055",
         "10684.0",
         "2022",
         "4046.0",
         "2734.0"
        ],
        [
         "6",
         "1069",
         "14517.0",
         "2022",
         "5161.0",
         "2773.0"
        ],
        [
         "7",
         "1073",
         "100789.0",
         "2022",
         "50671.0",
         "28447.0"
        ],
        [
         "8",
         "1077",
         "11701.0",
         "2022",
         "3663.0",
         "2045.0"
        ],
        [
         "9",
         "1081",
         "24281.0",
         "2022",
         "12372.0",
         "7970.0"
        ],
        [
         "10",
         "1083",
         "8251.0",
         "2022",
         "2102.0",
         "1131.0"
        ],
        [
         "11",
         "1089",
         "52737.0",
         "2022",
         "21465.0",
         "10099.0"
        ],
        [
         "12",
         "1095",
         "10343.0",
         "2022",
         "3214.0",
         "1414.0"
        ],
        [
         "13",
         "1097",
         "55507.0",
         "2022",
         "27164.0",
         "15868.0"
        ],
        [
         "14",
         "1101",
         "34995.0",
         "2022",
         "14471.0",
         "8517.0"
        ],
        [
         "15",
         "1103",
         "12345.0",
         "2022",
         "4637.0",
         "2295.0"
        ],
        [
         "16",
         "1115",
         "7042.0",
         "2022",
         "2923.0",
         "1719.0"
        ],
        [
         "17",
         "1117",
         "16671.0",
         "2022",
         "7887.0",
         "3856.0"
        ],
        [
         "18",
         "1121",
         "11674.0",
         "2022",
         "3319.0",
         "1973.0"
        ],
        [
         "19",
         "1125",
         "34055.0",
         "2022",
         "15602.0",
         "7323.0"
        ],
        [
         "20",
         "2020",
         "38499.0",
         "2022",
         "17713.0",
         "8852.0"
        ],
        [
         "21",
         "2090",
         "15099.0",
         "2022",
         "6251.0",
         "2424.0"
        ],
        [
         "22",
         "2170",
         "9590.0",
         "2022",
         "4179.0",
         "1873.0"
        ],
        [
         "23",
         "4001",
         "4341.0",
         "2022",
         "687.0",
         "353.0"
        ],
        [
         "24",
         "4003",
         "14066.0",
         "2022",
         "4872.0",
         "1872.0"
        ],
        [
         "25",
         "4005",
         "23522.0",
         "2022",
         "10202.0",
         "5569.0"
        ],
        [
         "26",
         "4013",
         "600091.0",
         "2022",
         "294793.0",
         "140964.0"
        ],
        [
         "27",
         "4015",
         "24096.0",
         "2022",
         "9608.0",
         "5114.0"
        ],
        [
         "28",
         "4017",
         "11887.0",
         "2022",
         "3550.0",
         "1760.0"
        ],
        [
         "29",
         "4019",
         "151368.0",
         "2022",
         "72821.0",
         "38247.0"
        ],
        [
         "30",
         "4021",
         "29078.0",
         "2022",
         "12626.0",
         "5715.0"
        ],
        [
         "31",
         "4025",
         "27193.0",
         "2022",
         "12606.0",
         "6134.0"
        ],
        [
         "32",
         "4027",
         "24034.0",
         "2022",
         "11833.0",
         "3471.0"
        ],
        [
         "33",
         "5007",
         "33330.0",
         "2022",
         "9224.0",
         "3632.0"
        ],
        [
         "34",
         "5031",
         "16849.0",
         "2022",
         "8499.0",
         "5070.0"
        ],
        [
         "35",
         "5045",
         "18532.0",
         "2022",
         "6415.0",
         "3670.0"
        ],
        [
         "36",
         "5051",
         "12920.0",
         "2022",
         "5534.0",
         "3524.0"
        ],
        [
         "37",
         "5069",
         "8617.0",
         "2022",
         "4082.0",
         "2648.0"
        ],
        [
         "38",
         "5085",
         "8497.0",
         "2022",
         "2610.0",
         "1374.0"
        ],
        [
         "39",
         "5119",
         "75648.0",
         "2022",
         "31817.0",
         "20445.0"
        ],
        [
         "40",
         "5125",
         "11567.0",
         "2022",
         "4615.0",
         "1557.0"
        ],
        [
         "41",
         "5131",
         "20728.0",
         "2022",
         "7496.0",
         "3684.0"
        ],
        [
         "42",
         "5143",
         "45137.0",
         "2022",
         "19093.0",
         "9434.0"
        ],
        [
         "43",
         "5145",
         "9784.0",
         "2022",
         "3567.0",
         "1362.0"
        ],
        [
         "44",
         "6001",
         "268342.0",
         "2022",
         "129303.0",
         "70425.0"
        ],
        [
         "45",
         "6007",
         "35231.0",
         "2022",
         "18550.0",
         "10508.0"
        ],
        [
         "46",
         "6013",
         "129575.0",
         "2022",
         "66268.0",
         "35193.0"
        ],
        [
         "47",
         "6017",
         "16271.0",
         "2022",
         "9017.0",
         "4374.0"
        ],
        [
         "48",
         "6019",
         "147190.0",
         "2022",
         "75892.0",
         "43955.0"
        ],
        [
         "49",
         "6023",
         "25240.0",
         "2022",
         "13119.0",
         "6681.0"
        ]
       ],
       "shape": {
        "columns": 5,
        "rows": 1702
       }
      },
      "text/html": [
       "<div>\n",
       "<style scoped>\n",
       "    .dataframe tbody tr th:only-of-type {\n",
       "        vertical-align: middle;\n",
       "    }\n",
       "\n",
       "    .dataframe tbody tr th {\n",
       "        vertical-align: top;\n",
       "    }\n",
       "\n",
       "    .dataframe thead th {\n",
       "        text-align: right;\n",
       "    }\n",
       "</style>\n",
       "<table border=\"1\" class=\"dataframe\">\n",
       "  <thead>\n",
       "    <tr style=\"text-align: right;\">\n",
       "      <th></th>\n",
       "      <th>id</th>\n",
       "      <th>renters</th>\n",
       "      <th>year</th>\n",
       "      <th>burdened_renters</th>\n",
       "      <th>extreme_burdened_renters</th>\n",
       "    </tr>\n",
       "  </thead>\n",
       "  <tbody>\n",
       "    <tr>\n",
       "      <th>0</th>\n",
       "      <td>1003</td>\n",
       "      <td>22641.0</td>\n",
       "      <td>2022</td>\n",
       "      <td>9925.0</td>\n",
       "      <td>6832.0</td>\n",
       "    </tr>\n",
       "    <tr>\n",
       "      <th>1</th>\n",
       "      <td>1015</td>\n",
       "      <td>12835.0</td>\n",
       "      <td>2022</td>\n",
       "      <td>4729.0</td>\n",
       "      <td>2299.0</td>\n",
       "    </tr>\n",
       "    <tr>\n",
       "      <th>2</th>\n",
       "      <td>1043</td>\n",
       "      <td>7752.0</td>\n",
       "      <td>2022</td>\n",
       "      <td>2747.0</td>\n",
       "      <td>1565.0</td>\n",
       "    </tr>\n",
       "    <tr>\n",
       "      <th>3</th>\n",
       "      <td>1049</td>\n",
       "      <td>7215.0</td>\n",
       "      <td>2022</td>\n",
       "      <td>1705.0</td>\n",
       "      <td>1175.0</td>\n",
       "    </tr>\n",
       "    <tr>\n",
       "      <th>4</th>\n",
       "      <td>1051</td>\n",
       "      <td>7934.0</td>\n",
       "      <td>2022</td>\n",
       "      <td>2031.0</td>\n",
       "      <td>882.0</td>\n",
       "    </tr>\n",
       "    <tr>\n",
       "      <th>...</th>\n",
       "      <td>...</td>\n",
       "      <td>...</td>\n",
       "      <td>...</td>\n",
       "      <td>...</td>\n",
       "      <td>...</td>\n",
       "    </tr>\n",
       "    <tr>\n",
       "      <th>1697</th>\n",
       "      <td>72113</td>\n",
       "      <td>21821.0</td>\n",
       "      <td>2023</td>\n",
       "      <td>6687.0</td>\n",
       "      <td>3085.0</td>\n",
       "    </tr>\n",
       "    <tr>\n",
       "      <th>1698</th>\n",
       "      <td>72127</td>\n",
       "      <td>69174.0</td>\n",
       "      <td>2023</td>\n",
       "      <td>24327.0</td>\n",
       "      <td>14200.0</td>\n",
       "    </tr>\n",
       "    <tr>\n",
       "      <th>1699</th>\n",
       "      <td>72135</td>\n",
       "      <td>4268.0</td>\n",
       "      <td>2023</td>\n",
       "      <td>1783.0</td>\n",
       "      <td>856.0</td>\n",
       "    </tr>\n",
       "    <tr>\n",
       "      <th>1700</th>\n",
       "      <td>72137</td>\n",
       "      <td>8563.0</td>\n",
       "      <td>2023</td>\n",
       "      <td>2021.0</td>\n",
       "      <td>1289.0</td>\n",
       "    </tr>\n",
       "    <tr>\n",
       "      <th>1701</th>\n",
       "      <td>72139</td>\n",
       "      <td>6472.0</td>\n",
       "      <td>2023</td>\n",
       "      <td>986.0</td>\n",
       "      <td>186.0</td>\n",
       "    </tr>\n",
       "  </tbody>\n",
       "</table>\n",
       "<p>1702 rows × 5 columns</p>\n",
       "</div>"
      ],
      "text/plain": [
       "         id  renters  year  burdened_renters  extreme_burdened_renters\n",
       "0      1003  22641.0  2022            9925.0                    6832.0\n",
       "1      1015  12835.0  2022            4729.0                    2299.0\n",
       "2      1043   7752.0  2022            2747.0                    1565.0\n",
       "3      1049   7215.0  2022            1705.0                    1175.0\n",
       "4      1051   7934.0  2022            2031.0                     882.0\n",
       "...     ...      ...   ...               ...                       ...\n",
       "1697  72113  21821.0  2023            6687.0                    3085.0\n",
       "1698  72127  69174.0  2023           24327.0                   14200.0\n",
       "1699  72135   4268.0  2023            1783.0                     856.0\n",
       "1700  72137   8563.0  2023            2021.0                    1289.0\n",
       "1701  72139   6472.0  2023             986.0                     186.0\n",
       "\n",
       "[1702 rows x 5 columns]"
      ]
     },
     "execution_count": 15,
     "metadata": {},
     "output_type": "execute_result"
    }
   ],
   "source": [
    "# change the value column to a meaninnful name in all dfs\n",
    "renters.rename(columns={'value': 'renters'}, inplace=True)\n",
    "burdened_renters.rename(columns={'value': 'burdened_renters'}, inplace=True)\n",
    "extreme_burdened_renters.rename(columns={'value': 'extreme_burdened_renters'}, inplace=True)\n",
    "\n",
    "# merge all dfs\n",
    "rental_data = pd.merge(renters, burdened_renters, on=['id', 'year'])\n",
    "rental_data = pd.merge(rental_data, extreme_burdened_renters, on=['id', 'year'])\n",
    "\n",
    "rental_data"
   ]
  },
  {
   "cell_type": "code",
   "execution_count": 16,
   "metadata": {},
   "outputs": [
    {
     "data": {
      "application/vnd.microsoft.datawrangler.viewer.v0+json": {
       "columns": [
        {
         "name": "index",
         "rawType": "int64",
         "type": "integer"
        },
        {
         "name": "id",
         "rawType": "int64",
         "type": "integer"
        },
        {
         "name": "renters",
         "rawType": "float64",
         "type": "float"
        },
        {
         "name": "year",
         "rawType": "int64",
         "type": "integer"
        },
        {
         "name": "burdened_renters",
         "rawType": "float64",
         "type": "float"
        },
        {
         "name": "extreme_burdened_renters",
         "rawType": "float64",
         "type": "float"
        },
        {
         "name": "burdened_renters_pct",
         "rawType": "float64",
         "type": "float"
        },
        {
         "name": "extreme_burdened_renters_pct",
         "rawType": "float64",
         "type": "float"
        }
       ],
       "conversionMethod": "pd.DataFrame",
       "ref": "89636330-575b-4599-b7f5-e6a0c6433ea5",
       "rows": [
        [
         "0",
         "1003",
         "22641.0",
         "2022",
         "9925.0",
         "6832.0",
         "0.43836402985733847",
         "0.30175345611942933"
        ],
        [
         "1",
         "1015",
         "12835.0",
         "2022",
         "4729.0",
         "2299.0",
         "0.36844565640825866",
         "0.17911959485781068"
        ],
        [
         "2",
         "1043",
         "7752.0",
         "2022",
         "2747.0",
         "1565.0",
         "0.35436016511867907",
         "0.20188338493292055"
        ],
        [
         "3",
         "1049",
         "7215.0",
         "2022",
         "1705.0",
         "1175.0",
         "0.2363132363132363",
         "0.16285516285516285"
        ],
        [
         "4",
         "1051",
         "7934.0",
         "2022",
         "2031.0",
         "882.0",
         "0.2559868918578271",
         "0.11116712881270481"
        ],
        [
         "5",
         "1055",
         "10684.0",
         "2022",
         "4046.0",
         "2734.0",
         "0.37869711718457505",
         "0.2558966679146387"
        ],
        [
         "6",
         "1069",
         "14517.0",
         "2022",
         "5161.0",
         "2773.0",
         "0.35551422470207344",
         "0.1910174278432183"
        ],
        [
         "7",
         "1073",
         "100789.0",
         "2022",
         "50671.0",
         "28447.0",
         "0.5027433549296054",
         "0.2822431019258054"
        ],
        [
         "8",
         "1077",
         "11701.0",
         "2022",
         "3663.0",
         "2045.0",
         "0.31305016665242286",
         "0.17477138706093495"
        ],
        [
         "9",
         "1081",
         "24281.0",
         "2022",
         "12372.0",
         "7970.0",
         "0.509534203698365",
         "0.3282401878011614"
        ],
        [
         "10",
         "1083",
         "8251.0",
         "2022",
         "2102.0",
         "1131.0",
         "0.254756999151618",
         "0.13707429402496668"
        ],
        [
         "11",
         "1089",
         "52737.0",
         "2022",
         "21465.0",
         "10099.0",
         "0.4070197394618579",
         "0.19149743064641522"
        ],
        [
         "12",
         "1095",
         "10343.0",
         "2022",
         "3214.0",
         "1414.0",
         "0.31074156434303396",
         "0.13671081891134101"
        ],
        [
         "13",
         "1097",
         "55507.0",
         "2022",
         "27164.0",
         "15868.0",
         "0.4893797178734214",
         "0.2858738537481759"
        ],
        [
         "14",
         "1101",
         "34995.0",
         "2022",
         "14471.0",
         "8517.0",
         "0.41351621660237176",
         "0.24337762537505359"
        ],
        [
         "15",
         "1103",
         "12345.0",
         "2022",
         "4637.0",
         "2295.0",
         "0.37561765897124344",
         "0.1859052247873633"
        ],
        [
         "16",
         "1115",
         "7042.0",
         "2022",
         "2923.0",
         "1719.0",
         "0.41508094291394493",
         "0.2441067878443624"
        ],
        [
         "17",
         "1117",
         "16671.0",
         "2022",
         "7887.0",
         "3856.0",
         "0.47309699478135686",
         "0.23129986203587066"
        ],
        [
         "18",
         "1121",
         "11674.0",
         "2022",
         "3319.0",
         "1973.0",
         "0.28430700702415623",
         "0.16900805208154873"
        ],
        [
         "19",
         "1125",
         "34055.0",
         "2022",
         "15602.0",
         "7323.0",
         "0.4581412421083541",
         "0.21503450300983704"
        ],
        [
         "20",
         "2020",
         "38499.0",
         "2022",
         "17713.0",
         "8852.0",
         "0.46008987246421984",
         "0.22992805007922285"
        ],
        [
         "21",
         "2090",
         "15099.0",
         "2022",
         "6251.0",
         "2424.0",
         "0.4140009272137228",
         "0.16054043314126765"
        ],
        [
         "22",
         "2170",
         "9590.0",
         "2022",
         "4179.0",
         "1873.0",
         "0.43576642335766425",
         "0.19530761209593325"
        ],
        [
         "23",
         "4001",
         "4341.0",
         "2022",
         "687.0",
         "353.0",
         "0.15825846579129232",
         "0.08131766873992168"
        ],
        [
         "24",
         "4003",
         "14066.0",
         "2022",
         "4872.0",
         "1872.0",
         "0.346367126404095",
         "0.133086876155268"
        ],
        [
         "25",
         "4005",
         "23522.0",
         "2022",
         "10202.0",
         "5569.0",
         "0.43372162231102795",
         "0.2367570784797211"
        ],
        [
         "26",
         "4013",
         "600091.0",
         "2022",
         "294793.0",
         "140964.0",
         "0.4912471608472715",
         "0.23490437283678642"
        ],
        [
         "27",
         "4015",
         "24096.0",
         "2022",
         "9608.0",
         "5114.0",
         "0.398738379814077",
         "0.212234395750332"
        ],
        [
         "28",
         "4017",
         "11887.0",
         "2022",
         "3550.0",
         "1760.0",
         "0.2986455792041726",
         "0.1480609068730546"
        ],
        [
         "29",
         "4019",
         "151368.0",
         "2022",
         "72821.0",
         "38247.0",
         "0.48108583055863857",
         "0.25267559854130334"
        ],
        [
         "30",
         "4021",
         "29078.0",
         "2022",
         "12626.0",
         "5715.0",
         "0.43421143132264944",
         "0.1965403397757755"
        ],
        [
         "31",
         "4025",
         "27193.0",
         "2022",
         "12606.0",
         "6134.0",
         "0.4635751847902034",
         "0.22557275769499505"
        ],
        [
         "32",
         "4027",
         "24034.0",
         "2022",
         "11833.0",
         "3471.0",
         "0.4923441790796372",
         "0.14442040442706167"
        ],
        [
         "33",
         "5007",
         "33330.0",
         "2022",
         "9224.0",
         "3632.0",
         "0.27674767476747675",
         "0.10897089708970897"
        ],
        [
         "34",
         "5031",
         "16849.0",
         "2022",
         "8499.0",
         "5070.0",
         "0.5044216273962846",
         "0.30090806576057927"
        ],
        [
         "35",
         "5045",
         "18532.0",
         "2022",
         "6415.0",
         "3670.0",
         "0.3461579969781999",
         "0.19803582991582128"
        ],
        [
         "36",
         "5051",
         "12920.0",
         "2022",
         "5534.0",
         "3524.0",
         "0.428328173374613",
         "0.27275541795665637"
        ],
        [
         "37",
         "5069",
         "8617.0",
         "2022",
         "4082.0",
         "2648.0",
         "0.47371474991296275",
         "0.30729952419635603"
        ],
        [
         "38",
         "5085",
         "8497.0",
         "2022",
         "2610.0",
         "1374.0",
         "0.30716723549488056",
         "0.16170413086971872"
        ],
        [
         "39",
         "5119",
         "75648.0",
         "2022",
         "31817.0",
         "20445.0",
         "0.4205927453468697",
         "0.27026491116751267"
        ],
        [
         "40",
         "5125",
         "11567.0",
         "2022",
         "4615.0",
         "1557.0",
         "0.39897985648828566",
         "0.13460707184231002"
        ],
        [
         "41",
         "5131",
         "20728.0",
         "2022",
         "7496.0",
         "3684.0",
         "0.36163643380934",
         "0.1777306059436511"
        ],
        [
         "42",
         "5143",
         "45137.0",
         "2022",
         "19093.0",
         "9434.0",
         "0.42300108558388905",
         "0.20900813080178124"
        ],
        [
         "43",
         "5145",
         "9784.0",
         "2022",
         "3567.0",
         "1362.0",
         "0.36457481602616515",
         "0.1392068683565004"
        ],
        [
         "44",
         "6001",
         "268342.0",
         "2022",
         "129303.0",
         "70425.0",
         "0.4818589710146008",
         "0.2624449396665449"
        ],
        [
         "45",
         "6007",
         "35231.0",
         "2022",
         "18550.0",
         "10508.0",
         "0.5265249354261872",
         "0.29826005506514147"
        ],
        [
         "46",
         "6013",
         "129575.0",
         "2022",
         "66268.0",
         "35193.0",
         "0.5114258151649623",
         "0.2716033185413853"
        ],
        [
         "47",
         "6017",
         "16271.0",
         "2022",
         "9017.0",
         "4374.0",
         "0.5541761416016225",
         "0.2688218302501383"
        ],
        [
         "48",
         "6019",
         "147190.0",
         "2022",
         "75892.0",
         "43955.0",
         "0.5156056797336775",
         "0.2986276241592499"
        ],
        [
         "49",
         "6023",
         "25240.0",
         "2022",
         "13119.0",
         "6681.0",
         "0.519770206022187",
         "0.26469889064976226"
        ]
       ],
       "shape": {
        "columns": 7,
        "rows": 1702
       }
      },
      "text/html": [
       "<div>\n",
       "<style scoped>\n",
       "    .dataframe tbody tr th:only-of-type {\n",
       "        vertical-align: middle;\n",
       "    }\n",
       "\n",
       "    .dataframe tbody tr th {\n",
       "        vertical-align: top;\n",
       "    }\n",
       "\n",
       "    .dataframe thead th {\n",
       "        text-align: right;\n",
       "    }\n",
       "</style>\n",
       "<table border=\"1\" class=\"dataframe\">\n",
       "  <thead>\n",
       "    <tr style=\"text-align: right;\">\n",
       "      <th></th>\n",
       "      <th>id</th>\n",
       "      <th>renters</th>\n",
       "      <th>year</th>\n",
       "      <th>burdened_renters</th>\n",
       "      <th>extreme_burdened_renters</th>\n",
       "      <th>burdened_renters_pct</th>\n",
       "      <th>extreme_burdened_renters_pct</th>\n",
       "    </tr>\n",
       "  </thead>\n",
       "  <tbody>\n",
       "    <tr>\n",
       "      <th>0</th>\n",
       "      <td>1003</td>\n",
       "      <td>22641.0</td>\n",
       "      <td>2022</td>\n",
       "      <td>9925.0</td>\n",
       "      <td>6832.0</td>\n",
       "      <td>0.438364</td>\n",
       "      <td>0.301753</td>\n",
       "    </tr>\n",
       "    <tr>\n",
       "      <th>1</th>\n",
       "      <td>1015</td>\n",
       "      <td>12835.0</td>\n",
       "      <td>2022</td>\n",
       "      <td>4729.0</td>\n",
       "      <td>2299.0</td>\n",
       "      <td>0.368446</td>\n",
       "      <td>0.179120</td>\n",
       "    </tr>\n",
       "    <tr>\n",
       "      <th>2</th>\n",
       "      <td>1043</td>\n",
       "      <td>7752.0</td>\n",
       "      <td>2022</td>\n",
       "      <td>2747.0</td>\n",
       "      <td>1565.0</td>\n",
       "      <td>0.354360</td>\n",
       "      <td>0.201883</td>\n",
       "    </tr>\n",
       "    <tr>\n",
       "      <th>3</th>\n",
       "      <td>1049</td>\n",
       "      <td>7215.0</td>\n",
       "      <td>2022</td>\n",
       "      <td>1705.0</td>\n",
       "      <td>1175.0</td>\n",
       "      <td>0.236313</td>\n",
       "      <td>0.162855</td>\n",
       "    </tr>\n",
       "    <tr>\n",
       "      <th>4</th>\n",
       "      <td>1051</td>\n",
       "      <td>7934.0</td>\n",
       "      <td>2022</td>\n",
       "      <td>2031.0</td>\n",
       "      <td>882.0</td>\n",
       "      <td>0.255987</td>\n",
       "      <td>0.111167</td>\n",
       "    </tr>\n",
       "    <tr>\n",
       "      <th>...</th>\n",
       "      <td>...</td>\n",
       "      <td>...</td>\n",
       "      <td>...</td>\n",
       "      <td>...</td>\n",
       "      <td>...</td>\n",
       "      <td>...</td>\n",
       "      <td>...</td>\n",
       "    </tr>\n",
       "    <tr>\n",
       "      <th>1697</th>\n",
       "      <td>72113</td>\n",
       "      <td>21821.0</td>\n",
       "      <td>2023</td>\n",
       "      <td>6687.0</td>\n",
       "      <td>3085.0</td>\n",
       "      <td>0.306448</td>\n",
       "      <td>0.141378</td>\n",
       "    </tr>\n",
       "    <tr>\n",
       "      <th>1698</th>\n",
       "      <td>72127</td>\n",
       "      <td>69174.0</td>\n",
       "      <td>2023</td>\n",
       "      <td>24327.0</td>\n",
       "      <td>14200.0</td>\n",
       "      <td>0.351678</td>\n",
       "      <td>0.205279</td>\n",
       "    </tr>\n",
       "    <tr>\n",
       "      <th>1699</th>\n",
       "      <td>72135</td>\n",
       "      <td>4268.0</td>\n",
       "      <td>2023</td>\n",
       "      <td>1783.0</td>\n",
       "      <td>856.0</td>\n",
       "      <td>0.417760</td>\n",
       "      <td>0.200562</td>\n",
       "    </tr>\n",
       "    <tr>\n",
       "      <th>1700</th>\n",
       "      <td>72137</td>\n",
       "      <td>8563.0</td>\n",
       "      <td>2023</td>\n",
       "      <td>2021.0</td>\n",
       "      <td>1289.0</td>\n",
       "      <td>0.236015</td>\n",
       "      <td>0.150531</td>\n",
       "    </tr>\n",
       "    <tr>\n",
       "      <th>1701</th>\n",
       "      <td>72139</td>\n",
       "      <td>6472.0</td>\n",
       "      <td>2023</td>\n",
       "      <td>986.0</td>\n",
       "      <td>186.0</td>\n",
       "      <td>0.152349</td>\n",
       "      <td>0.028739</td>\n",
       "    </tr>\n",
       "  </tbody>\n",
       "</table>\n",
       "<p>1702 rows × 7 columns</p>\n",
       "</div>"
      ],
      "text/plain": [
       "         id  renters  year  burdened_renters  extreme_burdened_renters  \\\n",
       "0      1003  22641.0  2022            9925.0                    6832.0   \n",
       "1      1015  12835.0  2022            4729.0                    2299.0   \n",
       "2      1043   7752.0  2022            2747.0                    1565.0   \n",
       "3      1049   7215.0  2022            1705.0                    1175.0   \n",
       "4      1051   7934.0  2022            2031.0                     882.0   \n",
       "...     ...      ...   ...               ...                       ...   \n",
       "1697  72113  21821.0  2023            6687.0                    3085.0   \n",
       "1698  72127  69174.0  2023           24327.0                   14200.0   \n",
       "1699  72135   4268.0  2023            1783.0                     856.0   \n",
       "1700  72137   8563.0  2023            2021.0                    1289.0   \n",
       "1701  72139   6472.0  2023             986.0                     186.0   \n",
       "\n",
       "      burdened_renters_pct  extreme_burdened_renters_pct  \n",
       "0                 0.438364                      0.301753  \n",
       "1                 0.368446                      0.179120  \n",
       "2                 0.354360                      0.201883  \n",
       "3                 0.236313                      0.162855  \n",
       "4                 0.255987                      0.111167  \n",
       "...                    ...                           ...  \n",
       "1697              0.306448                      0.141378  \n",
       "1698              0.351678                      0.205279  \n",
       "1699              0.417760                      0.200562  \n",
       "1700              0.236015                      0.150531  \n",
       "1701              0.152349                      0.028739  \n",
       "\n",
       "[1702 rows x 7 columns]"
      ]
     },
     "execution_count": 16,
     "metadata": {},
     "output_type": "execute_result"
    }
   ],
   "source": [
    "# calculate the percentage of burdened and extreme burdened renters\n",
    "rental_data['burdened_renters_pct'] = rental_data['burdened_renters'] / rental_data['renters']\n",
    "rental_data['extreme_burdened_renters_pct'] = rental_data['extreme_burdened_renters'] / rental_data['renters']\n",
    "\n",
    "rental_data"
   ]
  },
  {
   "cell_type": "code",
   "execution_count": 17,
   "metadata": {},
   "outputs": [],
   "source": [
    "rental_data.to_csv('rent_burden.csv', index=False)"
   ]
  },
  {
   "cell_type": "code",
   "execution_count": 18,
   "metadata": {},
   "outputs": [
    {
     "data": {
      "application/vnd.microsoft.datawrangler.viewer.v0+json": {
       "columns": [
        {
         "name": "index",
         "rawType": "int64",
         "type": "integer"
        },
        {
         "name": "id",
         "rawType": "int64",
         "type": "integer"
        },
        {
         "name": "renters",
         "rawType": "float64",
         "type": "float"
        },
        {
         "name": "year",
         "rawType": "int64",
         "type": "integer"
        },
        {
         "name": "burdened_renters",
         "rawType": "float64",
         "type": "float"
        },
        {
         "name": "extreme_burdened_renters",
         "rawType": "float64",
         "type": "float"
        },
        {
         "name": "burdened_renters_pct",
         "rawType": "float64",
         "type": "float"
        },
        {
         "name": "extreme_burdened_renters_pct",
         "rawType": "float64",
         "type": "float"
        }
       ],
       "conversionMethod": "pd.DataFrame",
       "ref": "5318ca2c-72fe-4724-ac33-970b7253ef99",
       "rows": [
        [
         "469",
         "36061",
         "608398.0",
         "2022",
         "265786.0",
         "145053.0",
         "0.43686205411589124",
         "0.23841794351723708"
        ],
        [
         "1318",
         "36061",
         "587399.0",
         "2023",
         "256237.0",
         "138026.0",
         "0.4362230783504909",
         "0.234978268604475"
        ]
       ],
       "shape": {
        "columns": 7,
        "rows": 2
       }
      },
      "text/html": [
       "<div>\n",
       "<style scoped>\n",
       "    .dataframe tbody tr th:only-of-type {\n",
       "        vertical-align: middle;\n",
       "    }\n",
       "\n",
       "    .dataframe tbody tr th {\n",
       "        vertical-align: top;\n",
       "    }\n",
       "\n",
       "    .dataframe thead th {\n",
       "        text-align: right;\n",
       "    }\n",
       "</style>\n",
       "<table border=\"1\" class=\"dataframe\">\n",
       "  <thead>\n",
       "    <tr style=\"text-align: right;\">\n",
       "      <th></th>\n",
       "      <th>id</th>\n",
       "      <th>renters</th>\n",
       "      <th>year</th>\n",
       "      <th>burdened_renters</th>\n",
       "      <th>extreme_burdened_renters</th>\n",
       "      <th>burdened_renters_pct</th>\n",
       "      <th>extreme_burdened_renters_pct</th>\n",
       "    </tr>\n",
       "  </thead>\n",
       "  <tbody>\n",
       "    <tr>\n",
       "      <th>469</th>\n",
       "      <td>36061</td>\n",
       "      <td>608398.0</td>\n",
       "      <td>2022</td>\n",
       "      <td>265786.0</td>\n",
       "      <td>145053.0</td>\n",
       "      <td>0.436862</td>\n",
       "      <td>0.238418</td>\n",
       "    </tr>\n",
       "    <tr>\n",
       "      <th>1318</th>\n",
       "      <td>36061</td>\n",
       "      <td>587399.0</td>\n",
       "      <td>2023</td>\n",
       "      <td>256237.0</td>\n",
       "      <td>138026.0</td>\n",
       "      <td>0.436223</td>\n",
       "      <td>0.234978</td>\n",
       "    </tr>\n",
       "  </tbody>\n",
       "</table>\n",
       "</div>"
      ],
      "text/plain": [
       "         id   renters  year  burdened_renters  extreme_burdened_renters  \\\n",
       "469   36061  608398.0  2022          265786.0                  145053.0   \n",
       "1318  36061  587399.0  2023          256237.0                  138026.0   \n",
       "\n",
       "      burdened_renters_pct  extreme_burdened_renters_pct  \n",
       "469               0.436862                      0.238418  \n",
       "1318              0.436223                      0.234978  "
      ]
     },
     "execution_count": 18,
     "metadata": {},
     "output_type": "execute_result"
    }
   ],
   "source": [
    "# find new york county ny\n",
    "rental_data[rental_data['id'] == 36061]"
   ]
  },
  {
   "cell_type": "code",
   "execution_count": 19,
   "metadata": {},
   "outputs": [
    {
     "data": {
      "application/vnd.microsoft.datawrangler.viewer.v0+json": {
       "columns": [
        {
         "name": "index",
         "rawType": "int64",
         "type": "integer"
        },
        {
         "name": "id",
         "rawType": "int64",
         "type": "integer"
        },
        {
         "name": "renters",
         "rawType": "float64",
         "type": "float"
        },
        {
         "name": "year",
         "rawType": "int64",
         "type": "integer"
        },
        {
         "name": "burdened_renters",
         "rawType": "float64",
         "type": "float"
        },
        {
         "name": "extreme_burdened_renters",
         "rawType": "float64",
         "type": "float"
        },
        {
         "name": "burdened_renters_pct",
         "rawType": "float64",
         "type": "float"
        },
        {
         "name": "extreme_burdened_renters_pct",
         "rawType": "float64",
         "type": "float"
        }
       ],
       "conversionMethod": "pd.DataFrame",
       "ref": "135cd59e-f71a-46e8-a788-b4ec48317908",
       "rows": [
        [
         "202",
         "17031",
         "899430.0",
         "2022",
         "408274.0",
         "227031.0",
         "0.4539252637781706",
         "0.25241653046929724"
        ],
        [
         "1050",
         "17031",
         "893285.0",
         "2023",
         "376583.0",
         "193707.0",
         "0.4215709432040166",
         "0.21684792647363382"
        ]
       ],
       "shape": {
        "columns": 7,
        "rows": 2
       }
      },
      "text/html": [
       "<div>\n",
       "<style scoped>\n",
       "    .dataframe tbody tr th:only-of-type {\n",
       "        vertical-align: middle;\n",
       "    }\n",
       "\n",
       "    .dataframe tbody tr th {\n",
       "        vertical-align: top;\n",
       "    }\n",
       "\n",
       "    .dataframe thead th {\n",
       "        text-align: right;\n",
       "    }\n",
       "</style>\n",
       "<table border=\"1\" class=\"dataframe\">\n",
       "  <thead>\n",
       "    <tr style=\"text-align: right;\">\n",
       "      <th></th>\n",
       "      <th>id</th>\n",
       "      <th>renters</th>\n",
       "      <th>year</th>\n",
       "      <th>burdened_renters</th>\n",
       "      <th>extreme_burdened_renters</th>\n",
       "      <th>burdened_renters_pct</th>\n",
       "      <th>extreme_burdened_renters_pct</th>\n",
       "    </tr>\n",
       "  </thead>\n",
       "  <tbody>\n",
       "    <tr>\n",
       "      <th>202</th>\n",
       "      <td>17031</td>\n",
       "      <td>899430.0</td>\n",
       "      <td>2022</td>\n",
       "      <td>408274.0</td>\n",
       "      <td>227031.0</td>\n",
       "      <td>0.453925</td>\n",
       "      <td>0.252417</td>\n",
       "    </tr>\n",
       "    <tr>\n",
       "      <th>1050</th>\n",
       "      <td>17031</td>\n",
       "      <td>893285.0</td>\n",
       "      <td>2023</td>\n",
       "      <td>376583.0</td>\n",
       "      <td>193707.0</td>\n",
       "      <td>0.421571</td>\n",
       "      <td>0.216848</td>\n",
       "    </tr>\n",
       "  </tbody>\n",
       "</table>\n",
       "</div>"
      ],
      "text/plain": [
       "         id   renters  year  burdened_renters  extreme_burdened_renters  \\\n",
       "202   17031  899430.0  2022          408274.0                  227031.0   \n",
       "1050  17031  893285.0  2023          376583.0                  193707.0   \n",
       "\n",
       "      burdened_renters_pct  extreme_burdened_renters_pct  \n",
       "202               0.453925                      0.252417  \n",
       "1050              0.421571                      0.216848  "
      ]
     },
     "execution_count": 19,
     "metadata": {},
     "output_type": "execute_result"
    }
   ],
   "source": [
    "# find cook county il\n",
    "rental_data[rental_data['id'] == 17031]"
   ]
  },
  {
   "cell_type": "code",
   "execution_count": 20,
   "metadata": {},
   "outputs": [],
   "source": [
    "# restrict to 2023\n",
    "rental_data = rental_data[rental_data['year'] == 2023]"
   ]
  },
  {
   "cell_type": "code",
   "execution_count": 21,
   "metadata": {},
   "outputs": [],
   "source": [
    "# save to csv\n",
    "rental_data.to_csv('data/rent_burden.csv', index=False)"
   ]
  },
  {
   "cell_type": "code",
   "execution_count": 22,
   "metadata": {},
   "outputs": [],
   "source": [
    "import us"
   ]
  },
  {
   "cell_type": "code",
   "execution_count": 23,
   "metadata": {},
   "outputs": [],
   "source": [
    "# import data/county_dorling_topo.json\n",
    "with open('shapefiles/county_dorling_topo.json') as f:\n",
    "    county_geo = json.load(f)\n",
    "\n",
    "# turn the json into a pandas dataframe\n",
    "county_geo = pd.DataFrame(county_geo['objects']['county_dorling']['geometries'])\n",
    "\n",
    "# extract the 'properties' column into a new dataframe\n",
    "county_geo_properties = pd.json_normalize(county_geo['properties'])\n",
    "\n",
    "county_geo_properties.rename(columns={'fips': 'id'}, inplace=True)\n",
    "\n",
    "county_geo_properties = county_geo_properties[['id', 'name']]\n",
    "\n"
   ]
  },
  {
   "cell_type": "code",
   "execution_count": 24,
   "metadata": {},
   "outputs": [
    {
     "data": {
      "text/plain": [
       "\"# Get data for MSAs\\nmsa_renters = get_census_data_msa(c, 'B25140_010E')\\nmsa_burdened_renters = get_census_data_msa(c, 'B25140_011E')\\nmsa_extreme_burdened_renters = get_census_data_msa(c, 'B25140_012E')\\n\\n# Rename columns for clarity\\nmsa_renters.rename(columns={'value': 'renters'}, inplace=True)\\nmsa_burdened_renters.rename(columns={'value': 'burdened_renters'}, inplace=True)\\nmsa_extreme_burdened_renters.rename(columns={'value': 'extreme_burdened_renters'}, inplace=True)\\n\\n# Merge dataframes\\nmsa_rental_data = pd.merge(msa_renters, msa_burdened_renters, on=['id', 'year'])\\nmsa_rental_data = pd.merge(msa_rental_data, msa_extreme_burdened_renters, on=['id', 'year'])\\n\\n# Calculate percentages\\nmsa_rental_data['burdened_renters_pct'] = msa_rental_data['burdened_renters'] / msa_rental_data['renters']\\nmsa_rental_data['extreme_burdened_renters_pct'] = msa_rental_data['extreme_burdened_renters'] / msa_rental_data['renters']\\n\\nmsa_rental_data\""
      ]
     },
     "execution_count": 24,
     "metadata": {},
     "output_type": "execute_result"
    }
   ],
   "source": [
    "# Function to get census data for MSAs\n",
    "def get_census_data_msa(c, series_code: str, dataset: str = 'acs1') -> pd.DataFrame:\n",
    "    \"\"\"\n",
    "    Gets census data for all available years between 2010-2024 for MSAs.\n",
    "    \n",
    "    Parameters:\n",
    "    -----------\n",
    "    c : Census client object\n",
    "    series_code : str\n",
    "        The census series code to fetch\n",
    "    dataset : str\n",
    "        Census dataset to query (e.g., 'acs1', 'acs5', 'sf1', etc.)\n",
    "        \n",
    "    Returns:\n",
    "    --------\n",
    "    pd.DataFrame with columns:\n",
    "        - id: numeric MSA FIPS\n",
    "        - value: the requested census value\n",
    "        - year: year of observation\n",
    "    \"\"\"\n",
    "    data_rows = []\n",
    "    \n",
    "    for year in range(2010, 2024):\n",
    "        try:\n",
    "            census_dataset = getattr(c, dataset)\n",
    "            data = census_dataset.get(series_code, {'for': 'metropolitan statistical area/micropolitan statistical area:*'}, year=year)\n",
    "            for row in data:\n",
    "                data_rows.append({\n",
    "                    'id': int(row['metropolitan statistical area/micropolitan statistical area']),\n",
    "                    'value': row[series_code],\n",
    "                    'year': year\n",
    "                })\n",
    "                \n",
    "        except Exception as e:\n",
    "            print(f\"Failed to fetch {year} data from {dataset}: {str(e)}\")\n",
    "            \n",
    "    df = pd.DataFrame(data_rows)\n",
    "    df['value'] = pd.to_numeric(df['value'])\n",
    "    return df\n",
    "\n",
    "'''# Get data for MSAs\n",
    "msa_renters = get_census_data_msa(c, 'B25140_010E')\n",
    "msa_burdened_renters = get_census_data_msa(c, 'B25140_011E')\n",
    "msa_extreme_burdened_renters = get_census_data_msa(c, 'B25140_012E')\n",
    "\n",
    "# Rename columns for clarity\n",
    "msa_renters.rename(columns={'value': 'renters'}, inplace=True)\n",
    "msa_burdened_renters.rename(columns={'value': 'burdened_renters'}, inplace=True)\n",
    "msa_extreme_burdened_renters.rename(columns={'value': 'extreme_burdened_renters'}, inplace=True)\n",
    "\n",
    "# Merge dataframes\n",
    "msa_rental_data = pd.merge(msa_renters, msa_burdened_renters, on=['id', 'year'])\n",
    "msa_rental_data = pd.merge(msa_rental_data, msa_extreme_burdened_renters, on=['id', 'year'])\n",
    "\n",
    "# Calculate percentages\n",
    "msa_rental_data['burdened_renters_pct'] = msa_rental_data['burdened_renters'] / msa_rental_data['renters']\n",
    "msa_rental_data['extreme_burdened_renters_pct'] = msa_rental_data['extreme_burdened_renters'] / msa_rental_data['renters']\n",
    "\n",
    "msa_rental_data'''"
   ]
  },
  {
   "cell_type": "code",
   "execution_count": 25,
   "metadata": {},
   "outputs": [
    {
     "data": {
      "application/vnd.microsoft.datawrangler.viewer.v0+json": {
       "columns": [
        {
         "name": "index",
         "rawType": "int64",
         "type": "integer"
        },
        {
         "name": "id",
         "rawType": "object",
         "type": "unknown"
        },
        {
         "name": "name",
         "rawType": "object",
         "type": "unknown"
        },
        {
         "name": "type",
         "rawType": "object",
         "type": "unknown"
        }
       ],
       "conversionMethod": "pd.DataFrame",
       "ref": "8e7c63ac-0979-4b19-8c9b-c557a1d705ec",
       "rows": [
        [
         "0",
         "10100",
         "Aberdeen, SD",
         "Micropolitan Statistical Area"
        ],
        [
         "1",
         "10100",
         "Aberdeen, SD",
         "Micropolitan Statistical Area"
        ],
        [
         "2",
         "10140",
         "Aberdeen, WA",
         "Micropolitan Statistical Area"
        ],
        [
         "3",
         "10180",
         "Abilene, TX",
         "Metropolitan Statistical Area"
        ],
        [
         "4",
         "10180",
         "Abilene, TX",
         "Metropolitan Statistical Area"
        ],
        [
         "5",
         "10180",
         "Abilene, TX",
         "Metropolitan Statistical Area"
        ],
        [
         "6",
         "10220",
         "Ada, OK",
         "Micropolitan Statistical Area"
        ],
        [
         "7",
         "10300",
         "Adrian, MI",
         "Micropolitan Statistical Area"
        ],
        [
         "8",
         "10380",
         "Aguadilla, PR",
         "Metropolitan Statistical Area"
        ],
        [
         "9",
         "10380",
         "Aguadilla, PR",
         "Metropolitan Statistical Area"
        ],
        [
         "10",
         "10380",
         "Aguadilla, PR",
         "Metropolitan Statistical Area"
        ],
        [
         "11",
         "10380",
         "Aguadilla, PR",
         "Metropolitan Statistical Area"
        ],
        [
         "12",
         "10380",
         "Aguadilla, PR",
         "Metropolitan Statistical Area"
        ],
        [
         "13",
         "10380",
         "Aguadilla, PR",
         "Metropolitan Statistical Area"
        ],
        [
         "14",
         "10380",
         "Aguadilla, PR",
         "Metropolitan Statistical Area"
        ],
        [
         "15",
         "10420",
         "Akron, OH",
         "Metropolitan Statistical Area"
        ],
        [
         "16",
         "10420",
         "Akron, OH",
         "Metropolitan Statistical Area"
        ],
        [
         "17",
         "10460",
         "Alamogordo, NM",
         "Micropolitan Statistical Area"
        ],
        [
         "18",
         "10480",
         "Alamosa, CO",
         "Micropolitan Statistical Area"
        ],
        [
         "19",
         "10480",
         "Alamosa, CO",
         "Micropolitan Statistical Area"
        ],
        [
         "20",
         "10480",
         "Alamosa, CO",
         "Micropolitan Statistical Area"
        ],
        [
         "21",
         "10500",
         "Albany, GA",
         "Metropolitan Statistical Area"
        ],
        [
         "22",
         "10500",
         "Albany, GA",
         "Metropolitan Statistical Area"
        ],
        [
         "23",
         "10500",
         "Albany, GA",
         "Metropolitan Statistical Area"
        ],
        [
         "24",
         "10500",
         "Albany, GA",
         "Metropolitan Statistical Area"
        ],
        [
         "25",
         "10540",
         "Albany, OR",
         "Metropolitan Statistical Area"
        ],
        [
         "26",
         "10580",
         "Albany-Schenectady-Troy, NY",
         "Metropolitan Statistical Area"
        ],
        [
         "27",
         "10580",
         "Albany-Schenectady-Troy, NY",
         "Metropolitan Statistical Area"
        ],
        [
         "28",
         "10580",
         "Albany-Schenectady-Troy, NY",
         "Metropolitan Statistical Area"
        ],
        [
         "29",
         "10580",
         "Albany-Schenectady-Troy, NY",
         "Metropolitan Statistical Area"
        ],
        [
         "30",
         "10580",
         "Albany-Schenectady-Troy, NY",
         "Metropolitan Statistical Area"
        ],
        [
         "31",
         "10620",
         "Albemarle, NC",
         "Micropolitan Statistical Area"
        ],
        [
         "32",
         "10660",
         "Albert Lea, MN",
         "Micropolitan Statistical Area"
        ],
        [
         "33",
         "10700",
         "Albertville, AL",
         "Micropolitan Statistical Area"
        ],
        [
         "34",
         "10740",
         "Albuquerque, NM",
         "Metropolitan Statistical Area"
        ],
        [
         "35",
         "10740",
         "Albuquerque, NM",
         "Metropolitan Statistical Area"
        ],
        [
         "36",
         "10740",
         "Albuquerque, NM",
         "Metropolitan Statistical Area"
        ],
        [
         "37",
         "10740",
         "Albuquerque, NM",
         "Metropolitan Statistical Area"
        ],
        [
         "38",
         "10760",
         "Alexander City, AL",
         "Micropolitan Statistical Area"
        ],
        [
         "39",
         "10780",
         "Alexandria, LA",
         "Metropolitan Statistical Area"
        ],
        [
         "40",
         "10780",
         "Alexandria, LA",
         "Metropolitan Statistical Area"
        ],
        [
         "41",
         "10820",
         "Alexandria, MN",
         "Micropolitan Statistical Area"
        ],
        [
         "42",
         "10860",
         "Alice, TX",
         "Micropolitan Statistical Area"
        ],
        [
         "43",
         "10860",
         "Alice, TX",
         "Micropolitan Statistical Area"
        ],
        [
         "44",
         "10900",
         "Allentown-Bethlehem-Easton, PA-NJ",
         "Metropolitan Statistical Area"
        ],
        [
         "45",
         "10900",
         "Allentown-Bethlehem-Easton, PA-NJ",
         "Metropolitan Statistical Area"
        ],
        [
         "46",
         "10900",
         "Allentown-Bethlehem-Easton, PA-NJ",
         "Metropolitan Statistical Area"
        ],
        [
         "47",
         "10900",
         "Allentown-Bethlehem-Easton, PA-NJ",
         "Metropolitan Statistical Area"
        ],
        [
         "48",
         "10940",
         "Alma, MI",
         "Micropolitan Statistical Area"
        ],
        [
         "49",
         "10980",
         "Alpena, MI",
         "Micropolitan Statistical Area"
        ]
       ],
       "shape": {
        "columns": 3,
        "rows": 1918
       }
      },
      "text/html": [
       "<div>\n",
       "<style scoped>\n",
       "    .dataframe tbody tr th:only-of-type {\n",
       "        vertical-align: middle;\n",
       "    }\n",
       "\n",
       "    .dataframe tbody tr th {\n",
       "        vertical-align: top;\n",
       "    }\n",
       "\n",
       "    .dataframe thead th {\n",
       "        text-align: right;\n",
       "    }\n",
       "</style>\n",
       "<table border=\"1\" class=\"dataframe\">\n",
       "  <thead>\n",
       "    <tr style=\"text-align: right;\">\n",
       "      <th></th>\n",
       "      <th>id</th>\n",
       "      <th>name</th>\n",
       "      <th>type</th>\n",
       "    </tr>\n",
       "  </thead>\n",
       "  <tbody>\n",
       "    <tr>\n",
       "      <th>0</th>\n",
       "      <td>10100</td>\n",
       "      <td>Aberdeen, SD</td>\n",
       "      <td>Micropolitan Statistical Area</td>\n",
       "    </tr>\n",
       "    <tr>\n",
       "      <th>1</th>\n",
       "      <td>10100</td>\n",
       "      <td>Aberdeen, SD</td>\n",
       "      <td>Micropolitan Statistical Area</td>\n",
       "    </tr>\n",
       "    <tr>\n",
       "      <th>2</th>\n",
       "      <td>10140</td>\n",
       "      <td>Aberdeen, WA</td>\n",
       "      <td>Micropolitan Statistical Area</td>\n",
       "    </tr>\n",
       "    <tr>\n",
       "      <th>3</th>\n",
       "      <td>10180</td>\n",
       "      <td>Abilene, TX</td>\n",
       "      <td>Metropolitan Statistical Area</td>\n",
       "    </tr>\n",
       "    <tr>\n",
       "      <th>4</th>\n",
       "      <td>10180</td>\n",
       "      <td>Abilene, TX</td>\n",
       "      <td>Metropolitan Statistical Area</td>\n",
       "    </tr>\n",
       "    <tr>\n",
       "      <th>...</th>\n",
       "      <td>...</td>\n",
       "      <td>...</td>\n",
       "      <td>...</td>\n",
       "    </tr>\n",
       "    <tr>\n",
       "      <th>1913</th>\n",
       "      <td>49780</td>\n",
       "      <td>Zanesville, OH</td>\n",
       "      <td>Micropolitan Statistical Area</td>\n",
       "    </tr>\n",
       "    <tr>\n",
       "      <th>1914</th>\n",
       "      <td>49820</td>\n",
       "      <td>Zapata, TX</td>\n",
       "      <td>Micropolitan Statistical Area</td>\n",
       "    </tr>\n",
       "    <tr>\n",
       "      <th>1915</th>\n",
       "      <td>NaN</td>\n",
       "      <td>NaN</td>\n",
       "      <td>NaN</td>\n",
       "    </tr>\n",
       "    <tr>\n",
       "      <th>1916</th>\n",
       "      <td>Note: The Office of Management and Budget's (O...</td>\n",
       "      <td>NaN</td>\n",
       "      <td>NaN</td>\n",
       "    </tr>\n",
       "    <tr>\n",
       "      <th>1917</th>\n",
       "      <td>Source: File prepared by U.S. Census Bureau, P...</td>\n",
       "      <td>NaN</td>\n",
       "      <td>NaN</td>\n",
       "    </tr>\n",
       "  </tbody>\n",
       "</table>\n",
       "<p>1918 rows × 3 columns</p>\n",
       "</div>"
      ],
      "text/plain": [
       "                                                     id            name  \\\n",
       "0                                                 10100    Aberdeen, SD   \n",
       "1                                                 10100    Aberdeen, SD   \n",
       "2                                                 10140    Aberdeen, WA   \n",
       "3                                                 10180     Abilene, TX   \n",
       "4                                                 10180     Abilene, TX   \n",
       "...                                                 ...             ...   \n",
       "1913                                              49780  Zanesville, OH   \n",
       "1914                                              49820      Zapata, TX   \n",
       "1915                                                NaN             NaN   \n",
       "1916  Note: The Office of Management and Budget's (O...             NaN   \n",
       "1917  Source: File prepared by U.S. Census Bureau, P...             NaN   \n",
       "\n",
       "                               type  \n",
       "0     Micropolitan Statistical Area  \n",
       "1     Micropolitan Statistical Area  \n",
       "2     Micropolitan Statistical Area  \n",
       "3     Metropolitan Statistical Area  \n",
       "4     Metropolitan Statistical Area  \n",
       "...                             ...  \n",
       "1913  Micropolitan Statistical Area  \n",
       "1914  Micropolitan Statistical Area  \n",
       "1915                            NaN  \n",
       "1916                            NaN  \n",
       "1917                            NaN  \n",
       "\n",
       "[1918 rows x 3 columns]"
      ]
     },
     "execution_count": 25,
     "metadata": {},
     "output_type": "execute_result"
    }
   ],
   "source": [
    "msa_names_url = \"https://www2.census.gov/programs-surveys/metro-micro/geographies/reference-files/2023/delineation-files/list1_2023.xlsx\"\n",
    "\n",
    "msa_names = pd.read_excel(msa_names_url, skiprows=2)\n",
    "\n",
    "msa_names = msa_names[['CBSA Code', 'CBSA Title', 'Metropolitan/Micropolitan Statistical Area']]\n",
    "\n",
    "msa_names.rename(columns={\n",
    "    'CBSA Code': 'id', \n",
    "    'CBSA Title': 'name', \n",
    "    'Metropolitan/Micropolitan Statistical Area': 'type'\n",
    "    }, inplace=True)\n",
    "\n",
    "msa_names"
   ]
  },
  {
   "cell_type": "code",
   "execution_count": 26,
   "metadata": {},
   "outputs": [
    {
     "data": {
      "application/vnd.microsoft.datawrangler.viewer.v0+json": {
       "columns": [
        {
         "name": "index",
         "rawType": "int64",
         "type": "integer"
        },
        {
         "name": "id",
         "rawType": "int64",
         "type": "integer"
        },
        {
         "name": "name",
         "rawType": "object",
         "type": "string"
        },
        {
         "name": "type",
         "rawType": "object",
         "type": "string"
        }
       ],
       "conversionMethod": "pd.DataFrame",
       "ref": "4abb687d-dece-48bc-850a-4d0788e2d70c",
       "rows": [
        [
         "0",
         "10100",
         "Aberdeen, SD",
         "Micropolitan Statistical Area"
        ],
        [
         "2",
         "10140",
         "Aberdeen, WA",
         "Micropolitan Statistical Area"
        ],
        [
         "3",
         "10180",
         "Abilene, TX",
         "Metropolitan Statistical Area"
        ],
        [
         "6",
         "10220",
         "Ada, OK",
         "Micropolitan Statistical Area"
        ],
        [
         "7",
         "10300",
         "Adrian, MI",
         "Micropolitan Statistical Area"
        ],
        [
         "8",
         "10380",
         "Aguadilla, PR",
         "Metropolitan Statistical Area"
        ],
        [
         "15",
         "10420",
         "Akron, OH",
         "Metropolitan Statistical Area"
        ],
        [
         "17",
         "10460",
         "Alamogordo, NM",
         "Micropolitan Statistical Area"
        ],
        [
         "18",
         "10480",
         "Alamosa, CO",
         "Micropolitan Statistical Area"
        ],
        [
         "21",
         "10500",
         "Albany, GA",
         "Metropolitan Statistical Area"
        ],
        [
         "25",
         "10540",
         "Albany, OR",
         "Metropolitan Statistical Area"
        ],
        [
         "26",
         "10580",
         "Albany-Schenectady-Troy, NY",
         "Metropolitan Statistical Area"
        ],
        [
         "31",
         "10620",
         "Albemarle, NC",
         "Micropolitan Statistical Area"
        ],
        [
         "32",
         "10660",
         "Albert Lea, MN",
         "Micropolitan Statistical Area"
        ],
        [
         "33",
         "10700",
         "Albertville, AL",
         "Micropolitan Statistical Area"
        ],
        [
         "34",
         "10740",
         "Albuquerque, NM",
         "Metropolitan Statistical Area"
        ],
        [
         "38",
         "10760",
         "Alexander City, AL",
         "Micropolitan Statistical Area"
        ],
        [
         "39",
         "10780",
         "Alexandria, LA",
         "Metropolitan Statistical Area"
        ],
        [
         "41",
         "10820",
         "Alexandria, MN",
         "Micropolitan Statistical Area"
        ],
        [
         "42",
         "10860",
         "Alice, TX",
         "Micropolitan Statistical Area"
        ],
        [
         "44",
         "10900",
         "Allentown-Bethlehem-Easton, PA-NJ",
         "Metropolitan Statistical Area"
        ],
        [
         "48",
         "10940",
         "Alma, MI",
         "Micropolitan Statistical Area"
        ],
        [
         "49",
         "10980",
         "Alpena, MI",
         "Micropolitan Statistical Area"
        ],
        [
         "50",
         "11020",
         "Altoona, PA",
         "Metropolitan Statistical Area"
        ],
        [
         "51",
         "11060",
         "Altus, OK",
         "Micropolitan Statistical Area"
        ],
        [
         "52",
         "11100",
         "Amarillo, TX",
         "Metropolitan Statistical Area"
        ],
        [
         "57",
         "11140",
         "Americus, GA",
         "Micropolitan Statistical Area"
        ],
        [
         "59",
         "11180",
         "Ames, IA",
         "Metropolitan Statistical Area"
        ],
        [
         "61",
         "11200",
         "Amherst Town-Northampton, MA",
         "Metropolitan Statistical Area"
        ],
        [
         "62",
         "11220",
         "Amsterdam, NY",
         "Micropolitan Statistical Area"
        ],
        [
         "63",
         "11260",
         "Anchorage, AK",
         "Metropolitan Statistical Area"
        ],
        [
         "65",
         "11360",
         "Anderson Creek, NC",
         "Micropolitan Statistical Area"
        ],
        [
         "66",
         "11380",
         "Andrews, TX",
         "Micropolitan Statistical Area"
        ],
        [
         "67",
         "11420",
         "Angola, IN",
         "Micropolitan Statistical Area"
        ],
        [
         "68",
         "11460",
         "Ann Arbor, MI",
         "Metropolitan Statistical Area"
        ],
        [
         "69",
         "11500",
         "Anniston-Oxford, AL",
         "Metropolitan Statistical Area"
        ],
        [
         "70",
         "11540",
         "Appleton, WI",
         "Metropolitan Statistical Area"
        ],
        [
         "72",
         "11580",
         "Arcadia, FL",
         "Micropolitan Statistical Area"
        ],
        [
         "73",
         "11620",
         "Ardmore, OK",
         "Micropolitan Statistical Area"
        ],
        [
         "74",
         "11640",
         "Arecibo, PR",
         "Metropolitan Statistical Area"
        ],
        [
         "78",
         "11660",
         "Arkadelphia, AR",
         "Micropolitan Statistical Area"
        ],
        [
         "79",
         "11680",
         "Arkansas City-Winfield, KS",
         "Micropolitan Statistical Area"
        ],
        [
         "80",
         "11700",
         "Asheville, NC",
         "Metropolitan Statistical Area"
        ],
        [
         "83",
         "11740",
         "Ashland, OH",
         "Micropolitan Statistical Area"
        ],
        [
         "84",
         "11820",
         "Astoria, OR",
         "Micropolitan Statistical Area"
        ],
        [
         "85",
         "11860",
         "Atchison, KS",
         "Micropolitan Statistical Area"
        ],
        [
         "86",
         "11900",
         "Athens, OH",
         "Micropolitan Statistical Area"
        ],
        [
         "87",
         "11940",
         "Athens, TN",
         "Micropolitan Statistical Area"
        ],
        [
         "89",
         "11980",
         "Athens, TX",
         "Micropolitan Statistical Area"
        ],
        [
         "90",
         "12020",
         "Athens-Clarke County, GA",
         "Metropolitan Statistical Area"
        ]
       ],
       "shape": {
        "columns": 3,
        "rows": 935
       }
      },
      "text/html": [
       "<div>\n",
       "<style scoped>\n",
       "    .dataframe tbody tr th:only-of-type {\n",
       "        vertical-align: middle;\n",
       "    }\n",
       "\n",
       "    .dataframe tbody tr th {\n",
       "        vertical-align: top;\n",
       "    }\n",
       "\n",
       "    .dataframe thead th {\n",
       "        text-align: right;\n",
       "    }\n",
       "</style>\n",
       "<table border=\"1\" class=\"dataframe\">\n",
       "  <thead>\n",
       "    <tr style=\"text-align: right;\">\n",
       "      <th></th>\n",
       "      <th>id</th>\n",
       "      <th>name</th>\n",
       "      <th>type</th>\n",
       "    </tr>\n",
       "  </thead>\n",
       "  <tbody>\n",
       "    <tr>\n",
       "      <th>0</th>\n",
       "      <td>10100</td>\n",
       "      <td>Aberdeen, SD</td>\n",
       "      <td>Micropolitan Statistical Area</td>\n",
       "    </tr>\n",
       "    <tr>\n",
       "      <th>2</th>\n",
       "      <td>10140</td>\n",
       "      <td>Aberdeen, WA</td>\n",
       "      <td>Micropolitan Statistical Area</td>\n",
       "    </tr>\n",
       "    <tr>\n",
       "      <th>3</th>\n",
       "      <td>10180</td>\n",
       "      <td>Abilene, TX</td>\n",
       "      <td>Metropolitan Statistical Area</td>\n",
       "    </tr>\n",
       "    <tr>\n",
       "      <th>6</th>\n",
       "      <td>10220</td>\n",
       "      <td>Ada, OK</td>\n",
       "      <td>Micropolitan Statistical Area</td>\n",
       "    </tr>\n",
       "    <tr>\n",
       "      <th>7</th>\n",
       "      <td>10300</td>\n",
       "      <td>Adrian, MI</td>\n",
       "      <td>Micropolitan Statistical Area</td>\n",
       "    </tr>\n",
       "    <tr>\n",
       "      <th>...</th>\n",
       "      <td>...</td>\n",
       "      <td>...</td>\n",
       "      <td>...</td>\n",
       "    </tr>\n",
       "    <tr>\n",
       "      <th>1908</th>\n",
       "      <td>49660</td>\n",
       "      <td>Youngstown-Warren, OH</td>\n",
       "      <td>Metropolitan Statistical Area</td>\n",
       "    </tr>\n",
       "    <tr>\n",
       "      <th>1910</th>\n",
       "      <td>49700</td>\n",
       "      <td>Yuba City, CA</td>\n",
       "      <td>Metropolitan Statistical Area</td>\n",
       "    </tr>\n",
       "    <tr>\n",
       "      <th>1912</th>\n",
       "      <td>49740</td>\n",
       "      <td>Yuma, AZ</td>\n",
       "      <td>Metropolitan Statistical Area</td>\n",
       "    </tr>\n",
       "    <tr>\n",
       "      <th>1913</th>\n",
       "      <td>49780</td>\n",
       "      <td>Zanesville, OH</td>\n",
       "      <td>Micropolitan Statistical Area</td>\n",
       "    </tr>\n",
       "    <tr>\n",
       "      <th>1914</th>\n",
       "      <td>49820</td>\n",
       "      <td>Zapata, TX</td>\n",
       "      <td>Micropolitan Statistical Area</td>\n",
       "    </tr>\n",
       "  </tbody>\n",
       "</table>\n",
       "<p>935 rows × 3 columns</p>\n",
       "</div>"
      ],
      "text/plain": [
       "         id                   name                           type\n",
       "0     10100           Aberdeen, SD  Micropolitan Statistical Area\n",
       "2     10140           Aberdeen, WA  Micropolitan Statistical Area\n",
       "3     10180            Abilene, TX  Metropolitan Statistical Area\n",
       "6     10220                Ada, OK  Micropolitan Statistical Area\n",
       "7     10300             Adrian, MI  Micropolitan Statistical Area\n",
       "...     ...                    ...                            ...\n",
       "1908  49660  Youngstown-Warren, OH  Metropolitan Statistical Area\n",
       "1910  49700          Yuba City, CA  Metropolitan Statistical Area\n",
       "1912  49740               Yuma, AZ  Metropolitan Statistical Area\n",
       "1913  49780         Zanesville, OH  Micropolitan Statistical Area\n",
       "1914  49820             Zapata, TX  Micropolitan Statistical Area\n",
       "\n",
       "[935 rows x 3 columns]"
      ]
     },
     "execution_count": 26,
     "metadata": {},
     "output_type": "execute_result"
    }
   ],
   "source": [
    "# turn id into int, remove leading zeros, coerce errors to null\n",
    "msa_names['id'] = pd.to_numeric(msa_names['id'], errors='coerce')\n",
    "\n",
    "msa_names.dropna(subset=['id'], inplace=True)\n",
    "\n",
    "msa_names['id'] = msa_names['id'].astype(int)\n",
    "\n",
    "# drop duplicates\n",
    "msa_names.drop_duplicates(subset=['id'], inplace=True)\n",
    "\n",
    "msa_names"
   ]
  },
  {
   "cell_type": "code",
   "execution_count": 27,
   "metadata": {},
   "outputs": [
    {
     "ename": "NameError",
     "evalue": "name 'msa_rental_data' is not defined",
     "output_type": "error",
     "traceback": [
      "\u001b[0;31m---------------------------------------------------------------------------\u001b[0m",
      "\u001b[0;31mNameError\u001b[0m                                 Traceback (most recent call last)",
      "Cell \u001b[0;32mIn[27], line 2\u001b[0m\n\u001b[1;32m      1\u001b[0m \u001b[38;5;66;03m# add name and type to msa_rental_data\u001b[39;00m\n\u001b[0;32m----> 2\u001b[0m msa_rental_data \u001b[38;5;241m=\u001b[39m pd\u001b[38;5;241m.\u001b[39mmerge(\u001b[43mmsa_rental_data\u001b[49m, msa_names, on\u001b[38;5;241m=\u001b[39m\u001b[38;5;124m'\u001b[39m\u001b[38;5;124mid\u001b[39m\u001b[38;5;124m'\u001b[39m)\n\u001b[1;32m      4\u001b[0m \u001b[38;5;66;03m# fitler to 2023\u001b[39;00m\n\u001b[1;32m      5\u001b[0m msa_rental_data \u001b[38;5;241m=\u001b[39m msa_rental_data[msa_rental_data[\u001b[38;5;124m'\u001b[39m\u001b[38;5;124myear\u001b[39m\u001b[38;5;124m'\u001b[39m] \u001b[38;5;241m==\u001b[39m \u001b[38;5;241m2023\u001b[39m]\n",
      "\u001b[0;31mNameError\u001b[0m: name 'msa_rental_data' is not defined"
     ]
    }
   ],
   "source": [
    "# add name and type to msa_rental_data\n",
    "msa_rental_data = pd.merge(msa_rental_data, msa_names, on='id')\n",
    "\n",
    "# fitler to 2023\n",
    "msa_rental_data = msa_rental_data[msa_rental_data['year'] == 2023]\n",
    "\n",
    "# filter to metros\n",
    "msa_rental_data = msa_rental_data[msa_rental_data['type'] == 'Metropolitan Statistical Area']\n",
    "\n",
    "msa_rental_data"
   ]
  },
  {
   "cell_type": "code",
   "execution_count": null,
   "metadata": {},
   "outputs": [
    {
     "data": {
      "text/html": [
       "<div>\n",
       "<style scoped>\n",
       "    .dataframe tbody tr th:only-of-type {\n",
       "        vertical-align: middle;\n",
       "    }\n",
       "\n",
       "    .dataframe tbody tr th {\n",
       "        vertical-align: top;\n",
       "    }\n",
       "\n",
       "    .dataframe thead th {\n",
       "        text-align: right;\n",
       "    }\n",
       "</style>\n",
       "<table border=\"1\" class=\"dataframe\">\n",
       "  <thead>\n",
       "    <tr style=\"text-align: right;\">\n",
       "      <th></th>\n",
       "      <th>id</th>\n",
       "      <th>renters</th>\n",
       "      <th>year</th>\n",
       "      <th>burdened_renters</th>\n",
       "      <th>extreme_burdened_renters</th>\n",
       "      <th>burdened_renters_pct</th>\n",
       "      <th>extreme_burdened_renters_pct</th>\n",
       "      <th>name</th>\n",
       "      <th>type</th>\n",
       "    </tr>\n",
       "  </thead>\n",
       "  <tbody>\n",
       "    <tr>\n",
       "      <th>315</th>\n",
       "      <td>23540</td>\n",
       "      <td>58679.0</td>\n",
       "      <td>2023</td>\n",
       "      <td>36285.0</td>\n",
       "      <td>19267.0</td>\n",
       "      <td>0.618364</td>\n",
       "      <td>0.328346</td>\n",
       "      <td>Gainesville, FL</td>\n",
       "      <td>Metropolitan Statistical Area</td>\n",
       "    </tr>\n",
       "    <tr>\n",
       "      <th>135</th>\n",
       "      <td>15980</td>\n",
       "      <td>80878.0</td>\n",
       "      <td>2023</td>\n",
       "      <td>48985.0</td>\n",
       "      <td>26533.0</td>\n",
       "      <td>0.605665</td>\n",
       "      <td>0.328062</td>\n",
       "      <td>Cape Coral-Fort Myers, FL</td>\n",
       "      <td>Metropolitan Statistical Area</td>\n",
       "    </tr>\n",
       "    <tr>\n",
       "      <th>708</th>\n",
       "      <td>38940</td>\n",
       "      <td>45936.0</td>\n",
       "      <td>2023</td>\n",
       "      <td>27565.0</td>\n",
       "      <td>15233.0</td>\n",
       "      <td>0.600074</td>\n",
       "      <td>0.331614</td>\n",
       "      <td>Port St. Lucie, FL</td>\n",
       "      <td>Metropolitan Statistical Area</td>\n",
       "    </tr>\n",
       "    <tr>\n",
       "      <th>570</th>\n",
       "      <td>33100</td>\n",
       "      <td>897791.0</td>\n",
       "      <td>2023</td>\n",
       "      <td>531678.0</td>\n",
       "      <td>288146.0</td>\n",
       "      <td>0.592207</td>\n",
       "      <td>0.320950</td>\n",
       "      <td>Miami-Fort Lauderdale-West Palm Beach, FL</td>\n",
       "      <td>Metropolitan Statistical Area</td>\n",
       "    </tr>\n",
       "    <tr>\n",
       "      <th>722</th>\n",
       "      <td>39460</td>\n",
       "      <td>14715.0</td>\n",
       "      <td>2023</td>\n",
       "      <td>8627.0</td>\n",
       "      <td>4288.0</td>\n",
       "      <td>0.586273</td>\n",
       "      <td>0.291403</td>\n",
       "      <td>Punta Gorda, FL</td>\n",
       "      <td>Metropolitan Statistical Area</td>\n",
       "    </tr>\n",
       "    <tr>\n",
       "      <th>...</th>\n",
       "      <td>...</td>\n",
       "      <td>...</td>\n",
       "      <td>...</td>\n",
       "      <td>...</td>\n",
       "      <td>...</td>\n",
       "      <td>...</td>\n",
       "      <td>...</td>\n",
       "      <td>...</td>\n",
       "      <td>...</td>\n",
       "    </tr>\n",
       "    <tr>\n",
       "      <th>700</th>\n",
       "      <td>38660</td>\n",
       "      <td>34528.0</td>\n",
       "      <td>2023</td>\n",
       "      <td>9488.0</td>\n",
       "      <td>4646.0</td>\n",
       "      <td>0.274791</td>\n",
       "      <td>0.134557</td>\n",
       "      <td>Ponce, PR</td>\n",
       "      <td>Metropolitan Statistical Area</td>\n",
       "    </tr>\n",
       "    <tr>\n",
       "      <th>297</th>\n",
       "      <td>22520</td>\n",
       "      <td>21971.0</td>\n",
       "      <td>2023</td>\n",
       "      <td>6006.0</td>\n",
       "      <td>4326.0</td>\n",
       "      <td>0.273360</td>\n",
       "      <td>0.196896</td>\n",
       "      <td>Florence-Muscle Shoals, AL</td>\n",
       "      <td>Metropolitan Statistical Area</td>\n",
       "    </tr>\n",
       "    <tr>\n",
       "      <th>958</th>\n",
       "      <td>48140</td>\n",
       "      <td>15724.0</td>\n",
       "      <td>2023</td>\n",
       "      <td>4250.0</td>\n",
       "      <td>2282.0</td>\n",
       "      <td>0.270287</td>\n",
       "      <td>0.145128</td>\n",
       "      <td>Wausau, WI</td>\n",
       "      <td>Metropolitan Statistical Area</td>\n",
       "    </tr>\n",
       "    <tr>\n",
       "      <th>41</th>\n",
       "      <td>11640</td>\n",
       "      <td>18683.0</td>\n",
       "      <td>2023</td>\n",
       "      <td>4132.0</td>\n",
       "      <td>2146.0</td>\n",
       "      <td>0.221164</td>\n",
       "      <td>0.114864</td>\n",
       "      <td>Arecibo, PR</td>\n",
       "      <td>Metropolitan Statistical Area</td>\n",
       "    </tr>\n",
       "    <tr>\n",
       "      <th>7</th>\n",
       "      <td>10380</td>\n",
       "      <td>30177.0</td>\n",
       "      <td>2023</td>\n",
       "      <td>5753.0</td>\n",
       "      <td>2800.0</td>\n",
       "      <td>0.190642</td>\n",
       "      <td>0.092786</td>\n",
       "      <td>Aguadilla, PR</td>\n",
       "      <td>Metropolitan Statistical Area</td>\n",
       "    </tr>\n",
       "  </tbody>\n",
       "</table>\n",
       "<p>393 rows × 9 columns</p>\n",
       "</div>"
      ],
      "text/plain": [
       "        id   renters  year  burdened_renters  extreme_burdened_renters  \\\n",
       "315  23540   58679.0  2023           36285.0                   19267.0   \n",
       "135  15980   80878.0  2023           48985.0                   26533.0   \n",
       "708  38940   45936.0  2023           27565.0                   15233.0   \n",
       "570  33100  897791.0  2023          531678.0                  288146.0   \n",
       "722  39460   14715.0  2023            8627.0                    4288.0   \n",
       "..     ...       ...   ...               ...                       ...   \n",
       "700  38660   34528.0  2023            9488.0                    4646.0   \n",
       "297  22520   21971.0  2023            6006.0                    4326.0   \n",
       "958  48140   15724.0  2023            4250.0                    2282.0   \n",
       "41   11640   18683.0  2023            4132.0                    2146.0   \n",
       "7    10380   30177.0  2023            5753.0                    2800.0   \n",
       "\n",
       "     burdened_renters_pct  extreme_burdened_renters_pct  \\\n",
       "315              0.618364                      0.328346   \n",
       "135              0.605665                      0.328062   \n",
       "708              0.600074                      0.331614   \n",
       "570              0.592207                      0.320950   \n",
       "722              0.586273                      0.291403   \n",
       "..                    ...                           ...   \n",
       "700              0.274791                      0.134557   \n",
       "297              0.273360                      0.196896   \n",
       "958              0.270287                      0.145128   \n",
       "41               0.221164                      0.114864   \n",
       "7                0.190642                      0.092786   \n",
       "\n",
       "                                          name                           type  \n",
       "315                            Gainesville, FL  Metropolitan Statistical Area  \n",
       "135                  Cape Coral-Fort Myers, FL  Metropolitan Statistical Area  \n",
       "708                         Port St. Lucie, FL  Metropolitan Statistical Area  \n",
       "570  Miami-Fort Lauderdale-West Palm Beach, FL  Metropolitan Statistical Area  \n",
       "722                            Punta Gorda, FL  Metropolitan Statistical Area  \n",
       "..                                         ...                            ...  \n",
       "700                                  Ponce, PR  Metropolitan Statistical Area  \n",
       "297                 Florence-Muscle Shoals, AL  Metropolitan Statistical Area  \n",
       "958                                 Wausau, WI  Metropolitan Statistical Area  \n",
       "41                                 Arecibo, PR  Metropolitan Statistical Area  \n",
       "7                                Aguadilla, PR  Metropolitan Statistical Area  \n",
       "\n",
       "[393 rows x 9 columns]"
      ]
     },
     "execution_count": 53,
     "metadata": {},
     "output_type": "execute_result"
    }
   ],
   "source": [
    "# sort by burdened_renters_pct\n",
    "msa_rental_data.sort_values('burdened_renters_pct', ascending=False, inplace=True)\n",
    "\n",
    "msa_rental_data"
   ]
  },
  {
   "cell_type": "code",
   "execution_count": null,
   "metadata": {},
   "outputs": [
    {
     "data": {
      "text/html": [
       "<div>\n",
       "<style scoped>\n",
       "    .dataframe tbody tr th:only-of-type {\n",
       "        vertical-align: middle;\n",
       "    }\n",
       "\n",
       "    .dataframe tbody tr th {\n",
       "        vertical-align: top;\n",
       "    }\n",
       "\n",
       "    .dataframe thead th {\n",
       "        text-align: right;\n",
       "    }\n",
       "</style>\n",
       "<table border=\"1\" class=\"dataframe\">\n",
       "  <thead>\n",
       "    <tr style=\"text-align: right;\">\n",
       "      <th></th>\n",
       "      <th>id</th>\n",
       "      <th>renters</th>\n",
       "      <th>year</th>\n",
       "      <th>burdened_renters</th>\n",
       "      <th>extreme_burdened_renters</th>\n",
       "      <th>burdened_renters_pct</th>\n",
       "      <th>extreme_burdened_renters_pct</th>\n",
       "      <th>name</th>\n",
       "      <th>type</th>\n",
       "    </tr>\n",
       "  </thead>\n",
       "  <tbody>\n",
       "    <tr>\n",
       "      <th>315</th>\n",
       "      <td>23540</td>\n",
       "      <td>58679.0</td>\n",
       "      <td>2023</td>\n",
       "      <td>36285.0</td>\n",
       "      <td>19267.0</td>\n",
       "      <td>0.618364</td>\n",
       "      <td>0.328346</td>\n",
       "      <td>Gainesville, FL</td>\n",
       "      <td>Metropolitan Statistical Area</td>\n",
       "    </tr>\n",
       "    <tr>\n",
       "      <th>135</th>\n",
       "      <td>15980</td>\n",
       "      <td>80878.0</td>\n",
       "      <td>2023</td>\n",
       "      <td>48985.0</td>\n",
       "      <td>26533.0</td>\n",
       "      <td>0.605665</td>\n",
       "      <td>0.328062</td>\n",
       "      <td>Cape Coral, FL</td>\n",
       "      <td>Metropolitan Statistical Area</td>\n",
       "    </tr>\n",
       "    <tr>\n",
       "      <th>708</th>\n",
       "      <td>38940</td>\n",
       "      <td>45936.0</td>\n",
       "      <td>2023</td>\n",
       "      <td>27565.0</td>\n",
       "      <td>15233.0</td>\n",
       "      <td>0.600074</td>\n",
       "      <td>0.331614</td>\n",
       "      <td>Port St. Lucie, FL</td>\n",
       "      <td>Metropolitan Statistical Area</td>\n",
       "    </tr>\n",
       "    <tr>\n",
       "      <th>570</th>\n",
       "      <td>33100</td>\n",
       "      <td>897791.0</td>\n",
       "      <td>2023</td>\n",
       "      <td>531678.0</td>\n",
       "      <td>288146.0</td>\n",
       "      <td>0.592207</td>\n",
       "      <td>0.320950</td>\n",
       "      <td>Miami, FL</td>\n",
       "      <td>Metropolitan Statistical Area</td>\n",
       "    </tr>\n",
       "    <tr>\n",
       "      <th>722</th>\n",
       "      <td>39460</td>\n",
       "      <td>14715.0</td>\n",
       "      <td>2023</td>\n",
       "      <td>8627.0</td>\n",
       "      <td>4288.0</td>\n",
       "      <td>0.586273</td>\n",
       "      <td>0.291403</td>\n",
       "      <td>Punta Gorda, FL</td>\n",
       "      <td>Metropolitan Statistical Area</td>\n",
       "    </tr>\n",
       "    <tr>\n",
       "      <th>...</th>\n",
       "      <td>...</td>\n",
       "      <td>...</td>\n",
       "      <td>...</td>\n",
       "      <td>...</td>\n",
       "      <td>...</td>\n",
       "      <td>...</td>\n",
       "      <td>...</td>\n",
       "      <td>...</td>\n",
       "      <td>...</td>\n",
       "    </tr>\n",
       "    <tr>\n",
       "      <th>700</th>\n",
       "      <td>38660</td>\n",
       "      <td>34528.0</td>\n",
       "      <td>2023</td>\n",
       "      <td>9488.0</td>\n",
       "      <td>4646.0</td>\n",
       "      <td>0.274791</td>\n",
       "      <td>0.134557</td>\n",
       "      <td>Ponce, PR</td>\n",
       "      <td>Metropolitan Statistical Area</td>\n",
       "    </tr>\n",
       "    <tr>\n",
       "      <th>297</th>\n",
       "      <td>22520</td>\n",
       "      <td>21971.0</td>\n",
       "      <td>2023</td>\n",
       "      <td>6006.0</td>\n",
       "      <td>4326.0</td>\n",
       "      <td>0.273360</td>\n",
       "      <td>0.196896</td>\n",
       "      <td>Florence, AL</td>\n",
       "      <td>Metropolitan Statistical Area</td>\n",
       "    </tr>\n",
       "    <tr>\n",
       "      <th>958</th>\n",
       "      <td>48140</td>\n",
       "      <td>15724.0</td>\n",
       "      <td>2023</td>\n",
       "      <td>4250.0</td>\n",
       "      <td>2282.0</td>\n",
       "      <td>0.270287</td>\n",
       "      <td>0.145128</td>\n",
       "      <td>Wausau, WI</td>\n",
       "      <td>Metropolitan Statistical Area</td>\n",
       "    </tr>\n",
       "    <tr>\n",
       "      <th>41</th>\n",
       "      <td>11640</td>\n",
       "      <td>18683.0</td>\n",
       "      <td>2023</td>\n",
       "      <td>4132.0</td>\n",
       "      <td>2146.0</td>\n",
       "      <td>0.221164</td>\n",
       "      <td>0.114864</td>\n",
       "      <td>Arecibo, PR</td>\n",
       "      <td>Metropolitan Statistical Area</td>\n",
       "    </tr>\n",
       "    <tr>\n",
       "      <th>7</th>\n",
       "      <td>10380</td>\n",
       "      <td>30177.0</td>\n",
       "      <td>2023</td>\n",
       "      <td>5753.0</td>\n",
       "      <td>2800.0</td>\n",
       "      <td>0.190642</td>\n",
       "      <td>0.092786</td>\n",
       "      <td>Aguadilla, PR</td>\n",
       "      <td>Metropolitan Statistical Area</td>\n",
       "    </tr>\n",
       "  </tbody>\n",
       "</table>\n",
       "<p>393 rows × 9 columns</p>\n",
       "</div>"
      ],
      "text/plain": [
       "        id   renters  year  burdened_renters  extreme_burdened_renters  \\\n",
       "315  23540   58679.0  2023           36285.0                   19267.0   \n",
       "135  15980   80878.0  2023           48985.0                   26533.0   \n",
       "708  38940   45936.0  2023           27565.0                   15233.0   \n",
       "570  33100  897791.0  2023          531678.0                  288146.0   \n",
       "722  39460   14715.0  2023            8627.0                    4288.0   \n",
       "..     ...       ...   ...               ...                       ...   \n",
       "700  38660   34528.0  2023            9488.0                    4646.0   \n",
       "297  22520   21971.0  2023            6006.0                    4326.0   \n",
       "958  48140   15724.0  2023            4250.0                    2282.0   \n",
       "41   11640   18683.0  2023            4132.0                    2146.0   \n",
       "7    10380   30177.0  2023            5753.0                    2800.0   \n",
       "\n",
       "     burdened_renters_pct  extreme_burdened_renters_pct                name  \\\n",
       "315              0.618364                      0.328346     Gainesville, FL   \n",
       "135              0.605665                      0.328062      Cape Coral, FL   \n",
       "708              0.600074                      0.331614  Port St. Lucie, FL   \n",
       "570              0.592207                      0.320950           Miami, FL   \n",
       "722              0.586273                      0.291403     Punta Gorda, FL   \n",
       "..                    ...                           ...                 ...   \n",
       "700              0.274791                      0.134557           Ponce, PR   \n",
       "297              0.273360                      0.196896        Florence, AL   \n",
       "958              0.270287                      0.145128          Wausau, WI   \n",
       "41               0.221164                      0.114864         Arecibo, PR   \n",
       "7                0.190642                      0.092786       Aguadilla, PR   \n",
       "\n",
       "                              type  \n",
       "315  Metropolitan Statistical Area  \n",
       "135  Metropolitan Statistical Area  \n",
       "708  Metropolitan Statistical Area  \n",
       "570  Metropolitan Statistical Area  \n",
       "722  Metropolitan Statistical Area  \n",
       "..                             ...  \n",
       "700  Metropolitan Statistical Area  \n",
       "297  Metropolitan Statistical Area  \n",
       "958  Metropolitan Statistical Area  \n",
       "41   Metropolitan Statistical Area  \n",
       "7    Metropolitan Statistical Area  \n",
       "\n",
       "[393 rows x 9 columns]"
      ]
     },
     "execution_count": 54,
     "metadata": {},
     "output_type": "execute_result"
    }
   ],
   "source": [
    "import re\n",
    "\n",
    "def extract_city_state(name):\n",
    "    match = re.match(r'([^-]+)-[^,]+, ([A-Z]{2})', name)\n",
    "    if match:\n",
    "        return f\"{match.group(1).strip()}, {match.group(2)}\"\n",
    "    return name\n",
    "\n",
    "msa_rental_data['name'] = msa_rental_data['name'].apply(extract_city_state)\n",
    "\n",
    "msa_rental_data"
   ]
  },
  {
   "cell_type": "code",
   "execution_count": 28,
   "metadata": {},
   "outputs": [
    {
     "name": "stdout",
     "output_type": "stream",
     "text": [
      "Failed to fetch 2020 data from acs1: <!doctype html><html lang=\"en\"><head><title>HTTP Status 404 ? Not Found</title><style type=\"text/css\">body {font-family:Tahoma,Arial,sans-serif;} h1, h2, h3, b {color:white;background-color:#525D76;} h1 {font-size:22px;} h2 {font-size:16px;} h3 {font-size:14px;} p {font-size:12px;} a {color:black;} .line {height:1px;background-color:#525D76;border:none;}</style></head><body><h1>HTTP Status 404 ? Not Found</h1></body></html>\n"
     ]
    },
    {
     "data": {
      "application/vnd.microsoft.datawrangler.viewer.v0+json": {
       "columns": [
        {
         "name": "index",
         "rawType": "int64",
         "type": "integer"
        },
        {
         "name": "id",
         "rawType": "int64",
         "type": "integer"
        },
        {
         "name": "value",
         "rawType": "float64",
         "type": "float"
        },
        {
         "name": "year",
         "rawType": "int64",
         "type": "integer"
        }
       ],
       "conversionMethod": "pd.DataFrame",
       "ref": "5e023fca-0957-4e6c-9043-3ba6b2267a94",
       "rows": [
        [
         "0",
         "1003",
         "33.8",
         "2010"
        ],
        [
         "1",
         "1015",
         "31.1",
         "2010"
        ],
        [
         "2",
         "1043",
         "41.0",
         "2010"
        ],
        [
         "3",
         "1049",
         "30.1",
         "2010"
        ],
        [
         "4",
         "1051",
         "25.3",
         "2010"
        ],
        [
         "5",
         "1055",
         "28.8",
         "2010"
        ],
        [
         "6",
         "1069",
         "28.4",
         "2010"
        ],
        [
         "7",
         "1073",
         "33.4",
         "2010"
        ],
        [
         "8",
         "1077",
         "33.2",
         "2010"
        ],
        [
         "9",
         "1081",
         "39.3",
         "2010"
        ],
        [
         "10",
         "1083",
         "27.8",
         "2010"
        ],
        [
         "11",
         "1089",
         "30.7",
         "2010"
        ],
        [
         "12",
         "1095",
         "28.9",
         "2010"
        ],
        [
         "13",
         "1097",
         "35.1",
         "2010"
        ],
        [
         "14",
         "1101",
         "34.5",
         "2010"
        ],
        [
         "15",
         "1103",
         "27.8",
         "2010"
        ],
        [
         "16",
         "1115",
         "26.7",
         "2010"
        ],
        [
         "17",
         "1117",
         "29.6",
         "2010"
        ],
        [
         "18",
         "1121",
         "27.2",
         "2010"
        ],
        [
         "19",
         "1125",
         "33.6",
         "2010"
        ],
        [
         "20",
         "1127",
         "29.2",
         "2010"
        ],
        [
         "21",
         "2020",
         "29.7",
         "2010"
        ],
        [
         "22",
         "2090",
         "29.8",
         "2010"
        ],
        [
         "23",
         "2170",
         "30.6",
         "2010"
        ],
        [
         "24",
         "4001",
         "23.0",
         "2010"
        ],
        [
         "25",
         "4003",
         "25.3",
         "2010"
        ],
        [
         "26",
         "4005",
         "33.5",
         "2010"
        ],
        [
         "27",
         "4013",
         "31.7",
         "2010"
        ],
        [
         "28",
         "4015",
         "31.2",
         "2010"
        ],
        [
         "29",
         "4017",
         "24.9",
         "2010"
        ],
        [
         "30",
         "4019",
         "32.0",
         "2010"
        ],
        [
         "31",
         "4021",
         "33.1",
         "2010"
        ],
        [
         "32",
         "4025",
         "33.3",
         "2010"
        ],
        [
         "33",
         "4027",
         "31.8",
         "2010"
        ],
        [
         "34",
         "5007",
         "26.3",
         "2010"
        ],
        [
         "35",
         "5031",
         "30.2",
         "2010"
        ],
        [
         "36",
         "5045",
         "27.4",
         "2010"
        ],
        [
         "37",
         "5051",
         "29.1",
         "2010"
        ],
        [
         "38",
         "5069",
         "29.9",
         "2010"
        ],
        [
         "39",
         "5085",
         "29.4",
         "2010"
        ],
        [
         "40",
         "5119",
         "30.4",
         "2010"
        ],
        [
         "41",
         "5125",
         "35.8",
         "2010"
        ],
        [
         "42",
         "5131",
         "27.8",
         "2010"
        ],
        [
         "43",
         "5143",
         "30.3",
         "2010"
        ],
        [
         "44",
         "5145",
         "28.5",
         "2010"
        ],
        [
         "45",
         "6001",
         "31.9",
         "2010"
        ],
        [
         "46",
         "6007",
         "34.1",
         "2010"
        ],
        [
         "47",
         "6013",
         "32.9",
         "2010"
        ],
        [
         "48",
         "6017",
         "35.2",
         "2010"
        ],
        [
         "49",
         "6019",
         "34.6",
         "2010"
        ]
       ],
       "shape": {
        "columns": 3,
        "rows": 10840
       }
      },
      "text/html": [
       "<div>\n",
       "<style scoped>\n",
       "    .dataframe tbody tr th:only-of-type {\n",
       "        vertical-align: middle;\n",
       "    }\n",
       "\n",
       "    .dataframe tbody tr th {\n",
       "        vertical-align: top;\n",
       "    }\n",
       "\n",
       "    .dataframe thead th {\n",
       "        text-align: right;\n",
       "    }\n",
       "</style>\n",
       "<table border=\"1\" class=\"dataframe\">\n",
       "  <thead>\n",
       "    <tr style=\"text-align: right;\">\n",
       "      <th></th>\n",
       "      <th>id</th>\n",
       "      <th>value</th>\n",
       "      <th>year</th>\n",
       "    </tr>\n",
       "  </thead>\n",
       "  <tbody>\n",
       "    <tr>\n",
       "      <th>0</th>\n",
       "      <td>1003</td>\n",
       "      <td>33.8</td>\n",
       "      <td>2010</td>\n",
       "    </tr>\n",
       "    <tr>\n",
       "      <th>1</th>\n",
       "      <td>1015</td>\n",
       "      <td>31.1</td>\n",
       "      <td>2010</td>\n",
       "    </tr>\n",
       "    <tr>\n",
       "      <th>2</th>\n",
       "      <td>1043</td>\n",
       "      <td>41.0</td>\n",
       "      <td>2010</td>\n",
       "    </tr>\n",
       "    <tr>\n",
       "      <th>3</th>\n",
       "      <td>1049</td>\n",
       "      <td>30.1</td>\n",
       "      <td>2010</td>\n",
       "    </tr>\n",
       "    <tr>\n",
       "      <th>4</th>\n",
       "      <td>1051</td>\n",
       "      <td>25.3</td>\n",
       "      <td>2010</td>\n",
       "    </tr>\n",
       "    <tr>\n",
       "      <th>...</th>\n",
       "      <td>...</td>\n",
       "      <td>...</td>\n",
       "      <td>...</td>\n",
       "    </tr>\n",
       "    <tr>\n",
       "      <th>10835</th>\n",
       "      <td>72113</td>\n",
       "      <td>32.1</td>\n",
       "      <td>2023</td>\n",
       "    </tr>\n",
       "    <tr>\n",
       "      <th>10836</th>\n",
       "      <td>72127</td>\n",
       "      <td>30.9</td>\n",
       "      <td>2023</td>\n",
       "    </tr>\n",
       "    <tr>\n",
       "      <th>10837</th>\n",
       "      <td>72135</td>\n",
       "      <td>40.2</td>\n",
       "      <td>2023</td>\n",
       "    </tr>\n",
       "    <tr>\n",
       "      <th>10838</th>\n",
       "      <td>72137</td>\n",
       "      <td>26.7</td>\n",
       "      <td>2023</td>\n",
       "    </tr>\n",
       "    <tr>\n",
       "      <th>10839</th>\n",
       "      <td>72139</td>\n",
       "      <td>25.9</td>\n",
       "      <td>2023</td>\n",
       "    </tr>\n",
       "  </tbody>\n",
       "</table>\n",
       "<p>10840 rows × 3 columns</p>\n",
       "</div>"
      ],
      "text/plain": [
       "          id  value  year\n",
       "0       1003   33.8  2010\n",
       "1       1015   31.1  2010\n",
       "2       1043   41.0  2010\n",
       "3       1049   30.1  2010\n",
       "4       1051   25.3  2010\n",
       "...      ...    ...   ...\n",
       "10835  72113   32.1  2023\n",
       "10836  72127   30.9  2023\n",
       "10837  72135   40.2  2023\n",
       "10838  72137   26.7  2023\n",
       "10839  72139   25.9  2023\n",
       "\n",
       "[10840 rows x 3 columns]"
      ]
     },
     "execution_count": 28,
     "metadata": {},
     "output_type": "execute_result"
    }
   ],
   "source": [
    "# median gross rent as a percentage of household income (B25071)\n",
    "\n",
    "# get data for all counties\n",
    "rent_income = get_census_data(c, 'B25071_001E', geo_level='county')\n",
    "\n",
    "rent_income"
   ]
  },
  {
   "cell_type": "code",
   "execution_count": 29,
   "metadata": {},
   "outputs": [
    {
     "data": {
      "application/vnd.microsoft.datawrangler.viewer.v0+json": {
       "columns": [
        {
         "name": "index",
         "rawType": "int64",
         "type": "integer"
        },
        {
         "name": "id",
         "rawType": "int64",
         "type": "integer"
        },
        {
         "name": "value",
         "rawType": "float64",
         "type": "float"
        },
        {
         "name": "year",
         "rawType": "int64",
         "type": "integer"
        }
       ],
       "conversionMethod": "pd.DataFrame",
       "ref": "df5cef53-283c-4ca2-a993-f4fe7872c65a",
       "rows": [
        [
         "0",
         "1003",
         "0.33799999999999997",
         "2010"
        ],
        [
         "1",
         "1015",
         "0.311",
         "2010"
        ],
        [
         "2",
         "1043",
         "0.41",
         "2010"
        ],
        [
         "3",
         "1049",
         "0.301",
         "2010"
        ],
        [
         "4",
         "1051",
         "0.253",
         "2010"
        ],
        [
         "5",
         "1055",
         "0.28800000000000003",
         "2010"
        ],
        [
         "6",
         "1069",
         "0.284",
         "2010"
        ],
        [
         "7",
         "1073",
         "0.33399999999999996",
         "2010"
        ],
        [
         "8",
         "1077",
         "0.332",
         "2010"
        ],
        [
         "9",
         "1081",
         "0.39299999999999996",
         "2010"
        ],
        [
         "10",
         "1083",
         "0.278",
         "2010"
        ],
        [
         "11",
         "1089",
         "0.307",
         "2010"
        ],
        [
         "12",
         "1095",
         "0.289",
         "2010"
        ],
        [
         "13",
         "1097",
         "0.35100000000000003",
         "2010"
        ],
        [
         "14",
         "1101",
         "0.345",
         "2010"
        ],
        [
         "15",
         "1103",
         "0.278",
         "2010"
        ],
        [
         "16",
         "1115",
         "0.267",
         "2010"
        ],
        [
         "17",
         "1117",
         "0.29600000000000004",
         "2010"
        ],
        [
         "18",
         "1121",
         "0.272",
         "2010"
        ],
        [
         "19",
         "1125",
         "0.336",
         "2010"
        ],
        [
         "20",
         "1127",
         "0.292",
         "2010"
        ],
        [
         "21",
         "2020",
         "0.297",
         "2010"
        ],
        [
         "22",
         "2090",
         "0.298",
         "2010"
        ],
        [
         "23",
         "2170",
         "0.306",
         "2010"
        ],
        [
         "24",
         "4001",
         "0.23",
         "2010"
        ],
        [
         "25",
         "4003",
         "0.253",
         "2010"
        ],
        [
         "26",
         "4005",
         "0.335",
         "2010"
        ],
        [
         "27",
         "4013",
         "0.317",
         "2010"
        ],
        [
         "28",
         "4015",
         "0.312",
         "2010"
        ],
        [
         "29",
         "4017",
         "0.249",
         "2010"
        ],
        [
         "30",
         "4019",
         "0.32",
         "2010"
        ],
        [
         "31",
         "4021",
         "0.331",
         "2010"
        ],
        [
         "32",
         "4025",
         "0.33299999999999996",
         "2010"
        ],
        [
         "33",
         "4027",
         "0.318",
         "2010"
        ],
        [
         "34",
         "5007",
         "0.263",
         "2010"
        ],
        [
         "35",
         "5031",
         "0.302",
         "2010"
        ],
        [
         "36",
         "5045",
         "0.27399999999999997",
         "2010"
        ],
        [
         "37",
         "5051",
         "0.29100000000000004",
         "2010"
        ],
        [
         "38",
         "5069",
         "0.299",
         "2010"
        ],
        [
         "39",
         "5085",
         "0.294",
         "2010"
        ],
        [
         "40",
         "5119",
         "0.304",
         "2010"
        ],
        [
         "41",
         "5125",
         "0.358",
         "2010"
        ],
        [
         "42",
         "5131",
         "0.278",
         "2010"
        ],
        [
         "43",
         "5143",
         "0.303",
         "2010"
        ],
        [
         "44",
         "5145",
         "0.285",
         "2010"
        ],
        [
         "45",
         "6001",
         "0.319",
         "2010"
        ],
        [
         "46",
         "6007",
         "0.341",
         "2010"
        ],
        [
         "47",
         "6013",
         "0.32899999999999996",
         "2010"
        ],
        [
         "48",
         "6017",
         "0.35200000000000004",
         "2010"
        ],
        [
         "49",
         "6019",
         "0.34600000000000003",
         "2010"
        ]
       ],
       "shape": {
        "columns": 3,
        "rows": 10840
       }
      },
      "text/html": [
       "<div>\n",
       "<style scoped>\n",
       "    .dataframe tbody tr th:only-of-type {\n",
       "        vertical-align: middle;\n",
       "    }\n",
       "\n",
       "    .dataframe tbody tr th {\n",
       "        vertical-align: top;\n",
       "    }\n",
       "\n",
       "    .dataframe thead th {\n",
       "        text-align: right;\n",
       "    }\n",
       "</style>\n",
       "<table border=\"1\" class=\"dataframe\">\n",
       "  <thead>\n",
       "    <tr style=\"text-align: right;\">\n",
       "      <th></th>\n",
       "      <th>id</th>\n",
       "      <th>value</th>\n",
       "      <th>year</th>\n",
       "    </tr>\n",
       "  </thead>\n",
       "  <tbody>\n",
       "    <tr>\n",
       "      <th>0</th>\n",
       "      <td>1003</td>\n",
       "      <td>0.338</td>\n",
       "      <td>2010</td>\n",
       "    </tr>\n",
       "    <tr>\n",
       "      <th>1</th>\n",
       "      <td>1015</td>\n",
       "      <td>0.311</td>\n",
       "      <td>2010</td>\n",
       "    </tr>\n",
       "    <tr>\n",
       "      <th>2</th>\n",
       "      <td>1043</td>\n",
       "      <td>0.410</td>\n",
       "      <td>2010</td>\n",
       "    </tr>\n",
       "    <tr>\n",
       "      <th>3</th>\n",
       "      <td>1049</td>\n",
       "      <td>0.301</td>\n",
       "      <td>2010</td>\n",
       "    </tr>\n",
       "    <tr>\n",
       "      <th>4</th>\n",
       "      <td>1051</td>\n",
       "      <td>0.253</td>\n",
       "      <td>2010</td>\n",
       "    </tr>\n",
       "    <tr>\n",
       "      <th>...</th>\n",
       "      <td>...</td>\n",
       "      <td>...</td>\n",
       "      <td>...</td>\n",
       "    </tr>\n",
       "    <tr>\n",
       "      <th>10835</th>\n",
       "      <td>72113</td>\n",
       "      <td>0.321</td>\n",
       "      <td>2023</td>\n",
       "    </tr>\n",
       "    <tr>\n",
       "      <th>10836</th>\n",
       "      <td>72127</td>\n",
       "      <td>0.309</td>\n",
       "      <td>2023</td>\n",
       "    </tr>\n",
       "    <tr>\n",
       "      <th>10837</th>\n",
       "      <td>72135</td>\n",
       "      <td>0.402</td>\n",
       "      <td>2023</td>\n",
       "    </tr>\n",
       "    <tr>\n",
       "      <th>10838</th>\n",
       "      <td>72137</td>\n",
       "      <td>0.267</td>\n",
       "      <td>2023</td>\n",
       "    </tr>\n",
       "    <tr>\n",
       "      <th>10839</th>\n",
       "      <td>72139</td>\n",
       "      <td>0.259</td>\n",
       "      <td>2023</td>\n",
       "    </tr>\n",
       "  </tbody>\n",
       "</table>\n",
       "<p>10840 rows × 3 columns</p>\n",
       "</div>"
      ],
      "text/plain": [
       "          id  value  year\n",
       "0       1003  0.338  2010\n",
       "1       1015  0.311  2010\n",
       "2       1043  0.410  2010\n",
       "3       1049  0.301  2010\n",
       "4       1051  0.253  2010\n",
       "...      ...    ...   ...\n",
       "10835  72113  0.321  2023\n",
       "10836  72127  0.309  2023\n",
       "10837  72135  0.402  2023\n",
       "10838  72137  0.267  2023\n",
       "10839  72139  0.259  2023\n",
       "\n",
       "[10840 rows x 3 columns]"
      ]
     },
     "execution_count": 29,
     "metadata": {},
     "output_type": "execute_result"
    }
   ],
   "source": [
    "# make percentage of income spent on rent\n",
    "\n",
    "rent_income['value'] = rent_income['value'] / 100\n",
    "\n",
    "rent_income"
   ]
  },
  {
   "cell_type": "code",
   "execution_count": 30,
   "metadata": {},
   "outputs": [],
   "source": [
    "rent_income.to_csv('data/rent_burden_county.csv', index=False)"
   ]
  },
  {
   "cell_type": "code",
   "execution_count": 31,
   "metadata": {},
   "outputs": [
    {
     "data": {
      "application/vnd.microsoft.datawrangler.viewer.v0+json": {
       "columns": [
        {
         "name": "index",
         "rawType": "int64",
         "type": "integer"
        },
        {
         "name": "id",
         "rawType": "int64",
         "type": "integer"
        },
        {
         "name": "value",
         "rawType": "float64",
         "type": "float"
        },
        {
         "name": "year",
         "rawType": "int64",
         "type": "integer"
        },
        {
         "name": "name",
         "rawType": "object",
         "type": "string"
        }
       ],
       "conversionMethod": "pd.DataFrame",
       "ref": "b6632dcb-7d48-4375-9250-652d228f7b9d",
       "rows": [
        [
         "0",
         "1003",
         "0.33799999999999997",
         "2010",
         "Baldwin County, Alabama"
        ],
        [
         "1",
         "1015",
         "0.311",
         "2010",
         "Calhoun County, Alabama"
        ],
        [
         "2",
         "1043",
         "0.41",
         "2010",
         "Cullman County, Alabama"
        ],
        [
         "3",
         "1049",
         "0.301",
         "2010",
         "DeKalb County, Alabama"
        ],
        [
         "4",
         "1051",
         "0.253",
         "2010",
         "Elmore County, Alabama"
        ],
        [
         "5",
         "1055",
         "0.28800000000000003",
         "2010",
         "Etowah County, Alabama"
        ],
        [
         "6",
         "1069",
         "0.284",
         "2010",
         "Houston County, Alabama"
        ],
        [
         "7",
         "1073",
         "0.33399999999999996",
         "2010",
         "Jefferson County, Alabama"
        ],
        [
         "8",
         "1077",
         "0.332",
         "2010",
         "Lauderdale County, Alabama"
        ],
        [
         "9",
         "1081",
         "0.39299999999999996",
         "2010",
         "Lee County, Alabama"
        ],
        [
         "10",
         "1083",
         "0.278",
         "2010",
         "Limestone County, Alabama"
        ],
        [
         "11",
         "1089",
         "0.307",
         "2010",
         "Madison County, Alabama"
        ],
        [
         "12",
         "1095",
         "0.289",
         "2010",
         "Marshall County, Alabama"
        ],
        [
         "13",
         "1097",
         "0.35100000000000003",
         "2010",
         "Mobile County, Alabama"
        ],
        [
         "14",
         "1101",
         "0.345",
         "2010",
         "Montgomery County, Alabama"
        ],
        [
         "15",
         "1103",
         "0.278",
         "2010",
         "Morgan County, Alabama"
        ],
        [
         "16",
         "1115",
         "0.267",
         "2010",
         "St. Clair County, Alabama"
        ],
        [
         "17",
         "1117",
         "0.29600000000000004",
         "2010",
         "Shelby County, Alabama"
        ],
        [
         "18",
         "1121",
         "0.272",
         "2010",
         "Talladega County, Alabama"
        ],
        [
         "19",
         "1125",
         "0.336",
         "2010",
         "Tuscaloosa County, Alabama"
        ],
        [
         "20",
         "1127",
         "0.292",
         "2010",
         "Walker County, Alabama"
        ],
        [
         "21",
         "4001",
         "0.23",
         "2010",
         "Apache County, Arizona"
        ],
        [
         "22",
         "4003",
         "0.253",
         "2010",
         "Cochise County, Arizona"
        ],
        [
         "23",
         "4005",
         "0.335",
         "2010",
         "Coconino County, Arizona"
        ],
        [
         "24",
         "4013",
         "0.317",
         "2010",
         "Maricopa County, Arizona"
        ],
        [
         "25",
         "4015",
         "0.312",
         "2010",
         "Mohave County, Arizona"
        ],
        [
         "26",
         "4017",
         "0.249",
         "2010",
         "Navajo County, Arizona"
        ],
        [
         "27",
         "4019",
         "0.32",
         "2010",
         "Pima County, Arizona"
        ],
        [
         "28",
         "4021",
         "0.331",
         "2010",
         "Pinal County, Arizona"
        ],
        [
         "29",
         "4025",
         "0.33299999999999996",
         "2010",
         "Yavapai County, Arizona"
        ],
        [
         "30",
         "4027",
         "0.318",
         "2010",
         "Yuma County, Arizona"
        ],
        [
         "31",
         "5007",
         "0.263",
         "2010",
         "Benton County, Arkansas"
        ],
        [
         "32",
         "5031",
         "0.302",
         "2010",
         "Craighead County, Arkansas"
        ],
        [
         "33",
         "5045",
         "0.27399999999999997",
         "2010",
         "Faulkner County, Arkansas"
        ],
        [
         "34",
         "5051",
         "0.29100000000000004",
         "2010",
         "Garland County, Arkansas"
        ],
        [
         "35",
         "5069",
         "0.299",
         "2010",
         "Jefferson County, Arkansas"
        ],
        [
         "36",
         "5085",
         "0.294",
         "2010",
         "Lonoke County, Arkansas"
        ],
        [
         "37",
         "5119",
         "0.304",
         "2010",
         "Pulaski County, Arkansas"
        ],
        [
         "38",
         "5125",
         "0.358",
         "2010",
         "Saline County, Arkansas"
        ],
        [
         "39",
         "5131",
         "0.278",
         "2010",
         "Sebastian County, Arkansas"
        ],
        [
         "40",
         "5143",
         "0.303",
         "2010",
         "Washington County, Arkansas"
        ],
        [
         "41",
         "5145",
         "0.285",
         "2010",
         "White County, Arkansas"
        ],
        [
         "42",
         "6001",
         "0.319",
         "2010",
         "Alameda County, California"
        ],
        [
         "43",
         "6007",
         "0.341",
         "2010",
         "Butte County, California"
        ],
        [
         "44",
         "6013",
         "0.32899999999999996",
         "2010",
         "Contra Costa County, California"
        ],
        [
         "45",
         "6017",
         "0.35200000000000004",
         "2010",
         "El Dorado County, California"
        ],
        [
         "46",
         "6019",
         "0.34600000000000003",
         "2010",
         "Fresno County, California"
        ],
        [
         "47",
         "6023",
         "0.361",
         "2010",
         "Humboldt County, California"
        ],
        [
         "48",
         "6025",
         "0.315",
         "2010",
         "Imperial County, California"
        ],
        [
         "49",
         "6029",
         "0.335",
         "2010",
         "Kern County, California"
        ]
       ],
       "shape": {
        "columns": 4,
        "rows": 10588
       }
      },
      "text/html": [
       "<div>\n",
       "<style scoped>\n",
       "    .dataframe tbody tr th:only-of-type {\n",
       "        vertical-align: middle;\n",
       "    }\n",
       "\n",
       "    .dataframe tbody tr th {\n",
       "        vertical-align: top;\n",
       "    }\n",
       "\n",
       "    .dataframe thead th {\n",
       "        text-align: right;\n",
       "    }\n",
       "</style>\n",
       "<table border=\"1\" class=\"dataframe\">\n",
       "  <thead>\n",
       "    <tr style=\"text-align: right;\">\n",
       "      <th></th>\n",
       "      <th>id</th>\n",
       "      <th>value</th>\n",
       "      <th>year</th>\n",
       "      <th>name</th>\n",
       "    </tr>\n",
       "  </thead>\n",
       "  <tbody>\n",
       "    <tr>\n",
       "      <th>0</th>\n",
       "      <td>1003</td>\n",
       "      <td>0.338</td>\n",
       "      <td>2010</td>\n",
       "      <td>Baldwin County, Alabama</td>\n",
       "    </tr>\n",
       "    <tr>\n",
       "      <th>1</th>\n",
       "      <td>1015</td>\n",
       "      <td>0.311</td>\n",
       "      <td>2010</td>\n",
       "      <td>Calhoun County, Alabama</td>\n",
       "    </tr>\n",
       "    <tr>\n",
       "      <th>2</th>\n",
       "      <td>1043</td>\n",
       "      <td>0.410</td>\n",
       "      <td>2010</td>\n",
       "      <td>Cullman County, Alabama</td>\n",
       "    </tr>\n",
       "    <tr>\n",
       "      <th>3</th>\n",
       "      <td>1049</td>\n",
       "      <td>0.301</td>\n",
       "      <td>2010</td>\n",
       "      <td>DeKalb County, Alabama</td>\n",
       "    </tr>\n",
       "    <tr>\n",
       "      <th>4</th>\n",
       "      <td>1051</td>\n",
       "      <td>0.253</td>\n",
       "      <td>2010</td>\n",
       "      <td>Elmore County, Alabama</td>\n",
       "    </tr>\n",
       "    <tr>\n",
       "      <th>...</th>\n",
       "      <td>...</td>\n",
       "      <td>...</td>\n",
       "      <td>...</td>\n",
       "      <td>...</td>\n",
       "    </tr>\n",
       "    <tr>\n",
       "      <th>10583</th>\n",
       "      <td>55133</td>\n",
       "      <td>0.275</td>\n",
       "      <td>2023</td>\n",
       "      <td>Waukesha County, Wisconsin</td>\n",
       "    </tr>\n",
       "    <tr>\n",
       "      <th>10584</th>\n",
       "      <td>55139</td>\n",
       "      <td>0.278</td>\n",
       "      <td>2023</td>\n",
       "      <td>Winnebago County, Wisconsin</td>\n",
       "    </tr>\n",
       "    <tr>\n",
       "      <th>10585</th>\n",
       "      <td>55141</td>\n",
       "      <td>0.234</td>\n",
       "      <td>2023</td>\n",
       "      <td>Wood County, Wisconsin</td>\n",
       "    </tr>\n",
       "    <tr>\n",
       "      <th>10586</th>\n",
       "      <td>56021</td>\n",
       "      <td>0.288</td>\n",
       "      <td>2023</td>\n",
       "      <td>Laramie County, Wyoming</td>\n",
       "    </tr>\n",
       "    <tr>\n",
       "      <th>10587</th>\n",
       "      <td>56025</td>\n",
       "      <td>0.271</td>\n",
       "      <td>2023</td>\n",
       "      <td>Natrona County, Wyoming</td>\n",
       "    </tr>\n",
       "  </tbody>\n",
       "</table>\n",
       "<p>10588 rows × 4 columns</p>\n",
       "</div>"
      ],
      "text/plain": [
       "          id  value  year                         name\n",
       "0       1003  0.338  2010      Baldwin County, Alabama\n",
       "1       1015  0.311  2010      Calhoun County, Alabama\n",
       "2       1043  0.410  2010      Cullman County, Alabama\n",
       "3       1049  0.301  2010       DeKalb County, Alabama\n",
       "4       1051  0.253  2010       Elmore County, Alabama\n",
       "...      ...    ...   ...                          ...\n",
       "10583  55133  0.275  2023   Waukesha County, Wisconsin\n",
       "10584  55139  0.278  2023  Winnebago County, Wisconsin\n",
       "10585  55141  0.234  2023       Wood County, Wisconsin\n",
       "10586  56021  0.288  2023      Laramie County, Wyoming\n",
       "10587  56025  0.271  2023      Natrona County, Wyoming\n",
       "\n",
       "[10588 rows x 4 columns]"
      ]
     },
     "execution_count": 31,
     "metadata": {},
     "output_type": "execute_result"
    }
   ],
   "source": [
    "# merge with county names\n",
    "rent_income = pd.merge(rent_income, county_geo_properties, on='id')\n",
    "\n",
    "rent_income"
   ]
  },
  {
   "cell_type": "code",
   "execution_count": 32,
   "metadata": {},
   "outputs": [
    {
     "data": {
      "application/vnd.microsoft.datawrangler.viewer.v0+json": {
       "columns": [
        {
         "name": "index",
         "rawType": "int64",
         "type": "integer"
        },
        {
         "name": "id",
         "rawType": "int64",
         "type": "integer"
        },
        {
         "name": "value",
         "rawType": "float64",
         "type": "float"
        },
        {
         "name": "year",
         "rawType": "int64",
         "type": "integer"
        },
        {
         "name": "name",
         "rawType": "object",
         "type": "string"
        }
       ],
       "conversionMethod": "pd.DataFrame",
       "ref": "d650c125-2f78-4a59-bc86-5a10b0691bea",
       "rows": [
        [
         "8212",
         "9001",
         "0.325",
         "2021",
         "Fairfield County, Connecticut"
        ],
        [
         "8213",
         "9003",
         "0.317",
         "2021",
         "Hartford County, Connecticut"
        ],
        [
         "8214",
         "9005",
         "0.272",
         "2021",
         "Litchfield County, Connecticut"
        ],
        [
         "8215",
         "9007",
         "0.276",
         "2021",
         "Middlesex County, Connecticut"
        ],
        [
         "8216",
         "9009",
         "0.316",
         "2021",
         "New Haven County, Connecticut"
        ],
        [
         "8217",
         "9011",
         "0.29",
         "2021",
         "New London County, Connecticut"
        ],
        [
         "8218",
         "9013",
         "0.32899999999999996",
         "2021",
         "Tolland County, Connecticut"
        ],
        [
         "8219",
         "9015",
         "0.27899999999999997",
         "2021",
         "Windham County, Connecticut"
        ]
       ],
       "shape": {
        "columns": 4,
        "rows": 8
       }
      },
      "text/html": [
       "<div>\n",
       "<style scoped>\n",
       "    .dataframe tbody tr th:only-of-type {\n",
       "        vertical-align: middle;\n",
       "    }\n",
       "\n",
       "    .dataframe tbody tr th {\n",
       "        vertical-align: top;\n",
       "    }\n",
       "\n",
       "    .dataframe thead th {\n",
       "        text-align: right;\n",
       "    }\n",
       "</style>\n",
       "<table border=\"1\" class=\"dataframe\">\n",
       "  <thead>\n",
       "    <tr style=\"text-align: right;\">\n",
       "      <th></th>\n",
       "      <th>id</th>\n",
       "      <th>value</th>\n",
       "      <th>year</th>\n",
       "      <th>name</th>\n",
       "    </tr>\n",
       "  </thead>\n",
       "  <tbody>\n",
       "    <tr>\n",
       "      <th>8212</th>\n",
       "      <td>9001</td>\n",
       "      <td>0.325</td>\n",
       "      <td>2021</td>\n",
       "      <td>Fairfield County, Connecticut</td>\n",
       "    </tr>\n",
       "    <tr>\n",
       "      <th>8213</th>\n",
       "      <td>9003</td>\n",
       "      <td>0.317</td>\n",
       "      <td>2021</td>\n",
       "      <td>Hartford County, Connecticut</td>\n",
       "    </tr>\n",
       "    <tr>\n",
       "      <th>8214</th>\n",
       "      <td>9005</td>\n",
       "      <td>0.272</td>\n",
       "      <td>2021</td>\n",
       "      <td>Litchfield County, Connecticut</td>\n",
       "    </tr>\n",
       "    <tr>\n",
       "      <th>8215</th>\n",
       "      <td>9007</td>\n",
       "      <td>0.276</td>\n",
       "      <td>2021</td>\n",
       "      <td>Middlesex County, Connecticut</td>\n",
       "    </tr>\n",
       "    <tr>\n",
       "      <th>8216</th>\n",
       "      <td>9009</td>\n",
       "      <td>0.316</td>\n",
       "      <td>2021</td>\n",
       "      <td>New Haven County, Connecticut</td>\n",
       "    </tr>\n",
       "    <tr>\n",
       "      <th>8217</th>\n",
       "      <td>9011</td>\n",
       "      <td>0.290</td>\n",
       "      <td>2021</td>\n",
       "      <td>New London County, Connecticut</td>\n",
       "    </tr>\n",
       "    <tr>\n",
       "      <th>8218</th>\n",
       "      <td>9013</td>\n",
       "      <td>0.329</td>\n",
       "      <td>2021</td>\n",
       "      <td>Tolland County, Connecticut</td>\n",
       "    </tr>\n",
       "    <tr>\n",
       "      <th>8219</th>\n",
       "      <td>9015</td>\n",
       "      <td>0.279</td>\n",
       "      <td>2021</td>\n",
       "      <td>Windham County, Connecticut</td>\n",
       "    </tr>\n",
       "  </tbody>\n",
       "</table>\n",
       "</div>"
      ],
      "text/plain": [
       "        id  value  year                            name\n",
       "8212  9001  0.325  2021   Fairfield County, Connecticut\n",
       "8213  9003  0.317  2021    Hartford County, Connecticut\n",
       "8214  9005  0.272  2021  Litchfield County, Connecticut\n",
       "8215  9007  0.276  2021   Middlesex County, Connecticut\n",
       "8216  9009  0.316  2021   New Haven County, Connecticut\n",
       "8217  9011  0.290  2021  New London County, Connecticut\n",
       "8218  9013  0.329  2021     Tolland County, Connecticut\n",
       "8219  9015  0.279  2021     Windham County, Connecticut"
      ]
     },
     "execution_count": 32,
     "metadata": {},
     "output_type": "execute_result"
    }
   ],
   "source": [
    "rent_income[(rent_income['name'].str.contains('Connecticut')) & (rent_income['year'] == 2021)]"
   ]
  },
  {
   "cell_type": "code",
   "execution_count": null,
   "metadata": {},
   "outputs": [],
   "source": []
  }
 ],
 "metadata": {
  "kernelspec": {
   "display_name": "jupyterlab",
   "language": "python",
   "name": "python3"
  },
  "language_info": {
   "codemirror_mode": {
    "name": "ipython",
    "version": 3
   },
   "file_extension": ".py",
   "mimetype": "text/x-python",
   "name": "python",
   "nbconvert_exporter": "python",
   "pygments_lexer": "ipython3",
   "version": "3.13.2"
  }
 },
 "nbformat": 4,
 "nbformat_minor": 2
}
