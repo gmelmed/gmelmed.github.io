{
 "cells": [
  {
   "cell_type": "code",
   "execution_count": 11,
   "metadata": {},
   "outputs": [],
   "source": [
    "import pandas as pd\n",
    "\n",
    "# import the us census package\n",
    "from census import Census\n",
    "import us"
   ]
  },
  {
   "cell_type": "code",
   "execution_count": 12,
   "metadata": {},
   "outputs": [],
   "source": [
    "# set the api key\n",
    "c = Census(\"9330018ae4a2bd20da22ced1281145d9405dc349\")"
   ]
  },
  {
   "cell_type": "code",
   "execution_count": null,
   "metadata": {},
   "outputs": [
    {
     "data": {
      "text/html": [
       "<div>\n",
       "<style scoped>\n",
       "    .dataframe tbody tr th:only-of-type {\n",
       "        vertical-align: middle;\n",
       "    }\n",
       "\n",
       "    .dataframe tbody tr th {\n",
       "        vertical-align: top;\n",
       "    }\n",
       "\n",
       "    .dataframe thead th {\n",
       "        text-align: right;\n",
       "    }\n",
       "</style>\n",
       "<table border=\"1\" class=\"dataframe\">\n",
       "  <thead>\n",
       "    <tr style=\"text-align: right;\">\n",
       "      <th></th>\n",
       "      <th>NAME</th>\n",
       "      <th>B25140_010E</th>\n",
       "      <th>state</th>\n",
       "      <th>county</th>\n",
       "    </tr>\n",
       "  </thead>\n",
       "  <tbody>\n",
       "    <tr>\n",
       "      <th>665</th>\n",
       "      <td>York County, South Carolina</td>\n",
       "      <td>30057.0</td>\n",
       "      <td>45</td>\n",
       "      <td>091</td>\n",
       "    </tr>\n",
       "    <tr>\n",
       "      <th>474</th>\n",
       "      <td>Orange County, New York</td>\n",
       "      <td>45720.0</td>\n",
       "      <td>36</td>\n",
       "      <td>071</td>\n",
       "    </tr>\n",
       "    <tr>\n",
       "      <th>615</th>\n",
       "      <td>Crawford County, Pennsylvania</td>\n",
       "      <td>9417.0</td>\n",
       "      <td>42</td>\n",
       "      <td>039</td>\n",
       "    </tr>\n",
       "    <tr>\n",
       "      <th>348</th>\n",
       "      <td>Livingston County, Michigan</td>\n",
       "      <td>9039.0</td>\n",
       "      <td>26</td>\n",
       "      <td>093</td>\n",
       "    </tr>\n",
       "    <tr>\n",
       "      <th>621</th>\n",
       "      <td>Franklin County, Pennsylvania</td>\n",
       "      <td>16984.0</td>\n",
       "      <td>42</td>\n",
       "      <td>055</td>\n",
       "    </tr>\n",
       "  </tbody>\n",
       "</table>\n",
       "</div>"
      ],
      "text/plain": [
       "                              NAME  B25140_010E state county\n",
       "665    York County, South Carolina      30057.0    45    091\n",
       "474        Orange County, New York      45720.0    36    071\n",
       "615  Crawford County, Pennsylvania       9417.0    42    039\n",
       "348    Livingston County, Michigan       9039.0    26    093\n",
       "621  Franklin County, Pennsylvania      16984.0    42    055"
      ]
     },
     "execution_count": 15,
     "metadata": {},
     "output_type": "execute_result"
    }
   ],
   "source": [
    "# get the table B25140 from the 2023 ACS 1 year estimates for all counties in the US\n",
    "data = c.acs1.get(('NAME', 'B25140_010E'), {'for': 'county:*'})\n",
    "\n",
    "data_df = pd.DataFrame(data)\n",
    "\n",
    "# get 5 sample rows\n",
    "data_df[data_df['state'] == '09'].sample(5)"
   ]
  },
  {
   "cell_type": "code",
   "execution_count": null,
   "metadata": {},
   "outputs": [],
   "source": [
    "data_df"
   ]
  },
  {
   "cell_type": "code",
   "execution_count": 8,
   "metadata": {},
   "outputs": [
    {
     "data": {
      "text/html": [
       "<div>\n",
       "<style scoped>\n",
       "    .dataframe tbody tr th:only-of-type {\n",
       "        vertical-align: middle;\n",
       "    }\n",
       "\n",
       "    .dataframe tbody tr th {\n",
       "        vertical-align: top;\n",
       "    }\n",
       "\n",
       "    .dataframe thead th {\n",
       "        text-align: right;\n",
       "    }\n",
       "</style>\n",
       "<table border=\"1\" class=\"dataframe\">\n",
       "  <thead>\n",
       "    <tr style=\"text-align: right;\">\n",
       "      <th></th>\n",
       "      <th>NAME</th>\n",
       "      <th>B01003_001E</th>\n",
       "      <th>state</th>\n",
       "      <th>county</th>\n",
       "    </tr>\n",
       "  </thead>\n",
       "  <tbody>\n",
       "    <tr>\n",
       "      <th>103</th>\n",
       "      <td>Northwest Hills Planning Region, Connecticut</td>\n",
       "      <td>113234.0</td>\n",
       "      <td>09</td>\n",
       "      <td>160</td>\n",
       "    </tr>\n",
       "    <tr>\n",
       "      <th>100</th>\n",
       "      <td>Lower Connecticut River Valley Planning Region...</td>\n",
       "      <td>176622.0</td>\n",
       "      <td>09</td>\n",
       "      <td>130</td>\n",
       "    </tr>\n",
       "    <tr>\n",
       "      <th>106</th>\n",
       "      <td>Western Connecticut Planning Region, Connecticut</td>\n",
       "      <td>623690.0</td>\n",
       "      <td>09</td>\n",
       "      <td>190</td>\n",
       "    </tr>\n",
       "    <tr>\n",
       "      <th>105</th>\n",
       "      <td>Southeastern Connecticut Planning Region, Conn...</td>\n",
       "      <td>280403.0</td>\n",
       "      <td>09</td>\n",
       "      <td>180</td>\n",
       "    </tr>\n",
       "    <tr>\n",
       "      <th>99</th>\n",
       "      <td>Greater Bridgeport Planning Region, Connecticut</td>\n",
       "      <td>327286.0</td>\n",
       "      <td>09</td>\n",
       "      <td>120</td>\n",
       "    </tr>\n",
       "  </tbody>\n",
       "</table>\n",
       "</div>"
      ],
      "text/plain": [
       "                                                  NAME  B01003_001E state  \\\n",
       "103       Northwest Hills Planning Region, Connecticut     113234.0    09   \n",
       "100  Lower Connecticut River Valley Planning Region...     176622.0    09   \n",
       "106   Western Connecticut Planning Region, Connecticut     623690.0    09   \n",
       "105  Southeastern Connecticut Planning Region, Conn...     280403.0    09   \n",
       "99     Greater Bridgeport Planning Region, Connecticut     327286.0    09   \n",
       "\n",
       "    county  \n",
       "103    160  \n",
       "100    130  \n",
       "106    190  \n",
       "105    180  \n",
       "99     120  "
      ]
     },
     "execution_count": 8,
     "metadata": {},
     "output_type": "execute_result"
    }
   ],
   "source": [
    "# get population data for all counties in the US from 2023\n",
    "population_data = c.acs1.get(('NAME', 'B01003_001E'), {'for': 'county:*'})\n",
    "\n",
    "population_df = pd.DataFrame(population_data)\n",
    "\n",
    "# get 5 sample rows\n",
    "population_df[population_df['state'] == '09'].sample(5)"
   ]
  },
  {
   "cell_type": "code",
   "execution_count": null,
   "metadata": {},
   "outputs": [],
   "source": []
  }
 ],
 "metadata": {
  "kernelspec": {
   "display_name": "Python 3",
   "language": "python",
   "name": "python3"
  },
  "language_info": {
   "codemirror_mode": {
    "name": "ipython",
    "version": 3
   },
   "file_extension": ".py",
   "mimetype": "text/x-python",
   "name": "python",
   "nbconvert_exporter": "python",
   "pygments_lexer": "ipython3",
   "version": "3.9.6"
  }
 },
 "nbformat": 4,
 "nbformat_minor": 2
}
