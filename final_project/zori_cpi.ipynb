{
 "cells": [
  {
   "cell_type": "code",
   "execution_count": 1,
   "metadata": {},
   "outputs": [],
   "source": [
    "import pandas as pd"
   ]
  },
  {
   "cell_type": "code",
   "execution_count": 2,
   "metadata": {},
   "outputs": [],
   "source": [
    "# set fred api key\n",
    "fred_api_key = \"653ed88f4bdd6c12141a8c80288845c4\"\n",
    "cpi_series_id = \"CPIAUCSL\""
   ]
  },
  {
   "cell_type": "code",
   "execution_count": 3,
   "metadata": {},
   "outputs": [
    {
     "data": {
      "application/vnd.microsoft.datawrangler.viewer.v0+json": {
       "columns": [
        {
         "name": "index",
         "rawType": "int64",
         "type": "integer"
        },
        {
         "name": "date",
         "rawType": "datetime64[ns]",
         "type": "datetime"
        },
        {
         "name": "cpi",
         "rawType": "float64",
         "type": "float"
        },
        {
         "name": "cpi_yoy",
         "rawType": "float64",
         "type": "float"
        }
       ],
       "conversionMethod": "pd.DataFrame",
       "ref": "fe8f0278-07e5-4bca-b73d-2e83a26d1720",
       "rows": [
        [
         "0",
         "1947-01-01 00:00:00",
         "21.48",
         null
        ],
        [
         "1",
         "1947-02-01 00:00:00",
         "21.62",
         null
        ],
        [
         "2",
         "1947-03-01 00:00:00",
         "22.0",
         null
        ],
        [
         "3",
         "1947-04-01 00:00:00",
         "22.0",
         null
        ],
        [
         "4",
         "1947-05-01 00:00:00",
         "21.95",
         null
        ],
        [
         "5",
         "1947-06-01 00:00:00",
         "22.08",
         null
        ],
        [
         "6",
         "1947-07-01 00:00:00",
         "22.23",
         null
        ],
        [
         "7",
         "1947-08-01 00:00:00",
         "22.4",
         null
        ],
        [
         "8",
         "1947-09-01 00:00:00",
         "22.84",
         null
        ],
        [
         "9",
         "1947-10-01 00:00:00",
         "22.91",
         null
        ],
        [
         "10",
         "1947-11-01 00:00:00",
         "23.06",
         null
        ],
        [
         "11",
         "1947-12-01 00:00:00",
         "23.41",
         null
        ],
        [
         "12",
         "1948-01-01 00:00:00",
         "23.68",
         "0.10242085661080069"
        ],
        [
         "13",
         "1948-02-01 00:00:00",
         "23.67",
         "0.09481961147086038"
        ],
        [
         "14",
         "1948-03-01 00:00:00",
         "23.5",
         "0.06818181818181812"
        ],
        [
         "15",
         "1948-04-01 00:00:00",
         "23.82",
         "0.08272727272727276"
        ],
        [
         "16",
         "1948-05-01 00:00:00",
         "24.01",
         "0.09384965831435088"
        ],
        [
         "17",
         "1948-06-01 00:00:00",
         "24.15",
         "0.09375"
        ],
        [
         "18",
         "1948-07-01 00:00:00",
         "24.4",
         "0.09761583445793964"
        ],
        [
         "19",
         "1948-08-01 00:00:00",
         "24.43",
         "0.09062499999999996"
        ],
        [
         "20",
         "1948-09-01 00:00:00",
         "24.36",
         "0.06654991243432562"
        ],
        [
         "21",
         "1948-10-01 00:00:00",
         "24.31",
         "0.061108686163247494"
        ],
        [
         "22",
         "1948-11-01 00:00:00",
         "24.16",
         "0.047701647875108444"
        ],
        [
         "23",
         "1948-12-01 00:00:00",
         "24.05",
         "0.02733874412644166"
        ],
        [
         "24",
         "1949-01-01 00:00:00",
         "24.01",
         "0.013935810810810967"
        ],
        [
         "25",
         "1949-02-01 00:00:00",
         "23.91",
         "0.010139416983523386"
        ],
        [
         "26",
         "1949-03-01 00:00:00",
         "23.91",
         "0.01744680851063829"
        ],
        [
         "27",
         "1949-04-01 00:00:00",
         "23.92",
         "0.004198152812762368"
        ],
        [
         "28",
         "1949-05-01 00:00:00",
         "23.91",
         "-0.004164931278633932"
        ],
        [
         "29",
         "1949-06-01 00:00:00",
         "23.92",
         "-0.009523809523809379"
        ],
        [
         "30",
         "1949-07-01 00:00:00",
         "23.7",
         "-0.02868852459016391"
        ],
        [
         "31",
         "1949-08-01 00:00:00",
         "23.7",
         "-0.02988129349160873"
        ],
        [
         "32",
         "1949-09-01 00:00:00",
         "23.75",
         "-0.02504105090311981"
        ],
        [
         "33",
         "1949-10-01 00:00:00",
         "23.67",
         "-0.026326614561908546"
        ],
        [
         "34",
         "1949-11-01 00:00:00",
         "23.7",
         "-0.019039735099337762"
        ],
        [
         "35",
         "1949-12-01 00:00:00",
         "23.61",
         "-0.018295218295218296"
        ],
        [
         "36",
         "1950-01-01 00:00:00",
         "23.51",
         "-0.02082465639316955"
        ],
        [
         "37",
         "1950-02-01 00:00:00",
         "23.61",
         "-0.012547051442910906"
        ],
        [
         "38",
         "1950-03-01 00:00:00",
         "23.64",
         "-0.01129234629861986"
        ],
        [
         "39",
         "1950-04-01 00:00:00",
         "23.65",
         "-0.011287625418060276"
        ],
        [
         "40",
         "1950-05-01 00:00:00",
         "23.77",
         "-0.0058552906733584376"
        ],
        [
         "41",
         "1950-06-01 00:00:00",
         "23.88",
         "-0.0016722408026756952"
        ],
        [
         "42",
         "1950-07-01 00:00:00",
         "24.07",
         "0.01561181434599157"
        ],
        [
         "43",
         "1950-08-01 00:00:00",
         "24.2",
         "0.021097046413502074"
        ],
        [
         "44",
         "1950-09-01 00:00:00",
         "24.34",
         "0.024842105263158"
        ],
        [
         "45",
         "1950-10-01 00:00:00",
         "24.5",
         "0.0350654837346851"
        ],
        [
         "46",
         "1950-11-01 00:00:00",
         "24.6",
         "0.03797468354430378"
        ],
        [
         "47",
         "1950-12-01 00:00:00",
         "24.98",
         "0.0580262600592969"
        ],
        [
         "48",
         "1951-01-01 00:00:00",
         "25.38",
         "0.07954062101233506"
        ],
        [
         "49",
         "1951-02-01 00:00:00",
         "25.83",
         "0.09402795425667088"
        ]
       ],
       "shape": {
        "columns": 3,
        "rows": 938
       }
      },
      "text/html": [
       "<div>\n",
       "<style scoped>\n",
       "    .dataframe tbody tr th:only-of-type {\n",
       "        vertical-align: middle;\n",
       "    }\n",
       "\n",
       "    .dataframe tbody tr th {\n",
       "        vertical-align: top;\n",
       "    }\n",
       "\n",
       "    .dataframe thead th {\n",
       "        text-align: right;\n",
       "    }\n",
       "</style>\n",
       "<table border=\"1\" class=\"dataframe\">\n",
       "  <thead>\n",
       "    <tr style=\"text-align: right;\">\n",
       "      <th></th>\n",
       "      <th>date</th>\n",
       "      <th>cpi</th>\n",
       "      <th>cpi_yoy</th>\n",
       "    </tr>\n",
       "  </thead>\n",
       "  <tbody>\n",
       "    <tr>\n",
       "      <th>0</th>\n",
       "      <td>1947-01-01</td>\n",
       "      <td>21.480</td>\n",
       "      <td>NaN</td>\n",
       "    </tr>\n",
       "    <tr>\n",
       "      <th>1</th>\n",
       "      <td>1947-02-01</td>\n",
       "      <td>21.620</td>\n",
       "      <td>NaN</td>\n",
       "    </tr>\n",
       "    <tr>\n",
       "      <th>2</th>\n",
       "      <td>1947-03-01</td>\n",
       "      <td>22.000</td>\n",
       "      <td>NaN</td>\n",
       "    </tr>\n",
       "    <tr>\n",
       "      <th>3</th>\n",
       "      <td>1947-04-01</td>\n",
       "      <td>22.000</td>\n",
       "      <td>NaN</td>\n",
       "    </tr>\n",
       "    <tr>\n",
       "      <th>4</th>\n",
       "      <td>1947-05-01</td>\n",
       "      <td>21.950</td>\n",
       "      <td>NaN</td>\n",
       "    </tr>\n",
       "    <tr>\n",
       "      <th>...</th>\n",
       "      <td>...</td>\n",
       "      <td>...</td>\n",
       "      <td>...</td>\n",
       "    </tr>\n",
       "    <tr>\n",
       "      <th>933</th>\n",
       "      <td>2024-10-01</td>\n",
       "      <td>315.564</td>\n",
       "      <td>0.025714</td>\n",
       "    </tr>\n",
       "    <tr>\n",
       "      <th>934</th>\n",
       "      <td>2024-11-01</td>\n",
       "      <td>316.449</td>\n",
       "      <td>0.027142</td>\n",
       "    </tr>\n",
       "    <tr>\n",
       "      <th>935</th>\n",
       "      <td>2024-12-01</td>\n",
       "      <td>317.603</td>\n",
       "      <td>0.028724</td>\n",
       "    </tr>\n",
       "    <tr>\n",
       "      <th>936</th>\n",
       "      <td>2025-01-01</td>\n",
       "      <td>319.086</td>\n",
       "      <td>0.029994</td>\n",
       "    </tr>\n",
       "    <tr>\n",
       "      <th>937</th>\n",
       "      <td>2025-02-01</td>\n",
       "      <td>319.775</td>\n",
       "      <td>0.028143</td>\n",
       "    </tr>\n",
       "  </tbody>\n",
       "</table>\n",
       "<p>938 rows × 3 columns</p>\n",
       "</div>"
      ],
      "text/plain": [
       "          date      cpi   cpi_yoy\n",
       "0   1947-01-01   21.480       NaN\n",
       "1   1947-02-01   21.620       NaN\n",
       "2   1947-03-01   22.000       NaN\n",
       "3   1947-04-01   22.000       NaN\n",
       "4   1947-05-01   21.950       NaN\n",
       "..         ...      ...       ...\n",
       "933 2024-10-01  315.564  0.025714\n",
       "934 2024-11-01  316.449  0.027142\n",
       "935 2024-12-01  317.603  0.028724\n",
       "936 2025-01-01  319.086  0.029994\n",
       "937 2025-02-01  319.775  0.028143\n",
       "\n",
       "[938 rows x 3 columns]"
      ]
     },
     "execution_count": 3,
     "metadata": {},
     "output_type": "execute_result"
    }
   ],
   "source": [
    "# get cpi data\n",
    "cpi = pd.read_json(f\"https://api.stlouisfed.org/fred/series/observations?series_id={cpi_series_id}&api_key={fred_api_key}&file_type=json\")\n",
    "\n",
    "# make a dataframe from the observations\n",
    "cpi = pd.DataFrame(cpi[\"observations\"].values.tolist())\n",
    "\n",
    "# select the date and value columns\n",
    "cpi = cpi[[\"date\", \"value\"]]\n",
    "cpi.columns = [\"date\", \"cpi\"]\n",
    "\n",
    "# convert date to datetime and cpi to numeric\n",
    "cpi[\"date\"] = pd.to_datetime(cpi[\"date\"])\n",
    "cpi['cpi'] = pd.to_numeric(cpi['cpi'])\n",
    "\n",
    "# generate a yoy change column\n",
    "cpi[\"cpi_yoy\"] = cpi[\"cpi\"].pct_change(12)\n",
    "\n",
    "cpi"
   ]
  },
  {
   "cell_type": "code",
   "execution_count": 4,
   "metadata": {},
   "outputs": [],
   "source": [
    "# get zori data\n",
    "zori = pd.read_csv(\"data/zori_us.csv\")"
   ]
  },
  {
   "cell_type": "code",
   "execution_count": 5,
   "metadata": {},
   "outputs": [
    {
     "data": {
      "application/vnd.microsoft.datawrangler.viewer.v0+json": {
       "columns": [
        {
         "name": "index",
         "rawType": "int64",
         "type": "integer"
        },
        {
         "name": "RegionID",
         "rawType": "int64",
         "type": "integer"
        },
        {
         "name": "SizeRank",
         "rawType": "int64",
         "type": "integer"
        },
        {
         "name": "RegionName",
         "rawType": "object",
         "type": "string"
        },
        {
         "name": "RegionType",
         "rawType": "object",
         "type": "string"
        },
        {
         "name": "StateName",
         "rawType": "float64",
         "type": "float"
        },
        {
         "name": "date",
         "rawType": "object",
         "type": "string"
        },
        {
         "name": "zori",
         "rawType": "float64",
         "type": "float"
        }
       ],
       "conversionMethod": "pd.DataFrame",
       "ref": "5f2da50d-bbf2-42df-ba15-d7071865d616",
       "rows": [
        [
         "0",
         "102001",
         "0",
         "United States",
         "country",
         null,
         "2015-01-31",
         "1197.1350144390412"
        ],
        [
         "1",
         "102001",
         "0",
         "United States",
         "country",
         null,
         "2015-02-28",
         "1203.6685969017312"
        ],
        [
         "2",
         "102001",
         "0",
         "United States",
         "country",
         null,
         "2015-03-31",
         "1212.6390467139431"
        ],
        [
         "3",
         "102001",
         "0",
         "United States",
         "country",
         null,
         "2015-04-30",
         "1221.6596196392493"
        ],
        [
         "4",
         "102001",
         "0",
         "United States",
         "country",
         null,
         "2015-05-31",
         "1230.896254045345"
        ],
        [
         "5",
         "102001",
         "0",
         "United States",
         "country",
         null,
         "2015-06-30",
         "1238.798847158442"
        ],
        [
         "6",
         "102001",
         "0",
         "United States",
         "country",
         null,
         "2015-07-31",
         "1244.7539204182103"
        ],
        [
         "7",
         "102001",
         "0",
         "United States",
         "country",
         null,
         "2015-08-31",
         "1248.3634863548702"
        ],
        [
         "8",
         "102001",
         "0",
         "United States",
         "country",
         null,
         "2015-09-30",
         "1250.419375375022"
        ],
        [
         "9",
         "102001",
         "0",
         "United States",
         "country",
         null,
         "2015-10-31",
         "1250.873693177042"
        ],
        [
         "10",
         "102001",
         "0",
         "United States",
         "country",
         null,
         "2015-11-30",
         "1251.3681728489476"
        ],
        [
         "11",
         "102001",
         "0",
         "United States",
         "country",
         null,
         "2015-12-31",
         "1251.8174310889287"
        ],
        [
         "12",
         "102001",
         "0",
         "United States",
         "country",
         null,
         "2016-01-31",
         "1254.9668152813192"
        ],
        [
         "13",
         "102001",
         "0",
         "United States",
         "country",
         null,
         "2016-02-29",
         "1259.9545784933823"
        ],
        [
         "14",
         "102001",
         "0",
         "United States",
         "country",
         null,
         "2016-03-31",
         "1266.261236256386"
        ],
        [
         "15",
         "102001",
         "0",
         "United States",
         "country",
         null,
         "2016-04-30",
         "1274.189811977728"
        ],
        [
         "16",
         "102001",
         "0",
         "United States",
         "country",
         null,
         "2016-05-31",
         "1282.4556132634325"
        ],
        [
         "17",
         "102001",
         "0",
         "United States",
         "country",
         null,
         "2016-06-30",
         "1290.703744306952"
        ],
        [
         "18",
         "102001",
         "0",
         "United States",
         "country",
         null,
         "2016-07-31",
         "1295.5190960599552"
        ],
        [
         "19",
         "102001",
         "0",
         "United States",
         "country",
         null,
         "2016-08-31",
         "1297.7199798852257"
        ],
        [
         "20",
         "102001",
         "0",
         "United States",
         "country",
         null,
         "2016-09-30",
         "1297.644693184994"
        ],
        [
         "21",
         "102001",
         "0",
         "United States",
         "country",
         null,
         "2016-10-31",
         "1296.176769117351"
        ],
        [
         "22",
         "102001",
         "0",
         "United States",
         "country",
         null,
         "2016-11-30",
         "1295.0294941831498"
        ],
        [
         "23",
         "102001",
         "0",
         "United States",
         "country",
         null,
         "2016-12-31",
         "1294.2003343834604"
        ],
        [
         "24",
         "102001",
         "0",
         "United States",
         "country",
         null,
         "2017-01-31",
         "1298.8907394526389"
        ],
        [
         "25",
         "102001",
         "0",
         "United States",
         "country",
         null,
         "2017-02-28",
         "1306.59860884023"
        ],
        [
         "26",
         "102001",
         "0",
         "United States",
         "country",
         null,
         "2017-03-31",
         "1318.315378007976"
        ],
        [
         "27",
         "102001",
         "0",
         "United States",
         "country",
         null,
         "2017-04-30",
         "1328.1044469448411"
        ],
        [
         "28",
         "102001",
         "0",
         "United States",
         "country",
         null,
         "2017-05-31",
         "1337.4716286155467"
        ],
        [
         "29",
         "102001",
         "0",
         "United States",
         "country",
         null,
         "2017-06-30",
         "1344.6466721381555"
        ],
        [
         "30",
         "102001",
         "0",
         "United States",
         "country",
         null,
         "2017-07-31",
         "1349.5817470403924"
        ],
        [
         "31",
         "102001",
         "0",
         "United States",
         "country",
         null,
         "2017-08-31",
         "1351.245947801619"
        ],
        [
         "32",
         "102001",
         "0",
         "United States",
         "country",
         null,
         "2017-09-30",
         "1351.5123710234634"
        ],
        [
         "33",
         "102001",
         "0",
         "United States",
         "country",
         null,
         "2017-10-31",
         "1349.9696588787783"
        ],
        [
         "34",
         "102001",
         "0",
         "United States",
         "country",
         null,
         "2017-11-30",
         "1349.8149462411066"
        ],
        [
         "35",
         "102001",
         "0",
         "United States",
         "country",
         null,
         "2017-12-31",
         "1350.730164612941"
        ],
        [
         "36",
         "102001",
         "0",
         "United States",
         "country",
         null,
         "2018-01-31",
         "1355.5768255026746"
        ],
        [
         "37",
         "102001",
         "0",
         "United States",
         "country",
         null,
         "2018-02-28",
         "1363.1007398658032"
        ],
        [
         "38",
         "102001",
         "0",
         "United States",
         "country",
         null,
         "2018-03-31",
         "1372.7415457370664"
        ],
        [
         "39",
         "102001",
         "0",
         "United States",
         "country",
         null,
         "2018-04-30",
         "1382.4470835830305"
        ],
        [
         "40",
         "102001",
         "0",
         "United States",
         "country",
         null,
         "2018-05-31",
         "1390.73401507916"
        ],
        [
         "41",
         "102001",
         "0",
         "United States",
         "country",
         null,
         "2018-06-30",
         "1398.3340806062556"
        ],
        [
         "42",
         "102001",
         "0",
         "United States",
         "country",
         null,
         "2018-07-31",
         "1403.7965550190042"
        ],
        [
         "43",
         "102001",
         "0",
         "United States",
         "country",
         null,
         "2018-08-31",
         "1407.0955675096989"
        ],
        [
         "44",
         "102001",
         "0",
         "United States",
         "country",
         null,
         "2018-09-30",
         "1406.547955575328"
        ],
        [
         "45",
         "102001",
         "0",
         "United States",
         "country",
         null,
         "2018-10-31",
         "1405.7579100097678"
        ],
        [
         "46",
         "102001",
         "0",
         "United States",
         "country",
         null,
         "2018-11-30",
         "1406.3563031816836"
        ],
        [
         "47",
         "102001",
         "0",
         "United States",
         "country",
         null,
         "2018-12-31",
         "1408.4583496558107"
        ],
        [
         "48",
         "102001",
         "0",
         "United States",
         "country",
         null,
         "2019-01-31",
         "1412.7616335745154"
        ],
        [
         "49",
         "102001",
         "0",
         "United States",
         "country",
         null,
         "2019-02-28",
         "1418.9047221105054"
        ]
       ],
       "shape": {
        "columns": 7,
        "rows": 122
       }
      },
      "text/html": [
       "<div>\n",
       "<style scoped>\n",
       "    .dataframe tbody tr th:only-of-type {\n",
       "        vertical-align: middle;\n",
       "    }\n",
       "\n",
       "    .dataframe tbody tr th {\n",
       "        vertical-align: top;\n",
       "    }\n",
       "\n",
       "    .dataframe thead th {\n",
       "        text-align: right;\n",
       "    }\n",
       "</style>\n",
       "<table border=\"1\" class=\"dataframe\">\n",
       "  <thead>\n",
       "    <tr style=\"text-align: right;\">\n",
       "      <th></th>\n",
       "      <th>RegionID</th>\n",
       "      <th>SizeRank</th>\n",
       "      <th>RegionName</th>\n",
       "      <th>RegionType</th>\n",
       "      <th>StateName</th>\n",
       "      <th>date</th>\n",
       "      <th>zori</th>\n",
       "    </tr>\n",
       "  </thead>\n",
       "  <tbody>\n",
       "    <tr>\n",
       "      <th>0</th>\n",
       "      <td>102001</td>\n",
       "      <td>0</td>\n",
       "      <td>United States</td>\n",
       "      <td>country</td>\n",
       "      <td>NaN</td>\n",
       "      <td>2015-01-31</td>\n",
       "      <td>1197.135014</td>\n",
       "    </tr>\n",
       "    <tr>\n",
       "      <th>1</th>\n",
       "      <td>102001</td>\n",
       "      <td>0</td>\n",
       "      <td>United States</td>\n",
       "      <td>country</td>\n",
       "      <td>NaN</td>\n",
       "      <td>2015-02-28</td>\n",
       "      <td>1203.668597</td>\n",
       "    </tr>\n",
       "    <tr>\n",
       "      <th>2</th>\n",
       "      <td>102001</td>\n",
       "      <td>0</td>\n",
       "      <td>United States</td>\n",
       "      <td>country</td>\n",
       "      <td>NaN</td>\n",
       "      <td>2015-03-31</td>\n",
       "      <td>1212.639047</td>\n",
       "    </tr>\n",
       "    <tr>\n",
       "      <th>3</th>\n",
       "      <td>102001</td>\n",
       "      <td>0</td>\n",
       "      <td>United States</td>\n",
       "      <td>country</td>\n",
       "      <td>NaN</td>\n",
       "      <td>2015-04-30</td>\n",
       "      <td>1221.659620</td>\n",
       "    </tr>\n",
       "    <tr>\n",
       "      <th>4</th>\n",
       "      <td>102001</td>\n",
       "      <td>0</td>\n",
       "      <td>United States</td>\n",
       "      <td>country</td>\n",
       "      <td>NaN</td>\n",
       "      <td>2015-05-31</td>\n",
       "      <td>1230.896254</td>\n",
       "    </tr>\n",
       "    <tr>\n",
       "      <th>...</th>\n",
       "      <td>...</td>\n",
       "      <td>...</td>\n",
       "      <td>...</td>\n",
       "      <td>...</td>\n",
       "      <td>...</td>\n",
       "      <td>...</td>\n",
       "      <td>...</td>\n",
       "    </tr>\n",
       "    <tr>\n",
       "      <th>117</th>\n",
       "      <td>102001</td>\n",
       "      <td>0</td>\n",
       "      <td>United States</td>\n",
       "      <td>country</td>\n",
       "      <td>NaN</td>\n",
       "      <td>2024-10-31</td>\n",
       "      <td>1973.864441</td>\n",
       "    </tr>\n",
       "    <tr>\n",
       "      <th>118</th>\n",
       "      <td>102001</td>\n",
       "      <td>0</td>\n",
       "      <td>United States</td>\n",
       "      <td>country</td>\n",
       "      <td>NaN</td>\n",
       "      <td>2024-11-30</td>\n",
       "      <td>1970.768273</td>\n",
       "    </tr>\n",
       "    <tr>\n",
       "      <th>119</th>\n",
       "      <td>102001</td>\n",
       "      <td>0</td>\n",
       "      <td>United States</td>\n",
       "      <td>country</td>\n",
       "      <td>NaN</td>\n",
       "      <td>2024-12-31</td>\n",
       "      <td>1967.300532</td>\n",
       "    </tr>\n",
       "    <tr>\n",
       "      <th>120</th>\n",
       "      <td>102001</td>\n",
       "      <td>0</td>\n",
       "      <td>United States</td>\n",
       "      <td>country</td>\n",
       "      <td>NaN</td>\n",
       "      <td>2025-01-31</td>\n",
       "      <td>1971.799915</td>\n",
       "    </tr>\n",
       "    <tr>\n",
       "      <th>121</th>\n",
       "      <td>102001</td>\n",
       "      <td>0</td>\n",
       "      <td>United States</td>\n",
       "      <td>country</td>\n",
       "      <td>NaN</td>\n",
       "      <td>2025-02-28</td>\n",
       "      <td>1980.162671</td>\n",
       "    </tr>\n",
       "  </tbody>\n",
       "</table>\n",
       "<p>122 rows × 7 columns</p>\n",
       "</div>"
      ],
      "text/plain": [
       "     RegionID  SizeRank     RegionName RegionType  StateName        date  \\\n",
       "0      102001         0  United States    country        NaN  2015-01-31   \n",
       "1      102001         0  United States    country        NaN  2015-02-28   \n",
       "2      102001         0  United States    country        NaN  2015-03-31   \n",
       "3      102001         0  United States    country        NaN  2015-04-30   \n",
       "4      102001         0  United States    country        NaN  2015-05-31   \n",
       "..        ...       ...            ...        ...        ...         ...   \n",
       "117    102001         0  United States    country        NaN  2024-10-31   \n",
       "118    102001         0  United States    country        NaN  2024-11-30   \n",
       "119    102001         0  United States    country        NaN  2024-12-31   \n",
       "120    102001         0  United States    country        NaN  2025-01-31   \n",
       "121    102001         0  United States    country        NaN  2025-02-28   \n",
       "\n",
       "            zori  \n",
       "0    1197.135014  \n",
       "1    1203.668597  \n",
       "2    1212.639047  \n",
       "3    1221.659620  \n",
       "4    1230.896254  \n",
       "..           ...  \n",
       "117  1973.864441  \n",
       "118  1970.768273  \n",
       "119  1967.300532  \n",
       "120  1971.799915  \n",
       "121  1980.162671  \n",
       "\n",
       "[122 rows x 7 columns]"
      ]
     },
     "execution_count": 5,
     "metadata": {},
     "output_type": "execute_result"
    }
   ],
   "source": [
    "zori"
   ]
  },
  {
   "cell_type": "code",
   "execution_count": null,
   "metadata": {},
   "outputs": [],
   "source": []
  },
  {
   "cell_type": "code",
   "execution_count": 6,
   "metadata": {},
   "outputs": [
    {
     "data": {
      "application/vnd.microsoft.datawrangler.viewer.v0+json": {
       "columns": [
        {
         "name": "index",
         "rawType": "int64",
         "type": "integer"
        },
        {
         "name": "RegionID",
         "rawType": "int64",
         "type": "integer"
        },
        {
         "name": "SizeRank",
         "rawType": "int64",
         "type": "integer"
        },
        {
         "name": "RegionName",
         "rawType": "object",
         "type": "string"
        },
        {
         "name": "RegionType",
         "rawType": "object",
         "type": "string"
        },
        {
         "name": "StateName",
         "rawType": "float64",
         "type": "float"
        },
        {
         "name": "date",
         "rawType": "object",
         "type": "string"
        },
        {
         "name": "zori",
         "rawType": "float64",
         "type": "float"
        }
       ],
       "conversionMethod": "pd.DataFrame",
       "ref": "1bcf72a3-edcc-44da-9430-cdca476054ec",
       "rows": [
        [
         "0",
         "102001",
         "0",
         "United States",
         "country",
         null,
         "2015-01-31",
         "1197.1350144390412"
        ],
        [
         "1",
         "102001",
         "0",
         "United States",
         "country",
         null,
         "2015-02-28",
         "1203.6685969017312"
        ],
        [
         "2",
         "102001",
         "0",
         "United States",
         "country",
         null,
         "2015-03-31",
         "1212.6390467139431"
        ],
        [
         "3",
         "102001",
         "0",
         "United States",
         "country",
         null,
         "2015-04-30",
         "1221.6596196392493"
        ],
        [
         "4",
         "102001",
         "0",
         "United States",
         "country",
         null,
         "2015-05-31",
         "1230.896254045345"
        ],
        [
         "5",
         "102001",
         "0",
         "United States",
         "country",
         null,
         "2015-06-30",
         "1238.798847158442"
        ],
        [
         "6",
         "102001",
         "0",
         "United States",
         "country",
         null,
         "2015-07-31",
         "1244.7539204182103"
        ],
        [
         "7",
         "102001",
         "0",
         "United States",
         "country",
         null,
         "2015-08-31",
         "1248.3634863548702"
        ],
        [
         "8",
         "102001",
         "0",
         "United States",
         "country",
         null,
         "2015-09-30",
         "1250.419375375022"
        ],
        [
         "9",
         "102001",
         "0",
         "United States",
         "country",
         null,
         "2015-10-31",
         "1250.873693177042"
        ],
        [
         "10",
         "102001",
         "0",
         "United States",
         "country",
         null,
         "2015-11-30",
         "1251.3681728489476"
        ],
        [
         "11",
         "102001",
         "0",
         "United States",
         "country",
         null,
         "2015-12-31",
         "1251.8174310889287"
        ],
        [
         "12",
         "102001",
         "0",
         "United States",
         "country",
         null,
         "2016-01-31",
         "1254.9668152813192"
        ],
        [
         "13",
         "102001",
         "0",
         "United States",
         "country",
         null,
         "2016-02-29",
         "1259.9545784933823"
        ],
        [
         "14",
         "102001",
         "0",
         "United States",
         "country",
         null,
         "2016-03-31",
         "1266.261236256386"
        ],
        [
         "15",
         "102001",
         "0",
         "United States",
         "country",
         null,
         "2016-04-30",
         "1274.189811977728"
        ],
        [
         "16",
         "102001",
         "0",
         "United States",
         "country",
         null,
         "2016-05-31",
         "1282.4556132634325"
        ],
        [
         "17",
         "102001",
         "0",
         "United States",
         "country",
         null,
         "2016-06-30",
         "1290.703744306952"
        ],
        [
         "18",
         "102001",
         "0",
         "United States",
         "country",
         null,
         "2016-07-31",
         "1295.5190960599552"
        ],
        [
         "19",
         "102001",
         "0",
         "United States",
         "country",
         null,
         "2016-08-31",
         "1297.7199798852257"
        ],
        [
         "20",
         "102001",
         "0",
         "United States",
         "country",
         null,
         "2016-09-30",
         "1297.644693184994"
        ],
        [
         "21",
         "102001",
         "0",
         "United States",
         "country",
         null,
         "2016-10-31",
         "1296.176769117351"
        ],
        [
         "22",
         "102001",
         "0",
         "United States",
         "country",
         null,
         "2016-11-30",
         "1295.0294941831498"
        ],
        [
         "23",
         "102001",
         "0",
         "United States",
         "country",
         null,
         "2016-12-31",
         "1294.2003343834604"
        ],
        [
         "24",
         "102001",
         "0",
         "United States",
         "country",
         null,
         "2017-01-31",
         "1298.8907394526389"
        ],
        [
         "25",
         "102001",
         "0",
         "United States",
         "country",
         null,
         "2017-02-28",
         "1306.59860884023"
        ],
        [
         "26",
         "102001",
         "0",
         "United States",
         "country",
         null,
         "2017-03-31",
         "1318.315378007976"
        ],
        [
         "27",
         "102001",
         "0",
         "United States",
         "country",
         null,
         "2017-04-30",
         "1328.1044469448411"
        ],
        [
         "28",
         "102001",
         "0",
         "United States",
         "country",
         null,
         "2017-05-31",
         "1337.4716286155467"
        ],
        [
         "29",
         "102001",
         "0",
         "United States",
         "country",
         null,
         "2017-06-30",
         "1344.6466721381555"
        ],
        [
         "30",
         "102001",
         "0",
         "United States",
         "country",
         null,
         "2017-07-31",
         "1349.5817470403924"
        ],
        [
         "31",
         "102001",
         "0",
         "United States",
         "country",
         null,
         "2017-08-31",
         "1351.245947801619"
        ],
        [
         "32",
         "102001",
         "0",
         "United States",
         "country",
         null,
         "2017-09-30",
         "1351.5123710234634"
        ],
        [
         "33",
         "102001",
         "0",
         "United States",
         "country",
         null,
         "2017-10-31",
         "1349.9696588787783"
        ],
        [
         "34",
         "102001",
         "0",
         "United States",
         "country",
         null,
         "2017-11-30",
         "1349.8149462411066"
        ],
        [
         "35",
         "102001",
         "0",
         "United States",
         "country",
         null,
         "2017-12-31",
         "1350.730164612941"
        ],
        [
         "36",
         "102001",
         "0",
         "United States",
         "country",
         null,
         "2018-01-31",
         "1355.5768255026746"
        ],
        [
         "37",
         "102001",
         "0",
         "United States",
         "country",
         null,
         "2018-02-28",
         "1363.1007398658032"
        ],
        [
         "38",
         "102001",
         "0",
         "United States",
         "country",
         null,
         "2018-03-31",
         "1372.7415457370664"
        ],
        [
         "39",
         "102001",
         "0",
         "United States",
         "country",
         null,
         "2018-04-30",
         "1382.4470835830305"
        ],
        [
         "40",
         "102001",
         "0",
         "United States",
         "country",
         null,
         "2018-05-31",
         "1390.73401507916"
        ],
        [
         "41",
         "102001",
         "0",
         "United States",
         "country",
         null,
         "2018-06-30",
         "1398.3340806062556"
        ],
        [
         "42",
         "102001",
         "0",
         "United States",
         "country",
         null,
         "2018-07-31",
         "1403.7965550190042"
        ],
        [
         "43",
         "102001",
         "0",
         "United States",
         "country",
         null,
         "2018-08-31",
         "1407.0955675096989"
        ],
        [
         "44",
         "102001",
         "0",
         "United States",
         "country",
         null,
         "2018-09-30",
         "1406.547955575328"
        ],
        [
         "45",
         "102001",
         "0",
         "United States",
         "country",
         null,
         "2018-10-31",
         "1405.7579100097678"
        ],
        [
         "46",
         "102001",
         "0",
         "United States",
         "country",
         null,
         "2018-11-30",
         "1406.3563031816836"
        ],
        [
         "47",
         "102001",
         "0",
         "United States",
         "country",
         null,
         "2018-12-31",
         "1408.4583496558107"
        ],
        [
         "48",
         "102001",
         "0",
         "United States",
         "country",
         null,
         "2019-01-31",
         "1412.7616335745154"
        ],
        [
         "49",
         "102001",
         "0",
         "United States",
         "country",
         null,
         "2019-02-28",
         "1418.9047221105054"
        ]
       ],
       "shape": {
        "columns": 7,
        "rows": 122
       }
      },
      "text/html": [
       "<div>\n",
       "<style scoped>\n",
       "    .dataframe tbody tr th:only-of-type {\n",
       "        vertical-align: middle;\n",
       "    }\n",
       "\n",
       "    .dataframe tbody tr th {\n",
       "        vertical-align: top;\n",
       "    }\n",
       "\n",
       "    .dataframe thead th {\n",
       "        text-align: right;\n",
       "    }\n",
       "</style>\n",
       "<table border=\"1\" class=\"dataframe\">\n",
       "  <thead>\n",
       "    <tr style=\"text-align: right;\">\n",
       "      <th></th>\n",
       "      <th>RegionID</th>\n",
       "      <th>SizeRank</th>\n",
       "      <th>RegionName</th>\n",
       "      <th>RegionType</th>\n",
       "      <th>StateName</th>\n",
       "      <th>date</th>\n",
       "      <th>zori</th>\n",
       "    </tr>\n",
       "  </thead>\n",
       "  <tbody>\n",
       "    <tr>\n",
       "      <th>0</th>\n",
       "      <td>102001</td>\n",
       "      <td>0</td>\n",
       "      <td>United States</td>\n",
       "      <td>country</td>\n",
       "      <td>NaN</td>\n",
       "      <td>2015-01-31</td>\n",
       "      <td>1197.135014</td>\n",
       "    </tr>\n",
       "    <tr>\n",
       "      <th>1</th>\n",
       "      <td>102001</td>\n",
       "      <td>0</td>\n",
       "      <td>United States</td>\n",
       "      <td>country</td>\n",
       "      <td>NaN</td>\n",
       "      <td>2015-02-28</td>\n",
       "      <td>1203.668597</td>\n",
       "    </tr>\n",
       "    <tr>\n",
       "      <th>2</th>\n",
       "      <td>102001</td>\n",
       "      <td>0</td>\n",
       "      <td>United States</td>\n",
       "      <td>country</td>\n",
       "      <td>NaN</td>\n",
       "      <td>2015-03-31</td>\n",
       "      <td>1212.639047</td>\n",
       "    </tr>\n",
       "    <tr>\n",
       "      <th>3</th>\n",
       "      <td>102001</td>\n",
       "      <td>0</td>\n",
       "      <td>United States</td>\n",
       "      <td>country</td>\n",
       "      <td>NaN</td>\n",
       "      <td>2015-04-30</td>\n",
       "      <td>1221.659620</td>\n",
       "    </tr>\n",
       "    <tr>\n",
       "      <th>4</th>\n",
       "      <td>102001</td>\n",
       "      <td>0</td>\n",
       "      <td>United States</td>\n",
       "      <td>country</td>\n",
       "      <td>NaN</td>\n",
       "      <td>2015-05-31</td>\n",
       "      <td>1230.896254</td>\n",
       "    </tr>\n",
       "    <tr>\n",
       "      <th>...</th>\n",
       "      <td>...</td>\n",
       "      <td>...</td>\n",
       "      <td>...</td>\n",
       "      <td>...</td>\n",
       "      <td>...</td>\n",
       "      <td>...</td>\n",
       "      <td>...</td>\n",
       "    </tr>\n",
       "    <tr>\n",
       "      <th>117</th>\n",
       "      <td>102001</td>\n",
       "      <td>0</td>\n",
       "      <td>United States</td>\n",
       "      <td>country</td>\n",
       "      <td>NaN</td>\n",
       "      <td>2024-10-31</td>\n",
       "      <td>1973.864441</td>\n",
       "    </tr>\n",
       "    <tr>\n",
       "      <th>118</th>\n",
       "      <td>102001</td>\n",
       "      <td>0</td>\n",
       "      <td>United States</td>\n",
       "      <td>country</td>\n",
       "      <td>NaN</td>\n",
       "      <td>2024-11-30</td>\n",
       "      <td>1970.768273</td>\n",
       "    </tr>\n",
       "    <tr>\n",
       "      <th>119</th>\n",
       "      <td>102001</td>\n",
       "      <td>0</td>\n",
       "      <td>United States</td>\n",
       "      <td>country</td>\n",
       "      <td>NaN</td>\n",
       "      <td>2024-12-31</td>\n",
       "      <td>1967.300532</td>\n",
       "    </tr>\n",
       "    <tr>\n",
       "      <th>120</th>\n",
       "      <td>102001</td>\n",
       "      <td>0</td>\n",
       "      <td>United States</td>\n",
       "      <td>country</td>\n",
       "      <td>NaN</td>\n",
       "      <td>2025-01-31</td>\n",
       "      <td>1971.799915</td>\n",
       "    </tr>\n",
       "    <tr>\n",
       "      <th>121</th>\n",
       "      <td>102001</td>\n",
       "      <td>0</td>\n",
       "      <td>United States</td>\n",
       "      <td>country</td>\n",
       "      <td>NaN</td>\n",
       "      <td>2025-02-28</td>\n",
       "      <td>1980.162671</td>\n",
       "    </tr>\n",
       "  </tbody>\n",
       "</table>\n",
       "<p>122 rows × 7 columns</p>\n",
       "</div>"
      ],
      "text/plain": [
       "     RegionID  SizeRank     RegionName RegionType  StateName        date  \\\n",
       "0      102001         0  United States    country        NaN  2015-01-31   \n",
       "1      102001         0  United States    country        NaN  2015-02-28   \n",
       "2      102001         0  United States    country        NaN  2015-03-31   \n",
       "3      102001         0  United States    country        NaN  2015-04-30   \n",
       "4      102001         0  United States    country        NaN  2015-05-31   \n",
       "..        ...       ...            ...        ...        ...         ...   \n",
       "117    102001         0  United States    country        NaN  2024-10-31   \n",
       "118    102001         0  United States    country        NaN  2024-11-30   \n",
       "119    102001         0  United States    country        NaN  2024-12-31   \n",
       "120    102001         0  United States    country        NaN  2025-01-31   \n",
       "121    102001         0  United States    country        NaN  2025-02-28   \n",
       "\n",
       "            zori  \n",
       "0    1197.135014  \n",
       "1    1203.668597  \n",
       "2    1212.639047  \n",
       "3    1221.659620  \n",
       "4    1230.896254  \n",
       "..           ...  \n",
       "117  1973.864441  \n",
       "118  1970.768273  \n",
       "119  1967.300532  \n",
       "120  1971.799915  \n",
       "121  1980.162671  \n",
       "\n",
       "[122 rows x 7 columns]"
      ]
     },
     "execution_count": 6,
     "metadata": {},
     "output_type": "execute_result"
    }
   ],
   "source": [
    "zori = pd.read_csv(\"data/zori_us.csv\")\n",
    "\n",
    "zori"
   ]
  },
  {
   "cell_type": "code",
   "execution_count": 7,
   "metadata": {},
   "outputs": [
    {
     "name": "stderr",
     "output_type": "stream",
     "text": [
      "/var/folders/jd/5wy1jytx2pg8j4jr12tl0k_m0000gq/T/ipykernel_32895/823327755.py:5: SettingWithCopyWarning: \n",
      "A value is trying to be set on a copy of a slice from a DataFrame.\n",
      "Try using .loc[row_indexer,col_indexer] = value instead\n",
      "\n",
      "See the caveats in the documentation: https://pandas.pydata.org/pandas-docs/stable/user_guide/indexing.html#returning-a-view-versus-a-copy\n",
      "  zori[\"date\"] = pd.to_datetime(zori[\"date\"])\n"
     ]
    },
    {
     "data": {
      "application/vnd.microsoft.datawrangler.viewer.v0+json": {
       "columns": [
        {
         "name": "index",
         "rawType": "int64",
         "type": "integer"
        },
        {
         "name": "date",
         "rawType": "datetime64[ns]",
         "type": "datetime"
        },
        {
         "name": "zori",
         "rawType": "float64",
         "type": "float"
        }
       ],
       "conversionMethod": "pd.DataFrame",
       "ref": "708fcd47-8e4d-4356-b7c7-63508114d2a8",
       "rows": [
        [
         "0",
         "2015-01-31 00:00:00",
         "1197.1350144390412"
        ],
        [
         "1",
         "2015-02-28 00:00:00",
         "1203.6685969017312"
        ],
        [
         "2",
         "2015-03-31 00:00:00",
         "1212.6390467139431"
        ],
        [
         "3",
         "2015-04-30 00:00:00",
         "1221.6596196392493"
        ],
        [
         "4",
         "2015-05-31 00:00:00",
         "1230.896254045345"
        ],
        [
         "5",
         "2015-06-30 00:00:00",
         "1238.798847158442"
        ],
        [
         "6",
         "2015-07-31 00:00:00",
         "1244.7539204182103"
        ],
        [
         "7",
         "2015-08-31 00:00:00",
         "1248.3634863548702"
        ],
        [
         "8",
         "2015-09-30 00:00:00",
         "1250.419375375022"
        ],
        [
         "9",
         "2015-10-31 00:00:00",
         "1250.873693177042"
        ],
        [
         "10",
         "2015-11-30 00:00:00",
         "1251.3681728489476"
        ],
        [
         "11",
         "2015-12-31 00:00:00",
         "1251.8174310889287"
        ],
        [
         "12",
         "2016-01-31 00:00:00",
         "1254.9668152813192"
        ],
        [
         "13",
         "2016-02-29 00:00:00",
         "1259.9545784933823"
        ],
        [
         "14",
         "2016-03-31 00:00:00",
         "1266.261236256386"
        ],
        [
         "15",
         "2016-04-30 00:00:00",
         "1274.189811977728"
        ],
        [
         "16",
         "2016-05-31 00:00:00",
         "1282.4556132634325"
        ],
        [
         "17",
         "2016-06-30 00:00:00",
         "1290.703744306952"
        ],
        [
         "18",
         "2016-07-31 00:00:00",
         "1295.5190960599552"
        ],
        [
         "19",
         "2016-08-31 00:00:00",
         "1297.7199798852257"
        ],
        [
         "20",
         "2016-09-30 00:00:00",
         "1297.644693184994"
        ],
        [
         "21",
         "2016-10-31 00:00:00",
         "1296.176769117351"
        ],
        [
         "22",
         "2016-11-30 00:00:00",
         "1295.0294941831498"
        ],
        [
         "23",
         "2016-12-31 00:00:00",
         "1294.2003343834604"
        ],
        [
         "24",
         "2017-01-31 00:00:00",
         "1298.8907394526389"
        ],
        [
         "25",
         "2017-02-28 00:00:00",
         "1306.59860884023"
        ],
        [
         "26",
         "2017-03-31 00:00:00",
         "1318.315378007976"
        ],
        [
         "27",
         "2017-04-30 00:00:00",
         "1328.1044469448411"
        ],
        [
         "28",
         "2017-05-31 00:00:00",
         "1337.4716286155467"
        ],
        [
         "29",
         "2017-06-30 00:00:00",
         "1344.6466721381555"
        ],
        [
         "30",
         "2017-07-31 00:00:00",
         "1349.5817470403924"
        ],
        [
         "31",
         "2017-08-31 00:00:00",
         "1351.245947801619"
        ],
        [
         "32",
         "2017-09-30 00:00:00",
         "1351.5123710234634"
        ],
        [
         "33",
         "2017-10-31 00:00:00",
         "1349.9696588787783"
        ],
        [
         "34",
         "2017-11-30 00:00:00",
         "1349.8149462411066"
        ],
        [
         "35",
         "2017-12-31 00:00:00",
         "1350.730164612941"
        ],
        [
         "36",
         "2018-01-31 00:00:00",
         "1355.5768255026746"
        ],
        [
         "37",
         "2018-02-28 00:00:00",
         "1363.1007398658032"
        ],
        [
         "38",
         "2018-03-31 00:00:00",
         "1372.7415457370664"
        ],
        [
         "39",
         "2018-04-30 00:00:00",
         "1382.4470835830305"
        ],
        [
         "40",
         "2018-05-31 00:00:00",
         "1390.73401507916"
        ],
        [
         "41",
         "2018-06-30 00:00:00",
         "1398.3340806062556"
        ],
        [
         "42",
         "2018-07-31 00:00:00",
         "1403.7965550190042"
        ],
        [
         "43",
         "2018-08-31 00:00:00",
         "1407.0955675096989"
        ],
        [
         "44",
         "2018-09-30 00:00:00",
         "1406.547955575328"
        ],
        [
         "45",
         "2018-10-31 00:00:00",
         "1405.7579100097678"
        ],
        [
         "46",
         "2018-11-30 00:00:00",
         "1406.3563031816836"
        ],
        [
         "47",
         "2018-12-31 00:00:00",
         "1408.4583496558107"
        ],
        [
         "48",
         "2019-01-31 00:00:00",
         "1412.7616335745154"
        ],
        [
         "49",
         "2019-02-28 00:00:00",
         "1418.9047221105054"
        ]
       ],
       "shape": {
        "columns": 2,
        "rows": 122
       }
      },
      "text/html": [
       "<div>\n",
       "<style scoped>\n",
       "    .dataframe tbody tr th:only-of-type {\n",
       "        vertical-align: middle;\n",
       "    }\n",
       "\n",
       "    .dataframe tbody tr th {\n",
       "        vertical-align: top;\n",
       "    }\n",
       "\n",
       "    .dataframe thead th {\n",
       "        text-align: right;\n",
       "    }\n",
       "</style>\n",
       "<table border=\"1\" class=\"dataframe\">\n",
       "  <thead>\n",
       "    <tr style=\"text-align: right;\">\n",
       "      <th></th>\n",
       "      <th>date</th>\n",
       "      <th>zori</th>\n",
       "    </tr>\n",
       "  </thead>\n",
       "  <tbody>\n",
       "    <tr>\n",
       "      <th>0</th>\n",
       "      <td>2015-01-31</td>\n",
       "      <td>1197.135014</td>\n",
       "    </tr>\n",
       "    <tr>\n",
       "      <th>1</th>\n",
       "      <td>2015-02-28</td>\n",
       "      <td>1203.668597</td>\n",
       "    </tr>\n",
       "    <tr>\n",
       "      <th>2</th>\n",
       "      <td>2015-03-31</td>\n",
       "      <td>1212.639047</td>\n",
       "    </tr>\n",
       "    <tr>\n",
       "      <th>3</th>\n",
       "      <td>2015-04-30</td>\n",
       "      <td>1221.659620</td>\n",
       "    </tr>\n",
       "    <tr>\n",
       "      <th>4</th>\n",
       "      <td>2015-05-31</td>\n",
       "      <td>1230.896254</td>\n",
       "    </tr>\n",
       "    <tr>\n",
       "      <th>...</th>\n",
       "      <td>...</td>\n",
       "      <td>...</td>\n",
       "    </tr>\n",
       "    <tr>\n",
       "      <th>117</th>\n",
       "      <td>2024-10-31</td>\n",
       "      <td>1973.864441</td>\n",
       "    </tr>\n",
       "    <tr>\n",
       "      <th>118</th>\n",
       "      <td>2024-11-30</td>\n",
       "      <td>1970.768273</td>\n",
       "    </tr>\n",
       "    <tr>\n",
       "      <th>119</th>\n",
       "      <td>2024-12-31</td>\n",
       "      <td>1967.300532</td>\n",
       "    </tr>\n",
       "    <tr>\n",
       "      <th>120</th>\n",
       "      <td>2025-01-31</td>\n",
       "      <td>1971.799915</td>\n",
       "    </tr>\n",
       "    <tr>\n",
       "      <th>121</th>\n",
       "      <td>2025-02-28</td>\n",
       "      <td>1980.162671</td>\n",
       "    </tr>\n",
       "  </tbody>\n",
       "</table>\n",
       "<p>122 rows × 2 columns</p>\n",
       "</div>"
      ],
      "text/plain": [
       "          date         zori\n",
       "0   2015-01-31  1197.135014\n",
       "1   2015-02-28  1203.668597\n",
       "2   2015-03-31  1212.639047\n",
       "3   2015-04-30  1221.659620\n",
       "4   2015-05-31  1230.896254\n",
       "..         ...          ...\n",
       "117 2024-10-31  1973.864441\n",
       "118 2024-11-30  1970.768273\n",
       "119 2024-12-31  1967.300532\n",
       "120 2025-01-31  1971.799915\n",
       "121 2025-02-28  1980.162671\n",
       "\n",
       "[122 rows x 2 columns]"
      ]
     },
     "execution_count": 7,
     "metadata": {},
     "output_type": "execute_result"
    }
   ],
   "source": [
    "\n",
    "# restrict to cols of interest\n",
    "zori = zori[[\"date\", \"zori\"]]\n",
    "\n",
    "# convert date to datetime\n",
    "zori[\"date\"] = pd.to_datetime(zori[\"date\"])\n",
    "\n",
    "zori"
   ]
  },
  {
   "cell_type": "code",
   "execution_count": 8,
   "metadata": {},
   "outputs": [
    {
     "data": {
      "text/plain": [
       "date    datetime64[ns]\n",
       "zori           float64\n",
       "dtype: object"
      ]
     },
     "execution_count": 8,
     "metadata": {},
     "output_type": "execute_result"
    }
   ],
   "source": [
    "zori.dtypes"
   ]
  },
  {
   "cell_type": "code",
   "execution_count": 9,
   "metadata": {},
   "outputs": [
    {
     "name": "stderr",
     "output_type": "stream",
     "text": [
      "/var/folders/jd/5wy1jytx2pg8j4jr12tl0k_m0000gq/T/ipykernel_32895/3726904441.py:2: SettingWithCopyWarning: \n",
      "A value is trying to be set on a copy of a slice from a DataFrame.\n",
      "Try using .loc[row_indexer,col_indexer] = value instead\n",
      "\n",
      "See the caveats in the documentation: https://pandas.pydata.org/pandas-docs/stable/user_guide/indexing.html#returning-a-view-versus-a-copy\n",
      "  zori[\"date\"] = zori[\"date\"] + pd.offsets.MonthBegin(-1)\n"
     ]
    },
    {
     "data": {
      "application/vnd.microsoft.datawrangler.viewer.v0+json": {
       "columns": [
        {
         "name": "index",
         "rawType": "int64",
         "type": "integer"
        },
        {
         "name": "date",
         "rawType": "datetime64[ns]",
         "type": "datetime"
        },
        {
         "name": "zori",
         "rawType": "float64",
         "type": "float"
        }
       ],
       "conversionMethod": "pd.DataFrame",
       "ref": "dcc4e1d7-0833-42f6-9b95-66050421051d",
       "rows": [
        [
         "0",
         "2015-01-01 00:00:00",
         "1197.1350144390412"
        ],
        [
         "1",
         "2015-02-01 00:00:00",
         "1203.6685969017312"
        ],
        [
         "2",
         "2015-03-01 00:00:00",
         "1212.6390467139431"
        ],
        [
         "3",
         "2015-04-01 00:00:00",
         "1221.6596196392493"
        ],
        [
         "4",
         "2015-05-01 00:00:00",
         "1230.896254045345"
        ],
        [
         "5",
         "2015-06-01 00:00:00",
         "1238.798847158442"
        ],
        [
         "6",
         "2015-07-01 00:00:00",
         "1244.7539204182103"
        ],
        [
         "7",
         "2015-08-01 00:00:00",
         "1248.3634863548702"
        ],
        [
         "8",
         "2015-09-01 00:00:00",
         "1250.419375375022"
        ],
        [
         "9",
         "2015-10-01 00:00:00",
         "1250.873693177042"
        ],
        [
         "10",
         "2015-11-01 00:00:00",
         "1251.3681728489476"
        ],
        [
         "11",
         "2015-12-01 00:00:00",
         "1251.8174310889287"
        ],
        [
         "12",
         "2016-01-01 00:00:00",
         "1254.9668152813192"
        ],
        [
         "13",
         "2016-02-01 00:00:00",
         "1259.9545784933823"
        ],
        [
         "14",
         "2016-03-01 00:00:00",
         "1266.261236256386"
        ],
        [
         "15",
         "2016-04-01 00:00:00",
         "1274.189811977728"
        ],
        [
         "16",
         "2016-05-01 00:00:00",
         "1282.4556132634325"
        ],
        [
         "17",
         "2016-06-01 00:00:00",
         "1290.703744306952"
        ],
        [
         "18",
         "2016-07-01 00:00:00",
         "1295.5190960599552"
        ],
        [
         "19",
         "2016-08-01 00:00:00",
         "1297.7199798852257"
        ],
        [
         "20",
         "2016-09-01 00:00:00",
         "1297.644693184994"
        ],
        [
         "21",
         "2016-10-01 00:00:00",
         "1296.176769117351"
        ],
        [
         "22",
         "2016-11-01 00:00:00",
         "1295.0294941831498"
        ],
        [
         "23",
         "2016-12-01 00:00:00",
         "1294.2003343834604"
        ],
        [
         "24",
         "2017-01-01 00:00:00",
         "1298.8907394526389"
        ],
        [
         "25",
         "2017-02-01 00:00:00",
         "1306.59860884023"
        ],
        [
         "26",
         "2017-03-01 00:00:00",
         "1318.315378007976"
        ],
        [
         "27",
         "2017-04-01 00:00:00",
         "1328.1044469448411"
        ],
        [
         "28",
         "2017-05-01 00:00:00",
         "1337.4716286155467"
        ],
        [
         "29",
         "2017-06-01 00:00:00",
         "1344.6466721381555"
        ],
        [
         "30",
         "2017-07-01 00:00:00",
         "1349.5817470403924"
        ],
        [
         "31",
         "2017-08-01 00:00:00",
         "1351.245947801619"
        ],
        [
         "32",
         "2017-09-01 00:00:00",
         "1351.5123710234634"
        ],
        [
         "33",
         "2017-10-01 00:00:00",
         "1349.9696588787783"
        ],
        [
         "34",
         "2017-11-01 00:00:00",
         "1349.8149462411066"
        ],
        [
         "35",
         "2017-12-01 00:00:00",
         "1350.730164612941"
        ],
        [
         "36",
         "2018-01-01 00:00:00",
         "1355.5768255026746"
        ],
        [
         "37",
         "2018-02-01 00:00:00",
         "1363.1007398658032"
        ],
        [
         "38",
         "2018-03-01 00:00:00",
         "1372.7415457370664"
        ],
        [
         "39",
         "2018-04-01 00:00:00",
         "1382.4470835830305"
        ],
        [
         "40",
         "2018-05-01 00:00:00",
         "1390.73401507916"
        ],
        [
         "41",
         "2018-06-01 00:00:00",
         "1398.3340806062556"
        ],
        [
         "42",
         "2018-07-01 00:00:00",
         "1403.7965550190042"
        ],
        [
         "43",
         "2018-08-01 00:00:00",
         "1407.0955675096989"
        ],
        [
         "44",
         "2018-09-01 00:00:00",
         "1406.547955575328"
        ],
        [
         "45",
         "2018-10-01 00:00:00",
         "1405.7579100097678"
        ],
        [
         "46",
         "2018-11-01 00:00:00",
         "1406.3563031816836"
        ],
        [
         "47",
         "2018-12-01 00:00:00",
         "1408.4583496558107"
        ],
        [
         "48",
         "2019-01-01 00:00:00",
         "1412.7616335745154"
        ],
        [
         "49",
         "2019-02-01 00:00:00",
         "1418.9047221105054"
        ]
       ],
       "shape": {
        "columns": 2,
        "rows": 122
       }
      },
      "text/html": [
       "<div>\n",
       "<style scoped>\n",
       "    .dataframe tbody tr th:only-of-type {\n",
       "        vertical-align: middle;\n",
       "    }\n",
       "\n",
       "    .dataframe tbody tr th {\n",
       "        vertical-align: top;\n",
       "    }\n",
       "\n",
       "    .dataframe thead th {\n",
       "        text-align: right;\n",
       "    }\n",
       "</style>\n",
       "<table border=\"1\" class=\"dataframe\">\n",
       "  <thead>\n",
       "    <tr style=\"text-align: right;\">\n",
       "      <th></th>\n",
       "      <th>date</th>\n",
       "      <th>zori</th>\n",
       "    </tr>\n",
       "  </thead>\n",
       "  <tbody>\n",
       "    <tr>\n",
       "      <th>0</th>\n",
       "      <td>2015-01-01</td>\n",
       "      <td>1197.135014</td>\n",
       "    </tr>\n",
       "    <tr>\n",
       "      <th>1</th>\n",
       "      <td>2015-02-01</td>\n",
       "      <td>1203.668597</td>\n",
       "    </tr>\n",
       "    <tr>\n",
       "      <th>2</th>\n",
       "      <td>2015-03-01</td>\n",
       "      <td>1212.639047</td>\n",
       "    </tr>\n",
       "    <tr>\n",
       "      <th>3</th>\n",
       "      <td>2015-04-01</td>\n",
       "      <td>1221.659620</td>\n",
       "    </tr>\n",
       "    <tr>\n",
       "      <th>4</th>\n",
       "      <td>2015-05-01</td>\n",
       "      <td>1230.896254</td>\n",
       "    </tr>\n",
       "    <tr>\n",
       "      <th>...</th>\n",
       "      <td>...</td>\n",
       "      <td>...</td>\n",
       "    </tr>\n",
       "    <tr>\n",
       "      <th>117</th>\n",
       "      <td>2024-10-01</td>\n",
       "      <td>1973.864441</td>\n",
       "    </tr>\n",
       "    <tr>\n",
       "      <th>118</th>\n",
       "      <td>2024-11-01</td>\n",
       "      <td>1970.768273</td>\n",
       "    </tr>\n",
       "    <tr>\n",
       "      <th>119</th>\n",
       "      <td>2024-12-01</td>\n",
       "      <td>1967.300532</td>\n",
       "    </tr>\n",
       "    <tr>\n",
       "      <th>120</th>\n",
       "      <td>2025-01-01</td>\n",
       "      <td>1971.799915</td>\n",
       "    </tr>\n",
       "    <tr>\n",
       "      <th>121</th>\n",
       "      <td>2025-02-01</td>\n",
       "      <td>1980.162671</td>\n",
       "    </tr>\n",
       "  </tbody>\n",
       "</table>\n",
       "<p>122 rows × 2 columns</p>\n",
       "</div>"
      ],
      "text/plain": [
       "          date         zori\n",
       "0   2015-01-01  1197.135014\n",
       "1   2015-02-01  1203.668597\n",
       "2   2015-03-01  1212.639047\n",
       "3   2015-04-01  1221.659620\n",
       "4   2015-05-01  1230.896254\n",
       "..         ...          ...\n",
       "117 2024-10-01  1973.864441\n",
       "118 2024-11-01  1970.768273\n",
       "119 2024-12-01  1967.300532\n",
       "120 2025-01-01  1971.799915\n",
       "121 2025-02-01  1980.162671\n",
       "\n",
       "[122 rows x 2 columns]"
      ]
     },
     "execution_count": 9,
     "metadata": {},
     "output_type": "execute_result"
    }
   ],
   "source": [
    "# date is currently the last day of the month, so we need to shift it to the first day of the month\n",
    "zori[\"date\"] = zori[\"date\"] + pd.offsets.MonthBegin(-1)\n",
    "zori"
   ]
  },
  {
   "cell_type": "code",
   "execution_count": 10,
   "metadata": {},
   "outputs": [
    {
     "name": "stderr",
     "output_type": "stream",
     "text": [
      "/var/folders/jd/5wy1jytx2pg8j4jr12tl0k_m0000gq/T/ipykernel_32895/3867379269.py:2: SettingWithCopyWarning: \n",
      "A value is trying to be set on a copy of a slice from a DataFrame.\n",
      "Try using .loc[row_indexer,col_indexer] = value instead\n",
      "\n",
      "See the caveats in the documentation: https://pandas.pydata.org/pandas-docs/stable/user_guide/indexing.html#returning-a-view-versus-a-copy\n",
      "  zori[\"zori_yoy\"] = zori[\"zori\"].pct_change(12)\n"
     ]
    },
    {
     "data": {
      "application/vnd.microsoft.datawrangler.viewer.v0+json": {
       "columns": [
        {
         "name": "index",
         "rawType": "int64",
         "type": "integer"
        },
        {
         "name": "date",
         "rawType": "datetime64[ns]",
         "type": "datetime"
        },
        {
         "name": "zori",
         "rawType": "float64",
         "type": "float"
        },
        {
         "name": "zori_yoy",
         "rawType": "float64",
         "type": "float"
        }
       ],
       "conversionMethod": "pd.DataFrame",
       "ref": "bbd103dc-53dd-4d9f-b64a-c84f5a17d467",
       "rows": [
        [
         "0",
         "2015-01-01 00:00:00",
         "1197.1350144390412",
         null
        ],
        [
         "1",
         "2015-02-01 00:00:00",
         "1203.6685969017312",
         null
        ],
        [
         "2",
         "2015-03-01 00:00:00",
         "1212.6390467139431",
         null
        ],
        [
         "3",
         "2015-04-01 00:00:00",
         "1221.6596196392493",
         null
        ],
        [
         "4",
         "2015-05-01 00:00:00",
         "1230.896254045345",
         null
        ],
        [
         "5",
         "2015-06-01 00:00:00",
         "1238.798847158442",
         null
        ],
        [
         "6",
         "2015-07-01 00:00:00",
         "1244.7539204182103",
         null
        ],
        [
         "7",
         "2015-08-01 00:00:00",
         "1248.3634863548702",
         null
        ],
        [
         "8",
         "2015-09-01 00:00:00",
         "1250.419375375022",
         null
        ],
        [
         "9",
         "2015-10-01 00:00:00",
         "1250.873693177042",
         null
        ],
        [
         "10",
         "2015-11-01 00:00:00",
         "1251.3681728489476",
         null
        ],
        [
         "11",
         "2015-12-01 00:00:00",
         "1251.8174310889287",
         null
        ],
        [
         "12",
         "2016-01-01 00:00:00",
         "1254.9668152813192",
         "0.048308503339013154"
        ],
        [
         "13",
         "2016-02-01 00:00:00",
         "1259.9545784933823",
         "0.04676202547489594"
        ],
        [
         "14",
         "2016-03-01 00:00:00",
         "1266.261236256386",
         "0.04421941523963824"
        ],
        [
         "15",
         "2016-04-01 00:00:00",
         "1274.189811977728",
         "0.04299904121738152"
        ],
        [
         "16",
         "2016-05-01 00:00:00",
         "1282.4556132634325",
         "0.041887656289989916"
        ],
        [
         "17",
         "2016-06-01 00:00:00",
         "1290.703744306952",
         "0.04189937475932415"
        ],
        [
         "18",
         "2016-07-01 00:00:00",
         "1295.5190960599552",
         "0.0407833024737041"
        ],
        [
         "19",
         "2016-08-01 00:00:00",
         "1297.7199798852257",
         "0.039536957040030796"
        ],
        [
         "20",
         "2016-09-01 00:00:00",
         "1297.644693184994",
         "0.03776758321247886"
        ],
        [
         "21",
         "2016-10-01 00:00:00",
         "1296.176769117351",
         "0.03621714661313691"
        ],
        [
         "22",
         "2016-11-01 00:00:00",
         "1295.0294941831498",
         "0.03489086767709626"
        ],
        [
         "23",
         "2016-12-01 00:00:00",
         "1294.2003343834604",
         "0.03385709628413114"
        ],
        [
         "24",
         "2017-01-01 00:00:00",
         "1298.8907394526389",
         "0.03500006823803825"
        ],
        [
         "25",
         "2017-02-01 00:00:00",
         "1306.59860884023",
         "0.0370204062456152"
        ],
        [
         "26",
         "2017-03-01 00:00:00",
         "1318.315378007976",
         "0.04110853294813377"
        ],
        [
         "27",
         "2017-04-01 00:00:00",
         "1328.1044469448411",
         "0.04231287557026531"
        ],
        [
         "28",
         "2017-05-01 00:00:00",
         "1337.4716286155467",
         "0.04289896257081072"
        ],
        [
         "29",
         "2017-06-01 00:00:00",
         "1344.6466721381555",
         "0.041793423215153336"
        ],
        [
         "30",
         "2017-07-01 00:00:00",
         "1349.5817470403924",
         "0.0417304933172018"
        ],
        [
         "31",
         "2017-08-01 00:00:00",
         "1351.245947801619",
         "0.04124616153411398"
        ],
        [
         "32",
         "2017-09-01 00:00:00",
         "1351.5123710234634",
         "0.041511885434721174"
        ],
        [
         "33",
         "2017-10-01 00:00:00",
         "1349.9696588787783",
         "0.041501198789466454"
        ],
        [
         "34",
         "2017-11-01 00:00:00",
         "1349.8149462411066",
         "0.04230440488346798"
        ],
        [
         "35",
         "2017-12-01 00:00:00",
         "1350.730164612941",
         "0.043679350659734384"
        ],
        [
         "36",
         "2018-01-01 00:00:00",
         "1355.5768255026746",
         "0.04364192023874436"
        ],
        [
         "37",
         "2018-02-01 00:00:00",
         "1363.1007398658032",
         "0.04324367915539562"
        ],
        [
         "38",
         "2018-03-01 00:00:00",
         "1372.7415457370664",
         "0.041284633887325395"
        ],
        [
         "39",
         "2018-04-01 00:00:00",
         "1382.4470835830305",
         "0.04091744197016922"
        ],
        [
         "40",
         "2018-05-01 00:00:00",
         "1390.73401507916",
         "0.039823189758983135"
        ],
        [
         "41",
         "2018-06-01 00:00:00",
         "1398.3340806062556",
         "0.03992677748031048"
        ],
        [
         "42",
         "2018-07-01 00:00:00",
         "1403.7965550190042",
         "0.04017156285456869"
        ],
        [
         "43",
         "2018-08-01 00:00:00",
         "1407.0955675096989",
         "0.04133194241873084"
        ],
        [
         "44",
         "2018-09-01 00:00:00",
         "1406.547955575328",
         "0.04072148041840529"
        ],
        [
         "45",
         "2018-10-01 00:00:00",
         "1405.7579100097678",
         "0.04132555925540182"
        ],
        [
         "46",
         "2018-11-01 00:00:00",
         "1406.3563031816836",
         "0.0418882285294222"
        ],
        [
         "47",
         "2018-12-01 00:00:00",
         "1408.4583496558107",
         "0.04273850288922221"
        ],
        [
         "48",
         "2019-01-01 00:00:00",
         "1412.7616335745154",
         "0.04218485223117874"
        ],
        [
         "49",
         "2019-02-01 00:00:00",
         "1418.9047221105054",
         "0.040939000774217194"
        ]
       ],
       "shape": {
        "columns": 3,
        "rows": 122
       }
      },
      "text/html": [
       "<div>\n",
       "<style scoped>\n",
       "    .dataframe tbody tr th:only-of-type {\n",
       "        vertical-align: middle;\n",
       "    }\n",
       "\n",
       "    .dataframe tbody tr th {\n",
       "        vertical-align: top;\n",
       "    }\n",
       "\n",
       "    .dataframe thead th {\n",
       "        text-align: right;\n",
       "    }\n",
       "</style>\n",
       "<table border=\"1\" class=\"dataframe\">\n",
       "  <thead>\n",
       "    <tr style=\"text-align: right;\">\n",
       "      <th></th>\n",
       "      <th>date</th>\n",
       "      <th>zori</th>\n",
       "      <th>zori_yoy</th>\n",
       "    </tr>\n",
       "  </thead>\n",
       "  <tbody>\n",
       "    <tr>\n",
       "      <th>0</th>\n",
       "      <td>2015-01-01</td>\n",
       "      <td>1197.135014</td>\n",
       "      <td>NaN</td>\n",
       "    </tr>\n",
       "    <tr>\n",
       "      <th>1</th>\n",
       "      <td>2015-02-01</td>\n",
       "      <td>1203.668597</td>\n",
       "      <td>NaN</td>\n",
       "    </tr>\n",
       "    <tr>\n",
       "      <th>2</th>\n",
       "      <td>2015-03-01</td>\n",
       "      <td>1212.639047</td>\n",
       "      <td>NaN</td>\n",
       "    </tr>\n",
       "    <tr>\n",
       "      <th>3</th>\n",
       "      <td>2015-04-01</td>\n",
       "      <td>1221.659620</td>\n",
       "      <td>NaN</td>\n",
       "    </tr>\n",
       "    <tr>\n",
       "      <th>4</th>\n",
       "      <td>2015-05-01</td>\n",
       "      <td>1230.896254</td>\n",
       "      <td>NaN</td>\n",
       "    </tr>\n",
       "    <tr>\n",
       "      <th>...</th>\n",
       "      <td>...</td>\n",
       "      <td>...</td>\n",
       "      <td>...</td>\n",
       "    </tr>\n",
       "    <tr>\n",
       "      <th>117</th>\n",
       "      <td>2024-10-01</td>\n",
       "      <td>1973.864441</td>\n",
       "      <td>0.033033</td>\n",
       "    </tr>\n",
       "    <tr>\n",
       "      <th>118</th>\n",
       "      <td>2024-11-01</td>\n",
       "      <td>1970.768273</td>\n",
       "      <td>0.034250</td>\n",
       "    </tr>\n",
       "    <tr>\n",
       "      <th>119</th>\n",
       "      <td>2024-12-01</td>\n",
       "      <td>1967.300532</td>\n",
       "      <td>0.034170</td>\n",
       "    </tr>\n",
       "    <tr>\n",
       "      <th>120</th>\n",
       "      <td>2025-01-01</td>\n",
       "      <td>1971.799915</td>\n",
       "      <td>0.034847</td>\n",
       "    </tr>\n",
       "    <tr>\n",
       "      <th>121</th>\n",
       "      <td>2025-02-01</td>\n",
       "      <td>1980.162671</td>\n",
       "      <td>0.034515</td>\n",
       "    </tr>\n",
       "  </tbody>\n",
       "</table>\n",
       "<p>122 rows × 3 columns</p>\n",
       "</div>"
      ],
      "text/plain": [
       "          date         zori  zori_yoy\n",
       "0   2015-01-01  1197.135014       NaN\n",
       "1   2015-02-01  1203.668597       NaN\n",
       "2   2015-03-01  1212.639047       NaN\n",
       "3   2015-04-01  1221.659620       NaN\n",
       "4   2015-05-01  1230.896254       NaN\n",
       "..         ...          ...       ...\n",
       "117 2024-10-01  1973.864441  0.033033\n",
       "118 2024-11-01  1970.768273  0.034250\n",
       "119 2024-12-01  1967.300532  0.034170\n",
       "120 2025-01-01  1971.799915  0.034847\n",
       "121 2025-02-01  1980.162671  0.034515\n",
       "\n",
       "[122 rows x 3 columns]"
      ]
     },
     "execution_count": 10,
     "metadata": {},
     "output_type": "execute_result"
    }
   ],
   "source": [
    "# add yoy change column\n",
    "zori[\"zori_yoy\"] = zori[\"zori\"].pct_change(12)\n",
    "zori"
   ]
  },
  {
   "cell_type": "code",
   "execution_count": 11,
   "metadata": {},
   "outputs": [
    {
     "data": {
      "application/vnd.microsoft.datawrangler.viewer.v0+json": {
       "columns": [
        {
         "name": "index",
         "rawType": "int64",
         "type": "integer"
        },
        {
         "name": "date",
         "rawType": "datetime64[ns]",
         "type": "datetime"
        },
        {
         "name": "zori_yoy",
         "rawType": "float64",
         "type": "float"
        },
        {
         "name": "cpi_yoy",
         "rawType": "float64",
         "type": "float"
        }
       ],
       "conversionMethod": "pd.DataFrame",
       "ref": "ff6b8ff6-1b8c-476b-96df-ef484a7a72b8",
       "rows": [
        [
         "0",
         "2015-01-01 00:00:00",
         null,
         "-0.002299309782054282"
        ],
        [
         "1",
         "2015-02-01 00:00:00",
         null,
         "-0.0008703146293520536"
        ],
        [
         "2",
         "2015-03-01 00:00:00",
         null,
         "-0.00022031284423873476"
        ],
        [
         "3",
         "2015-04-01 00:00:00",
         null,
         "-0.0010403098939391064"
        ],
        [
         "4",
         "2015-05-01 00:00:00",
         null,
         "0.0003503321824429584"
        ],
        [
         "5",
         "2015-06-01 00:00:00",
         null,
         "0.001795718097550525"
        ],
        [
         "6",
         "2015-07-01 00:00:00",
         null,
         "0.0022568611104094582"
        ],
        [
         "7",
         "2015-08-01 00:00:00",
         null,
         "0.002413037985344868"
        ],
        [
         "8",
         "2015-09-01 00:00:00",
         null,
         "8.842961634170088e-05"
        ],
        [
         "9",
         "2015-10-01 00:00:00",
         null,
         "0.0012761656067050708"
        ],
        [
         "10",
         "2015-11-01 00:00:00",
         null,
         "0.004363182169185187"
        ],
        [
         "11",
         "2015-12-01 00:00:00",
         null,
         "0.006387247515364791"
        ],
        [
         "12",
         "2016-01-01 00:00:00",
         "0.048308503339013154",
         "0.012375025026943876"
        ],
        [
         "13",
         "2016-02-01 00:00:00",
         "0.04676202547489594",
         "0.008472775790126619"
        ],
        [
         "14",
         "2016-03-01 00:00:00",
         "0.04421941523963824",
         "0.008916160965521946"
        ],
        [
         "15",
         "2016-04-01 00:00:00",
         "0.04299904121738152",
         "0.011726257503534843"
        ],
        [
         "16",
         "2016-05-01 00:00:00",
         "0.041887656289989916",
         "0.010784764621246223"
        ],
        [
         "17",
         "2016-06-01 00:00:00",
         "0.04189937475932415",
         "0.010792865347959424"
        ],
        [
         "18",
         "2016-07-01 00:00:00",
         "0.0407833024737041",
         "0.008683633430518256"
        ],
        [
         "19",
         "2016-08-01 00:00:00",
         "0.039536957040030796",
         "0.010553158595656864"
        ],
        [
         "20",
         "2016-09-01 00:00:00",
         "0.03776758321247886",
         "0.015486446201652182"
        ],
        [
         "21",
         "2016-10-01 00:00:00",
         "0.03621714661313691",
         "0.01685924966243646"
        ],
        [
         "22",
         "2016-11-01 00:00:00",
         "0.03489086767709626",
         "0.016843334719788938"
        ],
        [
         "23",
         "2016-12-01 00:00:00",
         "0.03385709628413114",
         "0.020507989115119862"
        ],
        [
         "24",
         "2017-01-01 00:00:00",
         "0.03500006823803825",
         "0.025103933482571117"
        ],
        [
         "25",
         "2017-02-01 00:00:00",
         "0.0370204062456152",
         "0.028103616813294208"
        ],
        [
         "26",
         "2017-03-01 00:00:00",
         "0.04110853294813377",
         "0.0244119623655914"
        ],
        [
         "27",
         "2017-04-01 00:00:00",
         "0.04231287557026531",
         "0.02176223471915395"
        ],
        [
         "28",
         "2017-05-01 00:00:00",
         "0.04289896257081072",
         "0.018563431667619756"
        ],
        [
         "29",
         "2017-06-01 00:00:00",
         "0.041793423215153336",
         "0.01640565809959127"
        ],
        [
         "30",
         "2017-07-01 00:00:00",
         "0.0417304933172018",
         "0.017251073506566073"
        ],
        [
         "31",
         "2017-08-01 00:00:00",
         "0.04124616153411398",
         "0.0192812155729698"
        ],
        [
         "32",
         "2017-09-01 00:00:00",
         "0.041511885434721174",
         "0.021805652303711787"
        ],
        [
         "33",
         "2017-10-01 00:00:00",
         "0.041501198789466454",
         "0.02020757753132485"
        ],
        [
         "34",
         "2017-11-01 00:00:00",
         "0.04230440488346798",
         "0.02172493864295566"
        ],
        [
         "35",
         "2017-12-01 00:00:00",
         "0.043679350659734384",
         "0.021299307195522532"
        ],
        [
         "36",
         "2018-01-01 00:00:00",
         "0.04364192023874436",
         "0.02151318868063945"
        ],
        [
         "37",
         "2018-02-01 00:00:00",
         "0.04324367915539562",
         "0.02263468931091861"
        ],
        [
         "38",
         "2018-03-01 00:00:00",
         "0.041284633887325395",
         "0.023309497646499366"
        ],
        [
         "39",
         "2018-04-01 00:00:00",
         "0.04091744197016922",
         "0.024709963021052994"
        ],
        [
         "40",
         "2018-05-01 00:00:00",
         "0.039823189758983135",
         "0.02781921607842497"
        ],
        [
         "41",
         "2018-06-01 00:00:00",
         "0.03992677748031048",
         "0.028075506935940187"
        ],
        [
         "42",
         "2018-07-01 00:00:00",
         "0.04017156285456869",
         "0.02854124785561929"
        ],
        [
         "43",
         "2018-08-01 00:00:00",
         "0.04133194241873084",
         "0.026429238568742575"
        ],
        [
         "44",
         "2018-09-01 00:00:00",
         "0.04072148041840529",
         "0.02332055105808828"
        ],
        [
         "45",
         "2018-10-01 00:00:00",
         "0.04132555925540182",
         "0.02492032470218053"
        ],
        [
         "46",
         "2018-11-01 00:00:00",
         "0.0418882285294222",
         "0.02147328577667773"
        ],
        [
         "47",
         "2018-12-01 00:00:00",
         "0.04273850288922221",
         "0.020023809043401064"
        ],
        [
         "48",
         "2019-01-01 00:00:00",
         "0.04218485223117874",
         "0.014875893578291333"
        ],
        [
         "49",
         "2019-02-01 00:00:00",
         "0.040939000774217194",
         "0.015188615351321877"
        ]
       ],
       "shape": {
        "columns": 3,
        "rows": 122
       }
      },
      "text/html": [
       "<div>\n",
       "<style scoped>\n",
       "    .dataframe tbody tr th:only-of-type {\n",
       "        vertical-align: middle;\n",
       "    }\n",
       "\n",
       "    .dataframe tbody tr th {\n",
       "        vertical-align: top;\n",
       "    }\n",
       "\n",
       "    .dataframe thead th {\n",
       "        text-align: right;\n",
       "    }\n",
       "</style>\n",
       "<table border=\"1\" class=\"dataframe\">\n",
       "  <thead>\n",
       "    <tr style=\"text-align: right;\">\n",
       "      <th></th>\n",
       "      <th>date</th>\n",
       "      <th>zori_yoy</th>\n",
       "      <th>cpi_yoy</th>\n",
       "    </tr>\n",
       "  </thead>\n",
       "  <tbody>\n",
       "    <tr>\n",
       "      <th>0</th>\n",
       "      <td>2015-01-01</td>\n",
       "      <td>NaN</td>\n",
       "      <td>-0.002299</td>\n",
       "    </tr>\n",
       "    <tr>\n",
       "      <th>1</th>\n",
       "      <td>2015-02-01</td>\n",
       "      <td>NaN</td>\n",
       "      <td>-0.000870</td>\n",
       "    </tr>\n",
       "    <tr>\n",
       "      <th>2</th>\n",
       "      <td>2015-03-01</td>\n",
       "      <td>NaN</td>\n",
       "      <td>-0.000220</td>\n",
       "    </tr>\n",
       "    <tr>\n",
       "      <th>3</th>\n",
       "      <td>2015-04-01</td>\n",
       "      <td>NaN</td>\n",
       "      <td>-0.001040</td>\n",
       "    </tr>\n",
       "    <tr>\n",
       "      <th>4</th>\n",
       "      <td>2015-05-01</td>\n",
       "      <td>NaN</td>\n",
       "      <td>0.000350</td>\n",
       "    </tr>\n",
       "    <tr>\n",
       "      <th>...</th>\n",
       "      <td>...</td>\n",
       "      <td>...</td>\n",
       "      <td>...</td>\n",
       "    </tr>\n",
       "    <tr>\n",
       "      <th>117</th>\n",
       "      <td>2024-10-01</td>\n",
       "      <td>0.033033</td>\n",
       "      <td>0.025714</td>\n",
       "    </tr>\n",
       "    <tr>\n",
       "      <th>118</th>\n",
       "      <td>2024-11-01</td>\n",
       "      <td>0.034250</td>\n",
       "      <td>0.027142</td>\n",
       "    </tr>\n",
       "    <tr>\n",
       "      <th>119</th>\n",
       "      <td>2024-12-01</td>\n",
       "      <td>0.034170</td>\n",
       "      <td>0.028724</td>\n",
       "    </tr>\n",
       "    <tr>\n",
       "      <th>120</th>\n",
       "      <td>2025-01-01</td>\n",
       "      <td>0.034847</td>\n",
       "      <td>0.029994</td>\n",
       "    </tr>\n",
       "    <tr>\n",
       "      <th>121</th>\n",
       "      <td>2025-02-01</td>\n",
       "      <td>0.034515</td>\n",
       "      <td>0.028143</td>\n",
       "    </tr>\n",
       "  </tbody>\n",
       "</table>\n",
       "<p>122 rows × 3 columns</p>\n",
       "</div>"
      ],
      "text/plain": [
       "          date  zori_yoy   cpi_yoy\n",
       "0   2015-01-01       NaN -0.002299\n",
       "1   2015-02-01       NaN -0.000870\n",
       "2   2015-03-01       NaN -0.000220\n",
       "3   2015-04-01       NaN -0.001040\n",
       "4   2015-05-01       NaN  0.000350\n",
       "..         ...       ...       ...\n",
       "117 2024-10-01  0.033033  0.025714\n",
       "118 2024-11-01  0.034250  0.027142\n",
       "119 2024-12-01  0.034170  0.028724\n",
       "120 2025-01-01  0.034847  0.029994\n",
       "121 2025-02-01  0.034515  0.028143\n",
       "\n",
       "[122 rows x 3 columns]"
      ]
     },
     "execution_count": 11,
     "metadata": {},
     "output_type": "execute_result"
    }
   ],
   "source": [
    "# merge the two dataframes\n",
    "# we want to keep all the dates in the zori dataframe\n",
    "# so we use a left join\n",
    "rent_inflation = pd.merge(\n",
    "    zori,\n",
    "    cpi,\n",
    "    on=\"date\",\n",
    "    how=\"left\"\n",
    "    )\n",
    "\n",
    "rent_inflation = rent_inflation[[\"date\", \"zori_yoy\", \"cpi_yoy\"]]\n",
    "\n",
    "rent_inflation"
   ]
  },
  {
   "cell_type": "code",
   "execution_count": 12,
   "metadata": {},
   "outputs": [],
   "source": [
    "# melt the dataframe\n",
    "rent_inflation = rent_inflation.melt(id_vars=\"date\", var_name=\"metric\", value_name=\"yoy_change\")"
   ]
  },
  {
   "cell_type": "code",
   "execution_count": 13,
   "metadata": {},
   "outputs": [],
   "source": [
    "# change the values of the metric column to zori_yoy:Rent and cpi_yoy:CPI\n",
    "# make a dictionary to map the old values to the new values\n",
    "metric_map = {\n",
    "    \"zori_yoy\": \"Rent\",\n",
    "    \"cpi_yoy\": \"CPI\"\n",
    "}\n",
    "\n",
    "# use the map method to change the values\n",
    "rent_inflation[\"metric\"] = rent_inflation[\"metric\"].map(metric_map)"
   ]
  },
  {
   "cell_type": "code",
   "execution_count": 14,
   "metadata": {},
   "outputs": [],
   "source": [
    "# save to csv\n",
    "rent_inflation.to_csv(\"data/rent_inflation.csv\", index=False)"
   ]
  },
  {
   "cell_type": "code",
   "execution_count": null,
   "metadata": {},
   "outputs": [],
   "source": []
  }
 ],
 "metadata": {
  "kernelspec": {
   "display_name": "jupyterlab",
   "language": "python",
   "name": "python3"
  },
  "language_info": {
   "codemirror_mode": {
    "name": "ipython",
    "version": 3
   },
   "file_extension": ".py",
   "mimetype": "text/x-python",
   "name": "python",
   "nbconvert_exporter": "python",
   "pygments_lexer": "ipython3",
   "version": "3.13.2"
  }
 },
 "nbformat": 4,
 "nbformat_minor": 2
}
