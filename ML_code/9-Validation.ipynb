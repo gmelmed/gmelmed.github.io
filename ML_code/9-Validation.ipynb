{
 "cells": [
  {
   "cell_type": "markdown",
   "metadata": {
    "id": "VH_lRvVntr-h"
   },
   "source": [
    "**Dénes Csala**  \n",
    "LSE, 2024  \n",
    "\n",
    "Based on *Elements of Data Science* ([Allen B. Downey](https://allendowney.com), 2021) and *Python Data Science Handbook* ([Jake VanderPlas](https://jakevdp.github.io/PythonDataScienceHandbook/), 2018)\n",
    "\n",
    "License: [MIT](https://mit-license.org/)"
   ]
  },
  {
   "cell_type": "markdown",
   "metadata": {
    "id": "gBFULpKftr-j"
   },
   "source": [
    "# Validation and Model Selection"
   ]
  },
  {
   "cell_type": "markdown",
   "metadata": {
    "id": "ibiDXEqHtr-j"
   },
   "source": [
    "In this section, we'll look at *model evaluation* and the tuning of *hyperparameters*, which are parameters that define the model."
   ]
  },
  {
   "cell_type": "code",
   "execution_count": null,
   "metadata": {
    "executionInfo": {
     "elapsed": 278,
     "status": "ok",
     "timestamp": 1670230609719,
     "user": {
      "displayName": "Dénes Csala",
      "userId": "11284580895088960951"
     },
     "user_tz": 0
    },
    "id": "_l4ZioFatr-j"
   },
   "outputs": [],
   "source": [
    "from __future__ import print_function, division\n",
    "\n",
    "%matplotlib inline\n",
    "import numpy as np\n",
    "import matplotlib.pyplot as plt\n",
    "\n",
    "# plt.style.available # list of available styles\n",
    "plt.style.use('seaborn-v0_8-pastel')"
   ]
  },
  {
   "cell_type": "code",
   "execution_count": null,
   "metadata": {},
   "outputs": [],
   "source": []
  },
  {
   "cell_type": "markdown",
   "metadata": {
    "id": "oJYmyLHFtr-k"
   },
   "source": [
    "## Validating Models\n",
    "\n",
    "One of the most important pieces of machine learning is **model validation**: that is, checking how well your model fits a given dataset. But there are some pitfalls you need to watch out for.\n",
    "\n",
    "Consider the digits example we've been looking at previously. How might we check how well our model fits the data?"
   ]
  },
  {
   "cell_type": "code",
   "execution_count": 3,
   "metadata": {
    "executionInfo": {
     "elapsed": 4165,
     "status": "ok",
     "timestamp": 1670230615695,
     "user": {
      "displayName": "Dénes Csala",
      "userId": "11284580895088960951"
     },
     "user_tz": 0
    },
    "id": "yBqk4gP4tr-k"
   },
   "outputs": [],
   "source": [
    "from sklearn.datasets import load_digits\n",
    "digits = load_digits()\n",
    "X = digits.data\n",
    "y = digits.target"
   ]
  },
  {
   "cell_type": "markdown",
   "metadata": {
    "id": "PcdPtPH2tr-k"
   },
   "source": [
    "Let's fit a K-neighbors classifier"
   ]
  },
  {
   "cell_type": "code",
   "execution_count": 4,
   "metadata": {
    "colab": {
     "base_uri": "https://localhost:8080/"
    },
    "executionInfo": {
     "elapsed": 355,
     "status": "ok",
     "timestamp": 1670230620762,
     "user": {
      "displayName": "Dénes Csala",
      "userId": "11284580895088960951"
     },
     "user_tz": 0
    },
    "id": "Unbnqoaotr-k",
    "outputId": "19785a4f-5c7d-45bd-8989-27a0b3d97919"
   },
   "outputs": [
    {
     "data": {
      "text/plain": [
       "KNeighborsClassifier(n_neighbors=1)"
      ]
     },
     "execution_count": 4,
     "metadata": {},
     "output_type": "execute_result"
    }
   ],
   "source": [
    "from sklearn.neighbors import KNeighborsClassifier\n",
    "knn = KNeighborsClassifier(n_neighbors=1)\n",
    "knn.fit(X, y)"
   ]
  },
  {
   "cell_type": "markdown",
   "metadata": {
    "id": "qkeLDDtitr-l"
   },
   "source": [
    "Now we'll use this classifier to *predict* labels for the data"
   ]
  },
  {
   "cell_type": "code",
   "execution_count": 5,
   "metadata": {
    "executionInfo": {
     "elapsed": 3,
     "status": "ok",
     "timestamp": 1670230623147,
     "user": {
      "displayName": "Dénes Csala",
      "userId": "11284580895088960951"
     },
     "user_tz": 0
    },
    "id": "pS6M19Hptr-l"
   },
   "outputs": [],
   "source": [
    "y_pred = knn.predict(X)"
   ]
  },
  {
   "cell_type": "markdown",
   "metadata": {
    "id": "MUNXwcjQtr-l"
   },
   "source": [
    "Finally, we can check how well our prediction did:"
   ]
  },
  {
   "cell_type": "code",
   "execution_count": 6,
   "metadata": {
    "colab": {
     "base_uri": "https://localhost:8080/"
    },
    "executionInfo": {
     "elapsed": 5,
     "status": "ok",
     "timestamp": 1670230625116,
     "user": {
      "displayName": "Dénes Csala",
      "userId": "11284580895088960951"
     },
     "user_tz": 0
    },
    "id": "QOs5JREEtr-l",
    "outputId": "ddfd7ac9-1ca0-4a12-8900-18bca72deae4"
   },
   "outputs": [
    {
     "name": "stdout",
     "output_type": "stream",
     "text": [
      "1797 / 1797 correct\n"
     ]
    }
   ],
   "source": [
    "print(\"{0} / {1} correct\".format(np.sum(y == y_pred), len(y)))"
   ]
  },
  {
   "cell_type": "markdown",
   "metadata": {
    "id": "dh4J7_TOtr-m"
   },
   "source": [
    "It seems we have a perfect classifier!\n",
    "\n",
    "**Question: what's wrong with this?**"
   ]
  },
  {
   "cell_type": "markdown",
   "metadata": {
    "id": "mIk_JHaCtr-m"
   },
   "source": [
    "## Validation Sets\n",
    "\n",
    "Above we made the mistake of testing our data on the same set of data that was used for training. **This is not generally a good idea**. If we optimize our estimator this way, we will tend to **over-fit** the data: that is, we learn the noise.\n",
    "\n",
    "A better way to test a model is to use a hold-out set which doesn't enter the training. We've seen this before using scikit-learn's train/test split utility:"
   ]
  },
  {
   "cell_type": "code",
   "execution_count": 7,
   "metadata": {
    "colab": {
     "base_uri": "https://localhost:8080/"
    },
    "executionInfo": {
     "elapsed": 4,
     "status": "ok",
     "timestamp": 1670230628519,
     "user": {
      "displayName": "Dénes Csala",
      "userId": "11284580895088960951"
     },
     "user_tz": 0
    },
    "id": "yGNA4tlUtr-m",
    "outputId": "4c41bdfb-8c9d-475b-a81a-82c854a72820"
   },
   "outputs": [
    {
     "data": {
      "text/plain": [
       "((1347, 64), (450, 64))"
      ]
     },
     "execution_count": 7,
     "metadata": {},
     "output_type": "execute_result"
    }
   ],
   "source": [
    "from sklearn.model_selection import train_test_split\n",
    "X_train, X_test, y_train, y_test = train_test_split(X, y)\n",
    "X_train.shape, X_test.shape"
   ]
  },
  {
   "cell_type": "markdown",
   "metadata": {
    "id": "9vKBN5NStr-m"
   },
   "source": [
    "Now we train on the training data, and validate on the test data:"
   ]
  },
  {
   "cell_type": "code",
   "execution_count": 8,
   "metadata": {
    "colab": {
     "base_uri": "https://localhost:8080/"
    },
    "executionInfo": {
     "elapsed": 4,
     "status": "ok",
     "timestamp": 1670230631659,
     "user": {
      "displayName": "Dénes Csala",
      "userId": "11284580895088960951"
     },
     "user_tz": 0
    },
    "id": "4Nb0WwCItr-m",
    "outputId": "d07d0ead-dd96-43c5-c983-4a0078b3891d"
   },
   "outputs": [
    {
     "name": "stdout",
     "output_type": "stream",
     "text": [
      "446 / 450 correct\n"
     ]
    }
   ],
   "source": [
    "knn = KNeighborsClassifier(n_neighbors=1)\n",
    "knn.fit(X_train, y_train)\n",
    "y_pred = knn.predict(X_test)\n",
    "print(\"{0} / {1} correct\".format(np.sum(y_test == y_pred), len(y_test)))"
   ]
  },
  {
   "cell_type": "markdown",
   "metadata": {
    "id": "aBfFee2Btr-m"
   },
   "source": [
    "This gives us a more reliable estimate of how our model is doing.\n",
    "\n",
    "The metric we're using here, comparing the number of matches to the total number of samples, is known as the **accuracy score**, and can be computed using the following routine:"
   ]
  },
  {
   "cell_type": "code",
   "execution_count": 9,
   "metadata": {
    "colab": {
     "base_uri": "https://localhost:8080/"
    },
    "executionInfo": {
     "elapsed": 5,
     "status": "ok",
     "timestamp": 1670230634198,
     "user": {
      "displayName": "Dénes Csala",
      "userId": "11284580895088960951"
     },
     "user_tz": 0
    },
    "id": "0TFvoqQ6tr-m",
    "outputId": "0961b5ff-242e-466b-da41-3292d73c8327"
   },
   "outputs": [
    {
     "data": {
      "text/plain": [
       "0.9911111111111112"
      ]
     },
     "execution_count": 9,
     "metadata": {},
     "output_type": "execute_result"
    }
   ],
   "source": [
    "from sklearn.metrics import accuracy_score\n",
    "accuracy_score(y_test, y_pred)"
   ]
  },
  {
   "cell_type": "markdown",
   "metadata": {
    "id": "Sx5XJVB1tr-n"
   },
   "source": [
    "This can also be computed directly from the ``model.score`` method:"
   ]
  },
  {
   "cell_type": "code",
   "execution_count": 10,
   "metadata": {
    "colab": {
     "base_uri": "https://localhost:8080/"
    },
    "executionInfo": {
     "elapsed": 4,
     "status": "ok",
     "timestamp": 1670230638653,
     "user": {
      "displayName": "Dénes Csala",
      "userId": "11284580895088960951"
     },
     "user_tz": 0
    },
    "id": "Mk--W6OAtr-n",
    "outputId": "630406b9-74a1-4e9c-e5bc-9ee12b111e7d"
   },
   "outputs": [
    {
     "data": {
      "text/plain": [
       "0.9911111111111112"
      ]
     },
     "execution_count": 10,
     "metadata": {},
     "output_type": "execute_result"
    }
   ],
   "source": [
    "knn.score(X_test, y_test)"
   ]
  },
  {
   "cell_type": "markdown",
   "metadata": {
    "id": "XonqL1omtr-n"
   },
   "source": [
    "Using this, we can ask how this changes as we change the model parameters, in this case the number of neighbors:"
   ]
  },
  {
   "cell_type": "code",
   "execution_count": 11,
   "metadata": {
    "colab": {
     "base_uri": "https://localhost:8080/"
    },
    "executionInfo": {
     "elapsed": 1348,
     "status": "ok",
     "timestamp": 1670230642167,
     "user": {
      "displayName": "Dénes Csala",
      "userId": "11284580895088960951"
     },
     "user_tz": 0
    },
    "id": "abC5EVQctr-n",
    "outputId": "ecb03b8c-f11c-43c1-a7ab-cbef9699b705"
   },
   "outputs": [
    {
     "name": "stdout",
     "output_type": "stream",
     "text": [
      "1 0.9911111111111112\n",
      "5 0.9888888888888889\n",
      "10 0.9844444444444445\n",
      "20 0.9844444444444445\n",
      "30 0.9844444444444445\n"
     ]
    }
   ],
   "source": [
    "for n_neighbors in [1, 5, 10, 20, 30]:\n",
    "    knn = KNeighborsClassifier(n_neighbors)\n",
    "    knn.fit(X_train, y_train)\n",
    "    print(n_neighbors, knn.score(X_test, y_test))"
   ]
  },
  {
   "cell_type": "markdown",
   "metadata": {
    "id": "tXQWsxiBtr-n"
   },
   "source": [
    "We see that in this case, a small number of neighbors seems to be the best option."
   ]
  },
  {
   "cell_type": "markdown",
   "metadata": {
    "id": "UhOCFtjstr-n"
   },
   "source": [
    "## Cross-Validation\n",
    "\n",
    "One problem with validation sets is that you \"lose\" some of the data. Above, we've only used 3/4 of the data for the training, and used 1/4 for the validation. Another option is to use **2-fold cross-validation**, where we split the sample in half and perform the validation twice:"
   ]
  },
  {
   "cell_type": "code",
   "execution_count": 12,
   "metadata": {
    "colab": {
     "base_uri": "https://localhost:8080/"
    },
    "executionInfo": {
     "elapsed": 4,
     "status": "ok",
     "timestamp": 1670230648811,
     "user": {
      "displayName": "Dénes Csala",
      "userId": "11284580895088960951"
     },
     "user_tz": 0
    },
    "id": "7ZdttpPitr-o",
    "outputId": "d4bb0ab6-5f91-4294-9dab-7b8dfbf773fa"
   },
   "outputs": [
    {
     "data": {
      "text/plain": [
       "((898, 64), (899, 64))"
      ]
     },
     "execution_count": 12,
     "metadata": {},
     "output_type": "execute_result"
    }
   ],
   "source": [
    "X1, X2, y1, y2 = train_test_split(X, y, test_size=0.5, random_state=0)\n",
    "X1.shape, X2.shape"
   ]
  },
  {
   "cell_type": "code",
   "execution_count": 13,
   "metadata": {
    "colab": {
     "base_uri": "https://localhost:8080/"
    },
    "executionInfo": {
     "elapsed": 2,
     "status": "ok",
     "timestamp": 1670230650399,
     "user": {
      "displayName": "Dénes Csala",
      "userId": "11284580895088960951"
     },
     "user_tz": 0
    },
    "id": "ME5rRayptr-o",
    "outputId": "49cc18d0-8f1e-4598-abcd-da838d1c3930"
   },
   "outputs": [
    {
     "name": "stdout",
     "output_type": "stream",
     "text": [
      "0.9832962138084632\n",
      "0.982202447163515\n"
     ]
    }
   ],
   "source": [
    "print(KNeighborsClassifier(1).fit(X2, y2).score(X1, y1))\n",
    "print(KNeighborsClassifier(1).fit(X1, y1).score(X2, y2))"
   ]
  },
  {
   "cell_type": "markdown",
   "metadata": {
    "id": "59rM1o21tr-o"
   },
   "source": [
    "Thus a two-fold cross-validation gives us two estimates of the score for that parameter.\n",
    "\n",
    "Because this is a bit of a pain to do by hand, scikit-learn has a utility routine to help:"
   ]
  },
  {
   "cell_type": "code",
   "execution_count": 14,
   "metadata": {
    "colab": {
     "base_uri": "https://localhost:8080/"
    },
    "executionInfo": {
     "elapsed": 864,
     "status": "ok",
     "timestamp": 1670230654317,
     "user": {
      "displayName": "Dénes Csala",
      "userId": "11284580895088960951"
     },
     "user_tz": 0
    },
    "id": "jGr8f0mWtr-o",
    "outputId": "f9bc2a43-2972-464d-e8b9-fdd10ab4d70e"
   },
   "outputs": [
    {
     "data": {
      "text/plain": [
       "0.9749627560521414"
      ]
     },
     "execution_count": 14,
     "metadata": {},
     "output_type": "execute_result"
    }
   ],
   "source": [
    "from sklearn.model_selection import cross_val_score\n",
    "cv = cross_val_score(KNeighborsClassifier(1), X, y, cv=10)\n",
    "cv.mean()"
   ]
  },
  {
   "cell_type": "markdown",
   "metadata": {
    "id": "486QZxhgtr-o"
   },
   "source": [
    "### K-fold Cross-Validation\n",
    "\n",
    "Here we've used 2-fold cross-validation. This is just one specialization of $K$-fold cross-validation, where we split the data into $K$ chunks and perform $K$ fits, where each chunk gets a turn as the validation set.\n",
    "We can do this by changing the ``cv`` parameter above. Let's do 10-fold cross-validation:"
   ]
  },
  {
   "cell_type": "code",
   "execution_count": 15,
   "metadata": {
    "colab": {
     "base_uri": "https://localhost:8080/"
    },
    "executionInfo": {
     "elapsed": 2,
     "status": "ok",
     "timestamp": 1670230655230,
     "user": {
      "displayName": "Dénes Csala",
      "userId": "11284580895088960951"
     },
     "user_tz": 0
    },
    "id": "9HdL4GBHtr-p",
    "outputId": "6fa5ff63-6d78-489d-ed06-f2f986c5a924"
   },
   "outputs": [
    {
     "data": {
      "text/plain": [
       "array([0.93333333, 0.99444444, 0.97222222, 0.97222222, 0.96666667,\n",
       "       0.98333333, 0.99444444, 0.98882682, 0.97765363, 0.96648045])"
      ]
     },
     "execution_count": 15,
     "metadata": {},
     "output_type": "execute_result"
    }
   ],
   "source": [
    "cv"
   ]
  },
  {
   "cell_type": "markdown",
   "metadata": {
    "id": "1ti8XDWWtr-p"
   },
   "source": [
    "This gives us an even better idea of how well our model is doing."
   ]
  },
  {
   "cell_type": "markdown",
   "metadata": {
    "id": "Uv-rIPHXtr-p"
   },
   "source": [
    "## Overfitting, Underfitting and Model Selection"
   ]
  },
  {
   "cell_type": "markdown",
   "metadata": {
    "id": "zJ-ImpaFtr-p"
   },
   "source": [
    "Now that we've gone over the basics of validation, and cross-validation, it's time to go into even more depth regarding model selection.\n",
    "\n",
    "The issues associated with validation and \n",
    "cross-validation are some of the most important\n",
    "aspects of the practice of machine learning.  Selecting the optimal model\n",
    "for your data is vital, and is a piece of the problem that is not often\n",
    "appreciated by machine learning practitioners.\n",
    "\n",
    "Of core importance is the following question:\n",
    "\n",
    "**If our estimator is underperforming, how should we move forward?**\n",
    "\n",
    "- Use simpler or more complicated model?\n",
    "- Add more features to each observed data point?\n",
    "- Add more training samples?\n",
    "\n",
    "The answer is often counter-intuitive.  In particular, **Sometimes using a\n",
    "more complicated model will give _worse_ results.**  Also, **Sometimes adding\n",
    "training data will not improve your results.**  The ability to determine\n",
    "what steps will improve your model is what separates the successful machine\n",
    "learning practitioners from the unsuccessful."
   ]
  },
  {
   "cell_type": "markdown",
   "metadata": {
    "id": "3CyL88l_tr-p"
   },
   "source": [
    "### Illustration of the Bias-Variance Tradeoff\n",
    "\n",
    "For this section, we'll work with a simple 1D regression problem.  This will help us to\n",
    "easily visualize the data and the model, and the results generalize easily to  higher-dimensional\n",
    "datasets.  We'll explore a simple **linear regression** problem.\n",
    "This can be accomplished within scikit-learn with the `sklearn.linear_model` module.\n",
    "\n",
    "We'll create a simple nonlinear function that we'd like to fit"
   ]
  },
  {
   "cell_type": "code",
   "execution_count": 16,
   "metadata": {
    "executionInfo": {
     "elapsed": 402,
     "status": "ok",
     "timestamp": 1670230702438,
     "user": {
      "displayName": "Dénes Csala",
      "userId": "11284580895088960951"
     },
     "user_tz": 0
    },
    "id": "-U8JK-sCtr-p"
   },
   "outputs": [],
   "source": [
    "def test_func(x, err=0.5):\n",
    "    y = 10 - 1. / (x + 0.1)\n",
    "    if err > 0:\n",
    "        y = np.random.normal(y, err)\n",
    "    return y"
   ]
  },
  {
   "cell_type": "markdown",
   "metadata": {
    "id": "Y-AoNbn6tr-p"
   },
   "source": [
    "Now let's create a realization of this dataset:"
   ]
  },
  {
   "cell_type": "code",
   "execution_count": 17,
   "metadata": {
    "executionInfo": {
     "elapsed": 2,
     "status": "ok",
     "timestamp": 1670230704701,
     "user": {
      "displayName": "Dénes Csala",
      "userId": "11284580895088960951"
     },
     "user_tz": 0
    },
    "id": "GHqQX2Ritr-p"
   },
   "outputs": [],
   "source": [
    "def make_data(N=40, error=1.0, random_seed=1):\n",
    "    # randomly sample the data\n",
    "    np.random.seed(1)\n",
    "    X = np.random.random(N)[:, np.newaxis]\n",
    "    y = test_func(X.ravel(), error)\n",
    "    \n",
    "    return X, y"
   ]
  },
  {
   "cell_type": "code",
   "execution_count": 18,
   "metadata": {
    "colab": {
     "base_uri": "https://localhost:8080/",
     "height": 347
    },
    "executionInfo": {
     "elapsed": 14,
     "status": "ok",
     "timestamp": 1670230708864,
     "user": {
      "displayName": "Dénes Csala",
      "userId": "11284580895088960951"
     },
     "user_tz": 0
    },
    "id": "ZpcOEM7Ytr-p",
    "outputId": "00a5a368-0ea6-4247-bd17-1f8e889d4594"
   },
   "outputs": [
    {
     "data": {
      "image/png": "[encoded data removed]",
      "text/plain": [
       "<Figure size 576x396 with 1 Axes>"
      ]
     },
     "metadata": {},
     "output_type": "display_data"
    }
   ],
   "source": [
    "X, y = make_data(40, error=1)\n",
    "plt.scatter(X.ravel(), y);"
   ]
  },
  {
   "cell_type": "markdown",
   "metadata": {
    "id": "JLKTDo6-tr-q"
   },
   "source": [
    "Now say we want to perform a regression on this data.  Let's use the built-in linear regression function to compute a fit:"
   ]
  },
  {
   "cell_type": "code",
   "execution_count": 19,
   "metadata": {
    "colab": {
     "base_uri": "https://localhost:8080/",
     "height": 362
    },
    "executionInfo": {
     "elapsed": 2428,
     "status": "ok",
     "timestamp": 1670230714865,
     "user": {
      "displayName": "Dénes Csala",
      "userId": "11284580895088960951"
     },
     "user_tz": 0
    },
    "id": "mE96xCmNtr-q",
    "outputId": "b9a32b15-f13f-491b-bf58-f223ddfb6167"
   },
   "outputs": [
    {
     "data": {
      "image/png": "[encoded data removed]",
      "text/plain": [
       "<Figure size 576x396 with 1 Axes>"
      ]
     },
     "metadata": {},
     "output_type": "display_data"
    }
   ],
   "source": [
    "X_test = np.linspace(-0.1, 1.1, 500)[:, None]\n",
    "\n",
    "from sklearn.linear_model import LinearRegression\n",
    "from sklearn.metrics import mean_squared_error\n",
    "model = LinearRegression()\n",
    "model.fit(X, y)\n",
    "y_test = model.predict(X_test)\n",
    "\n",
    "plt.scatter(X.ravel(), y)\n",
    "plt.plot(X_test.ravel(), y_test)\n",
    "plt.title(\"mean squared error: {0:.3g}\".format(mean_squared_error(model.predict(X), y)));"
   ]
  },
  {
   "cell_type": "markdown",
   "metadata": {
    "id": "YjMahUZ4tr-q"
   },
   "source": [
    "We have fit a straight line to the data, but clearly this model is not a good choice.  We say that this model is **biased**, or that it **under-fits** the data.\n",
    "\n",
    "Let's try to improve this by creating a more complicated model.  We can do this by adding degrees of freedom, and computing a polynomial regression over the inputs. Scikit-learn makes this easy with the ``PolynomialFeatures`` preprocessor, which can be pipelined with a linear regression.\n",
    "\n",
    "Let's make a convenience routine to do this:"
   ]
  },
  {
   "cell_type": "code",
   "execution_count": 20,
   "metadata": {
    "executionInfo": {
     "elapsed": 2,
     "status": "ok",
     "timestamp": 1670230717971,
     "user": {
      "displayName": "Dénes Csala",
      "userId": "11284580895088960951"
     },
     "user_tz": 0
    },
    "id": "3-yn-Ioqtr-q"
   },
   "outputs": [],
   "source": [
    "from sklearn.preprocessing import PolynomialFeatures\n",
    "from sklearn.linear_model import LinearRegression\n",
    "from sklearn.pipeline import make_pipeline\n",
    "\n",
    "def PolynomialRegression(degree=2, **kwargs):\n",
    "    return make_pipeline(PolynomialFeatures(degree),\n",
    "                         LinearRegression(**kwargs))"
   ]
  },
  {
   "cell_type": "markdown",
   "metadata": {
    "id": "ukZjmBiJtr-q"
   },
   "source": [
    "Now we'll use this to fit a quadratic curve to the data."
   ]
  },
  {
   "cell_type": "code",
   "execution_count": 21,
   "metadata": {
    "colab": {
     "base_uri": "https://localhost:8080/",
     "height": 362
    },
    "executionInfo": {
     "elapsed": 10204,
     "status": "ok",
     "timestamp": 1670230729432,
     "user": {
      "displayName": "Dénes Csala",
      "userId": "11284580895088960951"
     },
     "user_tz": 0
    },
    "id": "8i2ss5Gwtr-q",
    "outputId": "daaf1f14-781e-4cf4-805f-281b561063c0"
   },
   "outputs": [
    {
     "data": {
      "image/png": "[encoded data removed]",
      "text/plain": [
       "<Figure size 576x396 with 1 Axes>"
      ]
     },
     "metadata": {},
     "output_type": "display_data"
    }
   ],
   "source": [
    "model = PolynomialRegression(2)\n",
    "model.fit(X, y)\n",
    "y_test = model.predict(X_test)\n",
    "\n",
    "plt.scatter(X.ravel(), y)\n",
    "plt.plot(X_test.ravel(), y_test)\n",
    "plt.title(\"mean squared error: {0:.3g}\".format(mean_squared_error(model.predict(X), y)));"
   ]
  },
  {
   "cell_type": "markdown",
   "metadata": {
    "id": "MQ14lmaStr-q"
   },
   "source": [
    "This reduces the mean squared error, and makes a much better fit.  What happens if we use an even higher-degree polynomial?"
   ]
  },
  {
   "cell_type": "code",
   "execution_count": null,
   "metadata": {
    "id": "5UFrl2q2tr-q"
   },
   "outputs": [],
   "source": [
    "model = PolynomialRegression(30)\n",
    "model.fit(X, y)\n",
    "y_test = model.predict(X_test)\n",
    "\n",
    "plt.scatter(X.ravel(), y)\n",
    "plt.plot(X_test.ravel(), y_test)\n",
    "plt.title(\"mean squared error: {0:.3g}\".format(mean_squared_error(model.predict(X), y)))\n",
    "plt.ylim(-4, 14);"
   ]
  },
  {
   "cell_type": "markdown",
   "metadata": {
    "id": "VqZ8DGnUtr-r"
   },
   "source": [
    "When we increase the degree to this extent, it's clear that the resulting fit is no longer reflecting the true underlying distribution, but is more sensitive to the noise in the training data. For this reason, we call it a **high-variance model**, and we say that it **over-fits** the data."
   ]
  },
  {
   "cell_type": "code",
   "execution_count": null,
   "metadata": {
    "id": "c7KALfyStr-r"
   },
   "outputs": [],
   "source": [
    "from ipywidgets import interact\n",
    "\n",
    "def plot_fit(degree=1, Npts=50):\n",
    "    X, y = make_data(Npts, error=1)\n",
    "    X_test = np.linspace(-0.1, 1.1, 500)[:, None]\n",
    "    \n",
    "    model = PolynomialRegression(degree=degree)\n",
    "    model.fit(X, y)\n",
    "    y_test = model.predict(X_test)\n",
    "\n",
    "    plt.scatter(X.ravel(), y)\n",
    "    plt.plot(X_test.ravel(), y_test)\n",
    "    plt.ylim(-4, 14)\n",
    "    plt.title(\"mean squared error: {0:.2f}\".format(mean_squared_error(model.predict(X), y)))\n",
    "    \n",
    "interact(plot_fit, degree=[1, 30], Npts=[2, 100]);"
   ]
  },
  {
   "cell_type": "markdown",
   "metadata": {
    "id": "3uzCkRf_tr-r"
   },
   "source": [
    "### Detecting Over-fitting with Validation Curves\n",
    "\n",
    "Clearly, computing the error on the training data is not enough (we saw this previously). As above, we can use **cross-validation** to get a better handle on how the model fit is working.\n",
    "\n",
    "Let's do this here, again using the ``validation_curve`` utility. To make things more clear, we'll use a slightly larger dataset:"
   ]
  },
  {
   "cell_type": "code",
   "execution_count": null,
   "metadata": {
    "id": "JETRRS55tr-r",
    "outputId": "d8b8faac-8651-4206-96de-935500dbde66"
   },
   "outputs": [
    {
     "data": {
      "image/png": "[encoded data removed]",
      "text/plain": [
       "<Figure size 576x396 with 1 Axes>"
      ]
     },
     "metadata": {},
     "output_type": "display_data"
    }
   ],
   "source": [
    "X, y = make_data(120, error=1.0)\n",
    "plt.scatter(X, y);"
   ]
  },
  {
   "cell_type": "code",
   "execution_count": null,
   "metadata": {
    "id": "GSsn7nnZtr-r",
    "outputId": "0ee0b7b9-7546-4d49-adae-257c63a550ff"
   },
   "outputs": [
    {
     "name": "stderr",
     "output_type": "stream",
     "text": [
      "/opt/conda/lib/python3.8/site-packages/sklearn/utils/validation.py:70: FutureWarning: Pass param_name=polynomialfeatures__degree, param_range=[ 0  1  2  3  4  5  6  7  8  9 10 11 12 13 14 15 16 17] as keyword args. From version 1.0 (renaming of 0.25) passing these as positional arguments will result in an error\n",
      "  warnings.warn(f\"Pass {args_msg} as keyword args. From version \"\n"
     ]
    }
   ],
   "source": [
    "from sklearn.model_selection import validation_curve\n",
    "\n",
    "def rms_error(model, X, y):\n",
    "    y_pred = model.predict(X)\n",
    "    return np.sqrt(np.mean((y - y_pred) ** 2))\n",
    "\n",
    "degree = np.arange(0, 18)\n",
    "val_train, val_test = validation_curve(PolynomialRegression(), X, y,\n",
    "                                       'polynomialfeatures__degree', degree, cv=7,\n",
    "                                       scoring=rms_error)"
   ]
  },
  {
   "cell_type": "markdown",
   "metadata": {
    "id": "8pVDoHHBtr-r"
   },
   "source": [
    "Now let's plot the validation curves:"
   ]
  },
  {
   "cell_type": "code",
   "execution_count": null,
   "metadata": {
    "id": "4ierZ1QItr-r",
    "outputId": "121f9287-54a6-4a73-9546-05d536c54622"
   },
   "outputs": [
    {
     "data": {
      "image/png": "[encoded data removed]",
      "text/plain": [
       "<Figure size 576x396 with 1 Axes>"
      ]
     },
     "metadata": {},
     "output_type": "display_data"
    }
   ],
   "source": [
    "def plot_with_err(x, data, **kwargs):\n",
    "    mu, std = data.mean(1), data.std(1)\n",
    "    lines = plt.plot(x, mu, '-', **kwargs)\n",
    "    plt.fill_between(x, mu - std, mu + std, edgecolor='none',\n",
    "                     facecolor=lines[0].get_color(), alpha=0.2)\n",
    "\n",
    "plot_with_err(degree, val_train, label='training scores')\n",
    "plot_with_err(degree, val_test, label='validation scores')\n",
    "plt.xlabel('degree'); plt.ylabel('rms error')\n",
    "plt.legend();"
   ]
  },
  {
   "cell_type": "markdown",
   "metadata": {
    "id": "h4Rh9RzDtr-s"
   },
   "source": [
    "Notice the trend here, which is common for this type of plot.\n",
    "\n",
    "1. For a small model complexity, the training error and validation error are very similar. This indicates that the model is **under-fitting** the data: it doesn't have enough complexity to represent the data. Another way of putting it is that this is a **high-bias** model.\n",
    "\n",
    "2. As the model complexity grows, the training and validation scores diverge. This indicates that the model is **over-fitting** the data: it has so much flexibility, that it fits the noise rather than the underlying trend. Another way of putting it is that this is a **high-variance** model.\n",
    "\n",
    "3. Note that the training score (nearly) always improves with model complexity. This is because a more complicated model can fit the noise better, so the model improves. The validation data generally has a sweet spot, which here is around 5 terms.\n",
    "\n",
    "Here's our best-fit model according to the cross-validation:"
   ]
  },
  {
   "cell_type": "code",
   "execution_count": null,
   "metadata": {
    "id": "ZQewef0ntr-s",
    "outputId": "8ef4f42c-030e-4a2b-e474-351cbbeed9ce"
   },
   "outputs": [
    {
     "data": {
      "image/png": "[encoded data removed]",
      "text/plain": [
       "<Figure size 576x396 with 1 Axes>"
      ]
     },
     "metadata": {},
     "output_type": "display_data"
    }
   ],
   "source": [
    "model = PolynomialRegression(4).fit(X, y)\n",
    "plt.scatter(X, y)\n",
    "plt.plot(X_test, model.predict(X_test));"
   ]
  },
  {
   "cell_type": "markdown",
   "metadata": {
    "id": "4f3C75MFtr-s"
   },
   "source": [
    "### Detecting Data Sufficiency with Learning Curves\n",
    "\n",
    "As you might guess, the exact turning-point of the tradeoff between bias and variance is highly dependent on the number of training points used.  Here we'll illustrate the use of *learning curves*, which display this property.\n",
    "\n",
    "The idea is to plot the mean-squared-error for the training and test set as a function of *Number of Training Points*"
   ]
  },
  {
   "cell_type": "code",
   "execution_count": null,
   "metadata": {
    "id": "Xr-mdyN9tr-s"
   },
   "outputs": [],
   "source": [
    "from sklearn.model_selection import learning_curve\n",
    "\n",
    "def plot_learning_curve(degree=3):\n",
    "    train_sizes = np.linspace(0.05, 1, 120)\n",
    "    N_train, val_train, val_test = learning_curve(PolynomialRegression(degree),\n",
    "                                                  X, y, train_sizes, cv=5,\n",
    "                                                  scoring=rms_error)\n",
    "    plot_with_err(N_train, val_train, label='training scores')\n",
    "    plot_with_err(N_train, val_test, label='validation scores')\n",
    "    plt.xlabel('Training Set Size'); plt.ylabel('rms error')\n",
    "    plt.ylim(0, 3)\n",
    "    plt.xlim(5, 80)\n",
    "    plt.legend()"
   ]
  },
  {
   "cell_type": "markdown",
   "metadata": {
    "id": "eQcH8fDVtr-s"
   },
   "source": [
    "Let's see what the learning curves look like for a linear model:"
   ]
  },
  {
   "cell_type": "code",
   "execution_count": null,
   "metadata": {
    "id": "fIZHpZSwtr-s",
    "outputId": "d8cf5507-b062-40e2-e7f2-75ba2df197b6"
   },
   "outputs": [
    {
     "name": "stderr",
     "output_type": "stream",
     "text": [
      "/opt/conda/lib/python3.8/site-packages/sklearn/utils/validation.py:70: FutureWarning: Pass groups=[0.05       0.05798319 0.06596639 0.07394958 0.08193277 0.08991597\n",
      " 0.09789916 0.10588235 0.11386555 0.12184874 0.12983193 0.13781513\n",
      " 0.14579832 0.15378151 0.16176471 0.1697479  0.17773109 0.18571429\n",
      " 0.19369748 0.20168067 0.20966387 0.21764706 0.22563025 0.23361345\n",
      " 0.24159664 0.24957983 0.25756303 0.26554622 0.27352941 0.28151261\n",
      " 0.2894958  0.29747899 0.30546218 0.31344538 0.32142857 0.32941176\n",
      " 0.33739496 0.34537815 0.35336134 0.36134454 0.36932773 0.37731092\n",
      " 0.38529412 0.39327731 0.4012605  0.4092437  0.41722689 0.42521008\n",
      " 0.43319328 0.44117647 0.44915966 0.45714286 0.46512605 0.47310924\n",
      " 0.48109244 0.48907563 0.49705882 0.50504202 0.51302521 0.5210084\n",
      " 0.5289916  0.53697479 0.54495798 0.55294118 0.56092437 0.56890756\n",
      " 0.57689076 0.58487395 0.59285714 0.60084034 0.60882353 0.61680672\n",
      " 0.62478992 0.63277311 0.6407563  0.6487395  0.65672269 0.66470588\n",
      " 0.67268908 0.68067227 0.68865546 0.69663866 0.70462185 0.71260504\n",
      " 0.72058824 0.72857143 0.73655462 0.74453782 0.75252101 0.7605042\n",
      " 0.76848739 0.77647059 0.78445378 0.79243697 0.80042017 0.80840336\n",
      " 0.81638655 0.82436975 0.83235294 0.84033613 0.84831933 0.85630252\n",
      " 0.86428571 0.87226891 0.8802521  0.88823529 0.89621849 0.90420168\n",
      " 0.91218487 0.92016807 0.92815126 0.93613445 0.94411765 0.95210084\n",
      " 0.96008403 0.96806723 0.97605042 0.98403361 0.99201681 1.        ] as keyword args. From version 1.0 (renaming of 0.25) passing these as positional arguments will result in an error\n",
      "  warnings.warn(f\"Pass {args_msg} as keyword args. From version \"\n"
     ]
    },
    {
     "data": {
      "image/png": "[encoded data removed]",
      "text/plain": [
       "<Figure size 576x396 with 1 Axes>"
      ]
     },
     "metadata": {},
     "output_type": "display_data"
    }
   ],
   "source": [
    "plot_learning_curve(1)"
   ]
  },
  {
   "cell_type": "markdown",
   "metadata": {
    "id": "m_UylNV9tr-s"
   },
   "source": [
    "This shows a typical learning curve: for very few training points, there is a large separation between the training and test error, which indicates **over-fitting**.  Given the same model, for a large number of training points, the training and testing errors converge, which indicates potential **under-fitting**.\n",
    "\n",
    "As you add more data points, the training error will never increase, and the testing error will never decrease (why do you think this is?)\n",
    "\n",
    "It is easy to see that, in this plot, if you'd like to reduce the MSE down to the nominal value of 1.0 (which is the magnitude of the scatter we put in when constructing the data), then adding more samples will *never* get you there.  For $d=1$, the two curves have converged and cannot move lower. What about for a larger value of $d$?"
   ]
  },
  {
   "cell_type": "code",
   "execution_count": null,
   "metadata": {
    "id": "DjvU7Tkjtr-s",
    "outputId": "420fcddf-902d-4c7c-a417-b895b00c646f"
   },
   "outputs": [
    {
     "name": "stderr",
     "output_type": "stream",
     "text": [
      "/opt/conda/lib/python3.8/site-packages/sklearn/utils/validation.py:70: FutureWarning: Pass groups=[0.05       0.05798319 0.06596639 0.07394958 0.08193277 0.08991597\n",
      " 0.09789916 0.10588235 0.11386555 0.12184874 0.12983193 0.13781513\n",
      " 0.14579832 0.15378151 0.16176471 0.1697479  0.17773109 0.18571429\n",
      " 0.19369748 0.20168067 0.20966387 0.21764706 0.22563025 0.23361345\n",
      " 0.24159664 0.24957983 0.25756303 0.26554622 0.27352941 0.28151261\n",
      " 0.2894958  0.29747899 0.30546218 0.31344538 0.32142857 0.32941176\n",
      " 0.33739496 0.34537815 0.35336134 0.36134454 0.36932773 0.37731092\n",
      " 0.38529412 0.39327731 0.4012605  0.4092437  0.41722689 0.42521008\n",
      " 0.43319328 0.44117647 0.44915966 0.45714286 0.46512605 0.47310924\n",
      " 0.48109244 0.48907563 0.49705882 0.50504202 0.51302521 0.5210084\n",
      " 0.5289916  0.53697479 0.54495798 0.55294118 0.56092437 0.56890756\n",
      " 0.57689076 0.58487395 0.59285714 0.60084034 0.60882353 0.61680672\n",
      " 0.62478992 0.63277311 0.6407563  0.6487395  0.65672269 0.66470588\n",
      " 0.67268908 0.68067227 0.68865546 0.69663866 0.70462185 0.71260504\n",
      " 0.72058824 0.72857143 0.73655462 0.74453782 0.75252101 0.7605042\n",
      " 0.76848739 0.77647059 0.78445378 0.79243697 0.80042017 0.80840336\n",
      " 0.81638655 0.82436975 0.83235294 0.84033613 0.84831933 0.85630252\n",
      " 0.86428571 0.87226891 0.8802521  0.88823529 0.89621849 0.90420168\n",
      " 0.91218487 0.92016807 0.92815126 0.93613445 0.94411765 0.95210084\n",
      " 0.96008403 0.96806723 0.97605042 0.98403361 0.99201681 1.        ] as keyword args. From version 1.0 (renaming of 0.25) passing these as positional arguments will result in an error\n",
      "  warnings.warn(f\"Pass {args_msg} as keyword args. From version \"\n"
     ]
    },
    {
     "data": {
      "image/png": "[encoded data removed]",
      "text/plain": [
       "<Figure size 576x396 with 1 Axes>"
      ]
     },
     "metadata": {},
     "output_type": "display_data"
    }
   ],
   "source": [
    "plot_learning_curve(3)"
   ]
  },
  {
   "cell_type": "markdown",
   "metadata": {
    "id": "qu5azbkFtr-s"
   },
   "source": [
    "Here we see that by adding more model complexity, we've managed to lower the level of convergence to an rms error of 1.0!\n",
    "\n",
    "What if we get even more complex?"
   ]
  },
  {
   "cell_type": "code",
   "execution_count": null,
   "metadata": {
    "id": "29pJ-huPtr-t",
    "outputId": "0cb6e1b9-005e-4c2f-95f3-d7f7a67a0ae5"
   },
   "outputs": [
    {
     "name": "stderr",
     "output_type": "stream",
     "text": [
      "/opt/conda/lib/python3.8/site-packages/sklearn/utils/validation.py:70: FutureWarning: Pass groups=[0.05       0.05798319 0.06596639 0.07394958 0.08193277 0.08991597\n",
      " 0.09789916 0.10588235 0.11386555 0.12184874 0.12983193 0.13781513\n",
      " 0.14579832 0.15378151 0.16176471 0.1697479  0.17773109 0.18571429\n",
      " 0.19369748 0.20168067 0.20966387 0.21764706 0.22563025 0.23361345\n",
      " 0.24159664 0.24957983 0.25756303 0.26554622 0.27352941 0.28151261\n",
      " 0.2894958  0.29747899 0.30546218 0.31344538 0.32142857 0.32941176\n",
      " 0.33739496 0.34537815 0.35336134 0.36134454 0.36932773 0.37731092\n",
      " 0.38529412 0.39327731 0.4012605  0.4092437  0.41722689 0.42521008\n",
      " 0.43319328 0.44117647 0.44915966 0.45714286 0.46512605 0.47310924\n",
      " 0.48109244 0.48907563 0.49705882 0.50504202 0.51302521 0.5210084\n",
      " 0.5289916  0.53697479 0.54495798 0.55294118 0.56092437 0.56890756\n",
      " 0.57689076 0.58487395 0.59285714 0.60084034 0.60882353 0.61680672\n",
      " 0.62478992 0.63277311 0.6407563  0.6487395  0.65672269 0.66470588\n",
      " 0.67268908 0.68067227 0.68865546 0.69663866 0.70462185 0.71260504\n",
      " 0.72058824 0.72857143 0.73655462 0.74453782 0.75252101 0.7605042\n",
      " 0.76848739 0.77647059 0.78445378 0.79243697 0.80042017 0.80840336\n",
      " 0.81638655 0.82436975 0.83235294 0.84033613 0.84831933 0.85630252\n",
      " 0.86428571 0.87226891 0.8802521  0.88823529 0.89621849 0.90420168\n",
      " 0.91218487 0.92016807 0.92815126 0.93613445 0.94411765 0.95210084\n",
      " 0.96008403 0.96806723 0.97605042 0.98403361 0.99201681 1.        ] as keyword args. From version 1.0 (renaming of 0.25) passing these as positional arguments will result in an error\n",
      "  warnings.warn(f\"Pass {args_msg} as keyword args. From version \"\n"
     ]
    },
    {
     "data": {
      "image/png": "[encoded data removed]",
      "text/plain": [
       "<Figure size 576x396 with 1 Axes>"
      ]
     },
     "metadata": {},
     "output_type": "display_data"
    }
   ],
   "source": [
    "plot_learning_curve(10)"
   ]
  },
  {
   "cell_type": "markdown",
   "metadata": {
    "id": "TQdzWrcMtr-t"
   },
   "source": [
    "For an even more complex model, we still converge, but the convergence only happens for *large* amounts of training data.\n",
    "\n",
    "So we see the following:\n",
    "\n",
    "- you can **cause the lines to converge** by adding more points or by simplifying the model.\n",
    "- you can **bring the convergence error down** only by increasing the complexity of the model.\n",
    "\n",
    "Thus these curves can give you hints about how you might improve a sub-optimal model. If the curves are already close together, you need more model complexity. If the curves are far apart, you might also improve the model by adding more data.\n",
    "\n",
    "To make this more concrete, imagine some telescope data in which the results are not robust enough.  You must think about whether to spend your valuable telescope time observing *more objects* to get a larger training set, or *more attributes of each object* in order to improve the model.  The answer to this question has real consequences, and can be addressed using these metrics."
   ]
  },
  {
   "cell_type": "markdown",
   "metadata": {
    "id": "d9RTygKFtr-t"
   },
   "source": [
    "## Summary\n",
    "\n",
    "We've gone over several useful tools for model validation\n",
    "\n",
    "- The **Training Score** shows how well a model fits the data it was trained on. This is not a good indication of model effectiveness\n",
    "- The **Validation Score** shows how well a model fits hold-out data. The most effective method is some form of cross-validation, where multiple hold-out sets are used.\n",
    "- **Validation Curves** are a plot of validation score and training score as a function of **model complexity**:\n",
    "  + when the two curves are close, it indicates *underfitting*\n",
    "  + when the two curves are separated, it indicates *overfitting*\n",
    "  + the \"sweet spot\" is in the middle\n",
    "- **Learning Curves** are a plot of the validation score and training score as a function of **Number of training samples**\n",
    "  + when the curves are close, it indicates *underfitting*, and adding more data will not generally improve the estimator.\n",
    "  + when the curves are far apart, it indicates *overfitting*, and adding more data may increase the effectiveness of the model.\n",
    "  \n",
    "These tools are powerful means of evaluating your model on your data. Also look up [`f1_score`](https://scikit-learn.org/stable/modules/generated/sklearn.metrics.f1_score.html)."
   ]
  }
 ],
 "metadata": {
  "colab": {
   "collapsed_sections": [
    "3CyL88l_tr-p",
    "3uzCkRf_tr-r",
    "4f3C75MFtr-s"
   ],
   "provenance": [
    {
     "file_id": "10oIVcP6mNqpNhLyPJReSOcg0YpHqS7Mo",
     "timestamp": 1670227469163
    }
   ]
  },
  "kernelspec": {
   "display_name": "Python 3",
   "language": "python",
   "name": "python3"
  },
  "language_info": {
   "codemirror_mode": {
    "name": "ipython",
    "version": 3
   },
   "file_extension": ".py",
   "mimetype": "text/x-python",
   "name": "python",
   "nbconvert_exporter": "python",
   "pygments_lexer": "ipython3",
   "version": "3.8.8"
  }
 },
 "nbformat": 4,
 "nbformat_minor": 0
}
