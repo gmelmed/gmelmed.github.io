{
 "cells": [
  {
   "cell_type": "markdown",
   "metadata": {
    "id": "Ec6Gl91sEnFE"
   },
   "source": [
    "**Dénes Csala**  \n",
    "LSE, 2024  \n",
    "\n",
    "Based on *Elements of Data Science* ([Allen B. Downey](https://allendowney.com), 2021) and *Python Data Science Handbook* ([Jake VanderPlas](https://jakevdp.github.io/PythonDataScienceHandbook/), 2018)\n",
    "\n",
    "License: [MIT](https://mit-license.org/)"
   ]
  },
  {
   "cell_type": "markdown",
   "metadata": {
    "id": "wOvsd1cYEnFH"
   },
   "source": [
    "# An Introduction to scikit-learn: Machine Learning in Python"
   ]
  },
  {
   "cell_type": "markdown",
   "metadata": {
    "id": "_9Nd3cmPEnFI"
   },
   "source": [
    "## Goals of this Tutorial"
   ]
  },
  {
   "cell_type": "markdown",
   "metadata": {
    "id": "u6Zt3OvKEnFI"
   },
   "source": [
    "- **00-Introduce the basics of Machine Learning**, and some skills useful in practice.\n",
    "- **01-Introduce the syntax of scikit-learn**, so that you can make use of the rich toolset available."
   ]
  },
  {
   "cell_type": "markdown",
   "metadata": {
    "id": "o4YRn0trEnFJ"
   },
   "source": [
    "## Schedule:"
   ]
  },
  {
   "cell_type": "markdown",
   "metadata": {
    "id": "2ZCZ5y4iEnFJ"
   },
   "source": [
    "**02.1-Preliminaries: Setup & introduction** (45 min)\n",
    "* Making sure your computer is set-up\n",
    "* What is Machine Learning?\n",
    "* Machine learning data model\n",
    "\n",
    "**02.2-Basic Principles of Machine Learning and the Scikit-learn Interface** (45 min)\n",
    "* Universal machine learning data model\n",
    "* Application demonstrations for methods:\n",
    "  * Unsupervised Learning\n",
    "    - Dimensionality Reduction\n",
    "    - Clustering\n",
    "  * Supervised Learning\n",
    "    - Classification\n",
    "    - Regression\n",
    "* Evaluation of model performance\n",
    "\n",
    "**1-Unsupervised learning in-depth** (2 hrs)\n",
    "* Dimentionality reduction\n",
    "  - Principal Component Analysis\n",
    "* Clustering\n",
    "  - K-means Clustering\n",
    "  \n",
    "**2-Supervised learning in-depth** (2 hrs)\n",
    "* Classification\n",
    "  - Support Vector Machines\n",
    "* Regression\n",
    "  - Decision Trees and Random Forests"
   ]
  },
  {
   "cell_type": "markdown",
   "metadata": {
    "id": "B5hCRV-rEnFM"
   },
   "source": [
    "## Useful Resources"
   ]
  },
  {
   "cell_type": "markdown",
   "metadata": {
    "id": "SNy3__VPEnFM"
   },
   "source": [
    "- **scikit-learn:** http://scikit-learn.org (see especially the narrative documentation)\n",
    "- **matplotlib:** http://matplotlib.org (see especially the gallery section)\n",
    "- **Jupyter:** http://jupyter.org (also check out http://nbviewer.jupyter.org)"
   ]
  }
 ],
 "metadata": {
  "colab": {
   "provenance": []
  },
  "kernelspec": {
   "display_name": "Python 3",
   "language": "python",
   "name": "python3"
  },
  "language_info": {
   "codemirror_mode": {
    "name": "ipython",
    "version": 3
   },
   "file_extension": ".py",
   "mimetype": "text/x-python",
   "name": "python",
   "nbconvert_exporter": "python",
   "pygments_lexer": "ipython3",
   "version": "3.8.8"
  }
 },
 "nbformat": 4,
 "nbformat_minor": 0
}
